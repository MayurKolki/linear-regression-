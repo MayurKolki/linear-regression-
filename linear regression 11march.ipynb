{
 "cells": [
  {
   "cell_type": "code",
   "execution_count": 1,
   "metadata": {},
   "outputs": [],
   "source": [
    "#import libraries\n",
    "import pandas as pd\n",
    "import numpy as np\n"
   ]
  },
  {
   "cell_type": "code",
   "execution_count": 2,
   "metadata": {},
   "outputs": [],
   "source": [
    "#cross- validation\n",
    "\n",
    "from sklearn.model_selection import train_test_split ,KFold"
   ]
  },
  {
   "cell_type": "code",
   "execution_count": 3,
   "metadata": {},
   "outputs": [],
   "source": [
    "#OLS library for linear regression\n",
    "import statsmodels.api as sm"
   ]
  },
  {
   "cell_type": "code",
   "execution_count": 4,
   "metadata": {},
   "outputs": [],
   "source": [
    "#visualisation\n",
    "import pylab\n",
    "import matplotlib.pyplot as plt\n",
    "import seaborn as sns\n"
   ]
  },
  {
   "cell_type": "code",
   "execution_count": 5,
   "metadata": {},
   "outputs": [],
   "source": [
    "from sklearn.metrics import mean_squared_error"
   ]
  },
  {
   "cell_type": "code",
   "execution_count": 6,
   "metadata": {},
   "outputs": [],
   "source": [
    "#\n",
    "import scipy.stats as stats"
   ]
  },
  {
   "cell_type": "code",
   "execution_count": null,
   "metadata": {},
   "outputs": [],
   "source": [
    "#C:\\Users\\mayur\\Desktop\\datascience DELL\\pythonstorage"
   ]
  },
  {
   "cell_type": "code",
   "execution_count": 7,
   "metadata": {},
   "outputs": [],
   "source": [
    "#VIF\n",
    "from statsmodels.stats.outliers_influence import variance_inflation_factor"
   ]
  },
  {
   "cell_type": "code",
   "execution_count": 8,
   "metadata": {},
   "outputs": [],
   "source": [
    "#feature selection for regression [specific]\n",
    "from sklearn.feature_selection import  f_regression\n"
   ]
  },
  {
   "cell_type": "code",
   "execution_count": 9,
   "metadata": {},
   "outputs": [],
   "source": [
    "#read the data \n",
    "path =\"C:/Users/mayur/Desktop/datascience DELL/pythonstorage/prot.csv\"\n",
    "prot=pd.read_csv(path)"
   ]
  },
  {
   "cell_type": "code",
   "execution_count": 10,
   "metadata": {},
   "outputs": [
    {
     "data": {
      "text/html": [
       "<div>\n",
       "<style scoped>\n",
       "    .dataframe tbody tr th:only-of-type {\n",
       "        vertical-align: middle;\n",
       "    }\n",
       "\n",
       "    .dataframe tbody tr th {\n",
       "        vertical-align: top;\n",
       "    }\n",
       "\n",
       "    .dataframe thead th {\n",
       "        text-align: right;\n",
       "    }\n",
       "</style>\n",
       "<table border=\"1\" class=\"dataframe\">\n",
       "  <thead>\n",
       "    <tr style=\"text-align: right;\">\n",
       "      <th></th>\n",
       "      <th>Unnamed: 0</th>\n",
       "      <th>tot_surf_area</th>\n",
       "      <th>npe_area</th>\n",
       "      <th>fa_enpr</th>\n",
       "      <th>RMSD</th>\n",
       "      <th>fa_enppr</th>\n",
       "      <th>molmass_ea</th>\n",
       "      <th>avg_dev</th>\n",
       "      <th>euc_dist</th>\n",
       "      <th>ssp</th>\n",
       "      <th>sdc</th>\n",
       "      <th>X</th>\n",
       "      <th>X.1</th>\n",
       "      <th>s</th>\n",
       "      <th>t</th>\n",
       "      <th>u</th>\n",
       "    </tr>\n",
       "  </thead>\n",
       "  <tbody>\n",
       "    <tr>\n",
       "      <th>0</th>\n",
       "      <td>1</td>\n",
       "      <td>18775.10</td>\n",
       "      <td>5379.74</td>\n",
       "      <td>0.28653</td>\n",
       "      <td>2.555</td>\n",
       "      <td>253.3780</td>\n",
       "      <td>2.543981e+06</td>\n",
       "      <td>316.5880</td>\n",
       "      <td>5729.45</td>\n",
       "      <td>0</td>\n",
       "      <td>21.4332</td>\n",
       "      <td>NaN</td>\n",
       "      <td>NaN</td>\n",
       "      <td>NaN</td>\n",
       "      <td>NaN</td>\n",
       "      <td>NaN</td>\n",
       "    </tr>\n",
       "    <tr>\n",
       "      <th>1</th>\n",
       "      <td>2</td>\n",
       "      <td>6577.95</td>\n",
       "      <td>2216.25</td>\n",
       "      <td>0.33692</td>\n",
       "      <td>10.330</td>\n",
       "      <td>61.6351</td>\n",
       "      <td>8.698915e+05</td>\n",
       "      <td>105.0430</td>\n",
       "      <td>2815.13</td>\n",
       "      <td>0</td>\n",
       "      <td>40.6875</td>\n",
       "      <td>NaN</td>\n",
       "      <td>NaN</td>\n",
       "      <td>NaN</td>\n",
       "      <td>NaN</td>\n",
       "      <td>NaN</td>\n",
       "    </tr>\n",
       "    <tr>\n",
       "      <th>2</th>\n",
       "      <td>3</td>\n",
       "      <td>21164.30</td>\n",
       "      <td>7060.92</td>\n",
       "      <td>0.33362</td>\n",
       "      <td>3.713</td>\n",
       "      <td>254.7890</td>\n",
       "      <td>2.961051e+06</td>\n",
       "      <td>330.0660</td>\n",
       "      <td>5545.96</td>\n",
       "      <td>0</td>\n",
       "      <td>23.4201</td>\n",
       "      <td>NaN</td>\n",
       "      <td>NaN</td>\n",
       "      <td>NaN</td>\n",
       "      <td>NaN</td>\n",
       "      <td>NaN</td>\n",
       "    </tr>\n",
       "    <tr>\n",
       "      <th>3</th>\n",
       "      <td>4</td>\n",
       "      <td>4843.80</td>\n",
       "      <td>1549.68</td>\n",
       "      <td>0.31993</td>\n",
       "      <td>3.669</td>\n",
       "      <td>45.3260</td>\n",
       "      <td>6.840279e+05</td>\n",
       "      <td>66.5513</td>\n",
       "      <td>2116.76</td>\n",
       "      <td>0</td>\n",
       "      <td>43.0780</td>\n",
       "      <td>NaN</td>\n",
       "      <td>NaN</td>\n",
       "      <td>NaN</td>\n",
       "      <td>NaN</td>\n",
       "      <td>NaN</td>\n",
       "    </tr>\n",
       "    <tr>\n",
       "      <th>4</th>\n",
       "      <td>5</td>\n",
       "      <td>7828.61</td>\n",
       "      <td>1805.01</td>\n",
       "      <td>0.23056</td>\n",
       "      <td>2.994</td>\n",
       "      <td>67.0155</td>\n",
       "      <td>1.136108e+06</td>\n",
       "      <td>98.6349</td>\n",
       "      <td>3021.69</td>\n",
       "      <td>0</td>\n",
       "      <td>35.1075</td>\n",
       "      <td>NaN</td>\n",
       "      <td>NaN</td>\n",
       "      <td>NaN</td>\n",
       "      <td>NaN</td>\n",
       "      <td>NaN</td>\n",
       "    </tr>\n",
       "  </tbody>\n",
       "</table>\n",
       "</div>"
      ],
      "text/plain": [
       "   Unnamed: 0  tot_surf_area  npe_area  fa_enpr    RMSD  fa_enppr  \\\n",
       "0           1       18775.10   5379.74  0.28653   2.555  253.3780   \n",
       "1           2        6577.95   2216.25  0.33692  10.330   61.6351   \n",
       "2           3       21164.30   7060.92  0.33362   3.713  254.7890   \n",
       "3           4        4843.80   1549.68  0.31993   3.669   45.3260   \n",
       "4           5        7828.61   1805.01  0.23056   2.994   67.0155   \n",
       "\n",
       "     molmass_ea   avg_dev  euc_dist  ssp      sdc   X  X.1   s   t   u  \n",
       "0  2.543981e+06  316.5880   5729.45    0  21.4332 NaN  NaN NaN NaN NaN  \n",
       "1  8.698915e+05  105.0430   2815.13    0  40.6875 NaN  NaN NaN NaN NaN  \n",
       "2  2.961051e+06  330.0660   5545.96    0  23.4201 NaN  NaN NaN NaN NaN  \n",
       "3  6.840279e+05   66.5513   2116.76    0  43.0780 NaN  NaN NaN NaN NaN  \n",
       "4  1.136108e+06   98.6349   3021.69    0  35.1075 NaN  NaN NaN NaN NaN  "
      ]
     },
     "execution_count": 10,
     "metadata": {},
     "output_type": "execute_result"
    }
   ],
   "source": [
    "prot.head()"
   ]
  },
  {
   "cell_type": "code",
   "execution_count": null,
   "metadata": {},
   "outputs": [],
   "source": []
  },
  {
   "cell_type": "code",
   "execution_count": 11,
   "metadata": {},
   "outputs": [
    {
     "data": {
      "text/plain": [
       "(15220, 16)"
      ]
     },
     "execution_count": 11,
     "metadata": {},
     "output_type": "execute_result"
    }
   ],
   "source": [
    "prot.shape"
   ]
  },
  {
   "cell_type": "code",
   "execution_count": 12,
   "metadata": {},
   "outputs": [],
   "source": [
    "#to change the display settings (to get full view )\n",
    "pd.set_option('display.expand_frame_repr',False)"
   ]
  },
  {
   "cell_type": "code",
   "execution_count": 13,
   "metadata": {},
   "outputs": [
    {
     "data": {
      "text/plain": [
       "Index(['tot_surf_area', 'npe_area', 'fa_enpr', 'RMSD', 'fa_enppr',\n",
       "       'molmass_ea', 'avg_dev', 'euc_dist', 'ssp', 'sdc'],\n",
       "      dtype='object')"
      ]
     },
     "execution_count": 13,
     "metadata": {},
     "output_type": "execute_result"
    }
   ],
   "source": [
    "#remove the unwanted columns\n",
    "prot = prot.drop(['Unnamed: 0','X','X.1','s','t','u'],axis=1)\n",
    "prot.columns"
   ]
  },
  {
   "cell_type": "code",
   "execution_count": 14,
   "metadata": {},
   "outputs": [
    {
     "data": {
      "text/html": [
       "<div>\n",
       "<style scoped>\n",
       "    .dataframe tbody tr th:only-of-type {\n",
       "        vertical-align: middle;\n",
       "    }\n",
       "\n",
       "    .dataframe tbody tr th {\n",
       "        vertical-align: top;\n",
       "    }\n",
       "\n",
       "    .dataframe thead th {\n",
       "        text-align: right;\n",
       "    }\n",
       "</style>\n",
       "<table border=\"1\" class=\"dataframe\">\n",
       "  <thead>\n",
       "    <tr style=\"text-align: right;\">\n",
       "      <th></th>\n",
       "      <th>tot_surf_area</th>\n",
       "      <th>npe_area</th>\n",
       "      <th>fa_enpr</th>\n",
       "      <th>RMSD</th>\n",
       "      <th>fa_enppr</th>\n",
       "      <th>molmass_ea</th>\n",
       "      <th>avg_dev</th>\n",
       "      <th>euc_dist</th>\n",
       "      <th>ssp</th>\n",
       "      <th>sdc</th>\n",
       "    </tr>\n",
       "  </thead>\n",
       "  <tbody>\n",
       "    <tr>\n",
       "      <th>0</th>\n",
       "      <td>18775.10</td>\n",
       "      <td>5379.74</td>\n",
       "      <td>0.28653</td>\n",
       "      <td>2.555</td>\n",
       "      <td>253.3780</td>\n",
       "      <td>2.543981e+06</td>\n",
       "      <td>316.5880</td>\n",
       "      <td>5729.45</td>\n",
       "      <td>0</td>\n",
       "      <td>21.4332</td>\n",
       "    </tr>\n",
       "    <tr>\n",
       "      <th>1</th>\n",
       "      <td>6577.95</td>\n",
       "      <td>2216.25</td>\n",
       "      <td>0.33692</td>\n",
       "      <td>10.330</td>\n",
       "      <td>61.6351</td>\n",
       "      <td>8.698915e+05</td>\n",
       "      <td>105.0430</td>\n",
       "      <td>2815.13</td>\n",
       "      <td>0</td>\n",
       "      <td>40.6875</td>\n",
       "    </tr>\n",
       "    <tr>\n",
       "      <th>2</th>\n",
       "      <td>21164.30</td>\n",
       "      <td>7060.92</td>\n",
       "      <td>0.33362</td>\n",
       "      <td>3.713</td>\n",
       "      <td>254.7890</td>\n",
       "      <td>2.961051e+06</td>\n",
       "      <td>330.0660</td>\n",
       "      <td>5545.96</td>\n",
       "      <td>0</td>\n",
       "      <td>23.4201</td>\n",
       "    </tr>\n",
       "    <tr>\n",
       "      <th>3</th>\n",
       "      <td>4843.80</td>\n",
       "      <td>1549.68</td>\n",
       "      <td>0.31993</td>\n",
       "      <td>3.669</td>\n",
       "      <td>45.3260</td>\n",
       "      <td>6.840279e+05</td>\n",
       "      <td>66.5513</td>\n",
       "      <td>2116.76</td>\n",
       "      <td>0</td>\n",
       "      <td>43.0780</td>\n",
       "    </tr>\n",
       "    <tr>\n",
       "      <th>4</th>\n",
       "      <td>7828.61</td>\n",
       "      <td>1805.01</td>\n",
       "      <td>0.23056</td>\n",
       "      <td>2.994</td>\n",
       "      <td>67.0155</td>\n",
       "      <td>1.136108e+06</td>\n",
       "      <td>98.6349</td>\n",
       "      <td>3021.69</td>\n",
       "      <td>0</td>\n",
       "      <td>35.1075</td>\n",
       "    </tr>\n",
       "    <tr>\n",
       "      <th>...</th>\n",
       "      <td>...</td>\n",
       "      <td>...</td>\n",
       "      <td>...</td>\n",
       "      <td>...</td>\n",
       "      <td>...</td>\n",
       "      <td>...</td>\n",
       "      <td>...</td>\n",
       "      <td>...</td>\n",
       "      <td>...</td>\n",
       "      <td>...</td>\n",
       "    </tr>\n",
       "    <tr>\n",
       "      <th>15215</th>\n",
       "      <td>5208.37</td>\n",
       "      <td>1211.11</td>\n",
       "      <td>0.23253</td>\n",
       "      <td>11.589</td>\n",
       "      <td>37.3163</td>\n",
       "      <td>7.195690e+05</td>\n",
       "      <td>53.8711</td>\n",
       "      <td>2179.13</td>\n",
       "      <td>0</td>\n",
       "      <td>42.9663</td>\n",
       "    </tr>\n",
       "    <tr>\n",
       "      <th>15216</th>\n",
       "      <td>6373.14</td>\n",
       "      <td>1340.73</td>\n",
       "      <td>0.21037</td>\n",
       "      <td>1.244</td>\n",
       "      <td>55.2862</td>\n",
       "      <td>8.781791e+05</td>\n",
       "      <td>85.5822</td>\n",
       "      <td>2778.01</td>\n",
       "      <td>0</td>\n",
       "      <td>40.3261</td>\n",
       "    </tr>\n",
       "    <tr>\n",
       "      <th>15217</th>\n",
       "      <td>9871.42</td>\n",
       "      <td>2768.37</td>\n",
       "      <td>0.28044</td>\n",
       "      <td>15.765</td>\n",
       "      <td>96.7039</td>\n",
       "      <td>1.398243e+06</td>\n",
       "      <td>116.0890</td>\n",
       "      <td>3700.61</td>\n",
       "      <td>0</td>\n",
       "      <td>34.8643</td>\n",
       "    </tr>\n",
       "    <tr>\n",
       "      <th>15218</th>\n",
       "      <td>9452.72</td>\n",
       "      <td>2370.81</td>\n",
       "      <td>0.25080</td>\n",
       "      <td>1.840</td>\n",
       "      <td>100.9520</td>\n",
       "      <td>1.332037e+06</td>\n",
       "      <td>142.9400</td>\n",
       "      <td>3935.91</td>\n",
       "      <td>0</td>\n",
       "      <td>33.4059</td>\n",
       "    </tr>\n",
       "    <tr>\n",
       "      <th>15219</th>\n",
       "      <td>9211.97</td>\n",
       "      <td>2877.44</td>\n",
       "      <td>0.31235</td>\n",
       "      <td>2.558</td>\n",
       "      <td>106.6190</td>\n",
       "      <td>1.280889e+06</td>\n",
       "      <td>129.1750</td>\n",
       "      <td>3885.18</td>\n",
       "      <td>0</td>\n",
       "      <td>33.9044</td>\n",
       "    </tr>\n",
       "  </tbody>\n",
       "</table>\n",
       "<p>15220 rows × 10 columns</p>\n",
       "</div>"
      ],
      "text/plain": [
       "       tot_surf_area  npe_area  fa_enpr    RMSD  fa_enppr    molmass_ea   avg_dev  euc_dist  ssp      sdc\n",
       "0           18775.10   5379.74  0.28653   2.555  253.3780  2.543981e+06  316.5880   5729.45    0  21.4332\n",
       "1            6577.95   2216.25  0.33692  10.330   61.6351  8.698915e+05  105.0430   2815.13    0  40.6875\n",
       "2           21164.30   7060.92  0.33362   3.713  254.7890  2.961051e+06  330.0660   5545.96    0  23.4201\n",
       "3            4843.80   1549.68  0.31993   3.669   45.3260  6.840279e+05   66.5513   2116.76    0  43.0780\n",
       "4            7828.61   1805.01  0.23056   2.994   67.0155  1.136108e+06   98.6349   3021.69    0  35.1075\n",
       "...              ...       ...      ...     ...       ...           ...       ...       ...  ...      ...\n",
       "15215        5208.37   1211.11  0.23253  11.589   37.3163  7.195690e+05   53.8711   2179.13    0  42.9663\n",
       "15216        6373.14   1340.73  0.21037   1.244   55.2862  8.781791e+05   85.5822   2778.01    0  40.3261\n",
       "15217        9871.42   2768.37  0.28044  15.765   96.7039  1.398243e+06  116.0890   3700.61    0  34.8643\n",
       "15218        9452.72   2370.81  0.25080   1.840  100.9520  1.332037e+06  142.9400   3935.91    0  33.4059\n",
       "15219        9211.97   2877.44  0.31235   2.558  106.6190  1.280889e+06  129.1750   3885.18    0  33.9044\n",
       "\n",
       "[15220 rows x 10 columns]"
      ]
     },
     "execution_count": 14,
     "metadata": {},
     "output_type": "execute_result"
    }
   ],
   "source": [
    "prot"
   ]
  },
  {
   "cell_type": "code",
   "execution_count": 15,
   "metadata": {},
   "outputs": [
    {
     "data": {
      "text/plain": [
       "(15220, 10)"
      ]
     },
     "execution_count": 15,
     "metadata": {},
     "output_type": "execute_result"
    }
   ],
   "source": [
    "#dimension(R,C) \n",
    "prot.shape\n"
   ]
  },
  {
   "cell_type": "code",
   "execution_count": 16,
   "metadata": {},
   "outputs": [
    {
     "data": {
      "text/plain": [
       "15220"
      ]
     },
     "execution_count": 16,
     "metadata": {},
     "output_type": "execute_result"
    }
   ],
   "source": [
    "prot.shape[0]  #total rows "
   ]
  },
  {
   "cell_type": "code",
   "execution_count": 17,
   "metadata": {},
   "outputs": [
    {
     "data": {
      "text/plain": [
       "10"
      ]
     },
     "execution_count": 17,
     "metadata": {},
     "output_type": "execute_result"
    }
   ],
   "source": [
    "prot.shape[1] #total columns "
   ]
  },
  {
   "cell_type": "code",
   "execution_count": 18,
   "metadata": {},
   "outputs": [
    {
     "data": {
      "text/html": [
       "<div>\n",
       "<style scoped>\n",
       "    .dataframe tbody tr th:only-of-type {\n",
       "        vertical-align: middle;\n",
       "    }\n",
       "\n",
       "    .dataframe tbody tr th {\n",
       "        vertical-align: top;\n",
       "    }\n",
       "\n",
       "    .dataframe thead th {\n",
       "        text-align: right;\n",
       "    }\n",
       "</style>\n",
       "<table border=\"1\" class=\"dataframe\">\n",
       "  <thead>\n",
       "    <tr style=\"text-align: right;\">\n",
       "      <th></th>\n",
       "      <th>tot_surf_area</th>\n",
       "      <th>npe_area</th>\n",
       "      <th>fa_enpr</th>\n",
       "      <th>RMSD</th>\n",
       "      <th>fa_enppr</th>\n",
       "      <th>molmass_ea</th>\n",
       "      <th>avg_dev</th>\n",
       "      <th>euc_dist</th>\n",
       "      <th>ssp</th>\n",
       "      <th>sdc</th>\n",
       "    </tr>\n",
       "  </thead>\n",
       "  <tbody>\n",
       "    <tr>\n",
       "      <th>0</th>\n",
       "      <td>18775.10</td>\n",
       "      <td>5379.74</td>\n",
       "      <td>0.28653</td>\n",
       "      <td>2.555</td>\n",
       "      <td>253.3780</td>\n",
       "      <td>2543981.045</td>\n",
       "      <td>316.588</td>\n",
       "      <td>5729.45</td>\n",
       "      <td>0</td>\n",
       "      <td>21.4332</td>\n",
       "    </tr>\n",
       "    <tr>\n",
       "      <th>1</th>\n",
       "      <td>6577.95</td>\n",
       "      <td>2216.25</td>\n",
       "      <td>0.33692</td>\n",
       "      <td>10.330</td>\n",
       "      <td>61.6351</td>\n",
       "      <td>869891.523</td>\n",
       "      <td>105.043</td>\n",
       "      <td>2815.13</td>\n",
       "      <td>0</td>\n",
       "      <td>40.6875</td>\n",
       "    </tr>\n",
       "  </tbody>\n",
       "</table>\n",
       "</div>"
      ],
      "text/plain": [
       "   tot_surf_area  npe_area  fa_enpr    RMSD  fa_enppr   molmass_ea  avg_dev  euc_dist  ssp      sdc\n",
       "0       18775.10   5379.74  0.28653   2.555  253.3780  2543981.045  316.588   5729.45    0  21.4332\n",
       "1        6577.95   2216.25  0.33692  10.330   61.6351   869891.523  105.043   2815.13    0  40.6875"
      ]
     },
     "execution_count": 18,
     "metadata": {},
     "output_type": "execute_result"
    }
   ],
   "source": [
    "#head/tail\n",
    "prot.head(2)"
   ]
  },
  {
   "cell_type": "code",
   "execution_count": 19,
   "metadata": {},
   "outputs": [
    {
     "data": {
      "text/html": [
       "<div>\n",
       "<style scoped>\n",
       "    .dataframe tbody tr th:only-of-type {\n",
       "        vertical-align: middle;\n",
       "    }\n",
       "\n",
       "    .dataframe tbody tr th {\n",
       "        vertical-align: top;\n",
       "    }\n",
       "\n",
       "    .dataframe thead th {\n",
       "        text-align: right;\n",
       "    }\n",
       "</style>\n",
       "<table border=\"1\" class=\"dataframe\">\n",
       "  <thead>\n",
       "    <tr style=\"text-align: right;\">\n",
       "      <th></th>\n",
       "      <th>tot_surf_area</th>\n",
       "      <th>npe_area</th>\n",
       "      <th>fa_enpr</th>\n",
       "      <th>RMSD</th>\n",
       "      <th>fa_enppr</th>\n",
       "      <th>molmass_ea</th>\n",
       "      <th>avg_dev</th>\n",
       "      <th>euc_dist</th>\n",
       "      <th>ssp</th>\n",
       "      <th>sdc</th>\n",
       "    </tr>\n",
       "  </thead>\n",
       "  <tbody>\n",
       "    <tr>\n",
       "      <th>15218</th>\n",
       "      <td>9452.72</td>\n",
       "      <td>2370.81</td>\n",
       "      <td>0.25080</td>\n",
       "      <td>1.840</td>\n",
       "      <td>100.952</td>\n",
       "      <td>1332037.0</td>\n",
       "      <td>142.940</td>\n",
       "      <td>3935.91</td>\n",
       "      <td>0</td>\n",
       "      <td>33.4059</td>\n",
       "    </tr>\n",
       "    <tr>\n",
       "      <th>15219</th>\n",
       "      <td>9211.97</td>\n",
       "      <td>2877.44</td>\n",
       "      <td>0.31235</td>\n",
       "      <td>2.558</td>\n",
       "      <td>106.619</td>\n",
       "      <td>1280889.0</td>\n",
       "      <td>129.175</td>\n",
       "      <td>3885.18</td>\n",
       "      <td>0</td>\n",
       "      <td>33.9044</td>\n",
       "    </tr>\n",
       "  </tbody>\n",
       "</table>\n",
       "</div>"
      ],
      "text/plain": [
       "       tot_surf_area  npe_area  fa_enpr   RMSD  fa_enppr  molmass_ea  avg_dev  euc_dist  ssp      sdc\n",
       "15218        9452.72   2370.81  0.25080  1.840   100.952   1332037.0  142.940   3935.91    0  33.4059\n",
       "15219        9211.97   2877.44  0.31235  2.558   106.619   1280889.0  129.175   3885.18    0  33.9044"
      ]
     },
     "execution_count": 19,
     "metadata": {},
     "output_type": "execute_result"
    }
   ],
   "source": [
    "prot.tail(2)"
   ]
  },
  {
   "cell_type": "code",
   "execution_count": 20,
   "metadata": {},
   "outputs": [
    {
     "data": {
      "text/html": [
       "<div>\n",
       "<style scoped>\n",
       "    .dataframe tbody tr th:only-of-type {\n",
       "        vertical-align: middle;\n",
       "    }\n",
       "\n",
       "    .dataframe tbody tr th {\n",
       "        vertical-align: top;\n",
       "    }\n",
       "\n",
       "    .dataframe thead th {\n",
       "        text-align: right;\n",
       "    }\n",
       "</style>\n",
       "<table border=\"1\" class=\"dataframe\">\n",
       "  <thead>\n",
       "    <tr style=\"text-align: right;\">\n",
       "      <th></th>\n",
       "      <th>tot_surf_area</th>\n",
       "      <th>npe_area</th>\n",
       "      <th>fa_enpr</th>\n",
       "      <th>RMSD</th>\n",
       "      <th>fa_enppr</th>\n",
       "      <th>molmass_ea</th>\n",
       "      <th>avg_dev</th>\n",
       "      <th>euc_dist</th>\n",
       "      <th>ssp</th>\n",
       "      <th>sdc</th>\n",
       "    </tr>\n",
       "  </thead>\n",
       "  <tbody>\n",
       "    <tr>\n",
       "      <th>count</th>\n",
       "      <td>15220.000000</td>\n",
       "      <td>15192.000000</td>\n",
       "      <td>15220.000000</td>\n",
       "      <td>15220.000000</td>\n",
       "      <td>15220.000000</td>\n",
       "      <td>1.522000e+04</td>\n",
       "      <td>15220.000000</td>\n",
       "      <td>15220.000000</td>\n",
       "      <td>15220.0</td>\n",
       "      <td>15220.000000</td>\n",
       "    </tr>\n",
       "    <tr>\n",
       "      <th>mean</th>\n",
       "      <td>9828.036643</td>\n",
       "      <td>3002.560134</td>\n",
       "      <td>0.301851</td>\n",
       "      <td>7.763073</td>\n",
       "      <td>103.202423</td>\n",
       "      <td>1.363997e+06</td>\n",
       "      <td>145.003757</td>\n",
       "      <td>3970.738154</td>\n",
       "      <td>0.0</td>\n",
       "      <td>34.540985</td>\n",
       "    </tr>\n",
       "    <tr>\n",
       "      <th>std</th>\n",
       "      <td>4084.711709</td>\n",
       "      <td>1464.159034</td>\n",
       "      <td>0.062786</td>\n",
       "      <td>6.120841</td>\n",
       "      <td>55.652543</td>\n",
       "      <td>5.655366e+05</td>\n",
       "      <td>70.050058</td>\n",
       "      <td>1738.141666</td>\n",
       "      <td>0.0</td>\n",
       "      <td>5.976616</td>\n",
       "    </tr>\n",
       "    <tr>\n",
       "      <th>min</th>\n",
       "      <td>0.000000</td>\n",
       "      <td>510.530000</td>\n",
       "      <td>0.102600</td>\n",
       "      <td>0.000000</td>\n",
       "      <td>10.310100</td>\n",
       "      <td>3.743155e+05</td>\n",
       "      <td>32.865300</td>\n",
       "      <td>1107.130000</td>\n",
       "      <td>0.0</td>\n",
       "      <td>15.746700</td>\n",
       "    </tr>\n",
       "    <tr>\n",
       "      <th>25%</th>\n",
       "      <td>6895.102500</td>\n",
       "      <td>1974.707500</td>\n",
       "      <td>0.258145</td>\n",
       "      <td>2.306000</td>\n",
       "      <td>63.550925</td>\n",
       "      <td>9.512150e+05</td>\n",
       "      <td>94.482100</td>\n",
       "      <td>3168.862500</td>\n",
       "      <td>0.0</td>\n",
       "      <td>30.471975</td>\n",
       "    </tr>\n",
       "    <tr>\n",
       "      <th>50%</th>\n",
       "      <td>8841.975000</td>\n",
       "      <td>2653.765000</td>\n",
       "      <td>0.299545</td>\n",
       "      <td>5.026500</td>\n",
       "      <td>86.922200</td>\n",
       "      <td>1.230739e+06</td>\n",
       "      <td>124.908000</td>\n",
       "      <td>3821.885000</td>\n",
       "      <td>0.0</td>\n",
       "      <td>35.355650</td>\n",
       "    </tr>\n",
       "    <tr>\n",
       "      <th>75%</th>\n",
       "      <td>12060.850000</td>\n",
       "      <td>3749.602500</td>\n",
       "      <td>0.342545</td>\n",
       "      <td>13.428500</td>\n",
       "      <td>132.978250</td>\n",
       "      <td>1.683800e+06</td>\n",
       "      <td>180.563000</td>\n",
       "      <td>4635.200000</td>\n",
       "      <td>0.0</td>\n",
       "      <td>38.863825</td>\n",
       "    </tr>\n",
       "    <tr>\n",
       "      <th>max</th>\n",
       "      <td>40034.900000</td>\n",
       "      <td>15312.000000</td>\n",
       "      <td>0.569740</td>\n",
       "      <td>20.999000</td>\n",
       "      <td>369.317000</td>\n",
       "      <td>5.472011e+06</td>\n",
       "      <td>598.408000</td>\n",
       "      <td>73461.200000</td>\n",
       "      <td>0.0</td>\n",
       "      <td>54.755100</td>\n",
       "    </tr>\n",
       "  </tbody>\n",
       "</table>\n",
       "</div>"
      ],
      "text/plain": [
       "       tot_surf_area      npe_area       fa_enpr          RMSD      fa_enppr    molmass_ea       avg_dev      euc_dist      ssp           sdc\n",
       "count   15220.000000  15192.000000  15220.000000  15220.000000  15220.000000  1.522000e+04  15220.000000  15220.000000  15220.0  15220.000000\n",
       "mean     9828.036643   3002.560134      0.301851      7.763073    103.202423  1.363997e+06    145.003757   3970.738154      0.0     34.540985\n",
       "std      4084.711709   1464.159034      0.062786      6.120841     55.652543  5.655366e+05     70.050058   1738.141666      0.0      5.976616\n",
       "min         0.000000    510.530000      0.102600      0.000000     10.310100  3.743155e+05     32.865300   1107.130000      0.0     15.746700\n",
       "25%      6895.102500   1974.707500      0.258145      2.306000     63.550925  9.512150e+05     94.482100   3168.862500      0.0     30.471975\n",
       "50%      8841.975000   2653.765000      0.299545      5.026500     86.922200  1.230739e+06    124.908000   3821.885000      0.0     35.355650\n",
       "75%     12060.850000   3749.602500      0.342545     13.428500    132.978250  1.683800e+06    180.563000   4635.200000      0.0     38.863825\n",
       "max     40034.900000  15312.000000      0.569740     20.999000    369.317000  5.472011e+06    598.408000  73461.200000      0.0     54.755100"
      ]
     },
     "execution_count": 20,
     "metadata": {},
     "output_type": "execute_result"
    }
   ],
   "source": [
    "#data summary \n",
    "prot.describe()"
   ]
  },
  {
   "cell_type": "code",
   "execution_count": 21,
   "metadata": {},
   "outputs": [
    {
     "data": {
      "text/plain": [
       "Index(['tot_surf_area', 'npe_area', 'fa_enpr', 'RMSD', 'fa_enppr',\n",
       "       'molmass_ea', 'avg_dev', 'euc_dist', 'ssp', 'sdc'],\n",
       "      dtype='object')"
      ]
     },
     "execution_count": 21,
     "metadata": {},
     "output_type": "execute_result"
    }
   ],
   "source": [
    "prot.columns"
   ]
  },
  {
   "cell_type": "code",
   "execution_count": 22,
   "metadata": {},
   "outputs": [],
   "source": [
    "#from summary , we see column 'ssp' has the measures as 0. so we can remove it from the dataset\n",
    "prot = prot.drop('ssp',axis=1)\n"
   ]
  },
  {
   "cell_type": "code",
   "execution_count": null,
   "metadata": {},
   "outputs": [],
   "source": [
    "#prot = prot.drop('ssp',axis=1)\n",
    "#prot.columns"
   ]
  },
  {
   "cell_type": "code",
   "execution_count": 23,
   "metadata": {},
   "outputs": [
    {
     "data": {
      "text/plain": [
       "Index(['tot_surf_area', 'npe_area', 'fa_enpr', 'RMSD', 'fa_enppr',\n",
       "       'molmass_ea', 'avg_dev', 'euc_dist', 'sdc'],\n",
       "      dtype='object')"
      ]
     },
     "execution_count": 23,
     "metadata": {},
     "output_type": "execute_result"
    }
   ],
   "source": [
    "prot.columns\n"
   ]
  },
  {
   "cell_type": "code",
   "execution_count": null,
   "metadata": {},
   "outputs": [],
   "source": [
    "#check for NULLS and  0 "
   ]
  },
  {
   "cell_type": "code",
   "execution_count": 24,
   "metadata": {},
   "outputs": [
    {
     "data": {
      "text/plain": [
       "tot_surf_area     0\n",
       "npe_area         28\n",
       "fa_enpr           0\n",
       "RMSD              0\n",
       "fa_enppr          0\n",
       "molmass_ea        0\n",
       "avg_dev           0\n",
       "euc_dist          0\n",
       "sdc               0\n",
       "dtype: int64"
      ]
     },
     "execution_count": 24,
     "metadata": {},
     "output_type": "execute_result"
    }
   ],
   "source": [
    "prot.isnull().sum()"
   ]
  },
  {
   "cell_type": "code",
   "execution_count": 25,
   "metadata": {},
   "outputs": [
    {
     "name": "stdout",
     "output_type": "stream",
     "text": [
      "       tot_surf_area  npe_area  fa_enpr    RMSD  fa_enppr    molmass_ea   avg_dev  euc_dist      sdc\n",
      "0           18775.10   5379.74  0.28653   2.555  253.3780  2.543981e+06  316.5880   5729.45  21.4332\n",
      "1            6577.95   2216.25  0.33692  10.330   61.6351  8.698915e+05  105.0430   2815.13  40.6875\n",
      "2           21164.30   7060.92  0.33362   3.713  254.7890  2.961051e+06  330.0660   5545.96  23.4201\n",
      "3            4843.80   1549.68  0.31993   3.669   45.3260  6.840279e+05   66.5513   2116.76  43.0780\n",
      "4            7828.61   1805.01  0.23056   2.994   67.0155  1.136108e+06   98.6349   3021.69  35.1075\n",
      "...              ...       ...      ...     ...       ...           ...       ...       ...      ...\n",
      "15215        5208.37   1211.11  0.23253  11.589   37.3163  7.195690e+05   53.8711   2179.13  42.9663\n",
      "15216        6373.14   1340.73  0.21037   1.244   55.2862  8.781791e+05   85.5822   2778.01  40.3261\n",
      "15217        9871.42   2768.37  0.28044  15.765   96.7039  1.398243e+06  116.0890   3700.61  34.8643\n",
      "15218        9452.72   2370.81  0.25080   1.840  100.9520  1.332037e+06  142.9400   3935.91  33.4059\n",
      "15219        9211.97   2877.44  0.31235   2.558  106.6190  1.280889e+06  129.1750   3885.18  33.9044\n",
      "\n",
      "[15220 rows x 9 columns]\n"
     ]
    }
   ],
   "source": [
    "print(prot)"
   ]
  },
  {
   "cell_type": "code",
   "execution_count": 26,
   "metadata": {},
   "outputs": [
    {
     "data": {
      "text/plain": [
       "count    15192.000000\n",
       "mean      3002.560134\n",
       "std       1464.159034\n",
       "min        510.530000\n",
       "25%       1974.707500\n",
       "50%       2653.765000\n",
       "75%       3749.602500\n",
       "max      15312.000000\n",
       "Name: npe_area, dtype: float64"
      ]
     },
     "execution_count": 26,
     "metadata": {},
     "output_type": "execute_result"
    }
   ],
   "source": [
    "prot.describe()['npe_area']"
   ]
  },
  {
   "cell_type": "code",
   "execution_count": 27,
   "metadata": {},
   "outputs": [
    {
     "data": {
      "text/html": [
       "<div>\n",
       "<style scoped>\n",
       "    .dataframe tbody tr th:only-of-type {\n",
       "        vertical-align: middle;\n",
       "    }\n",
       "\n",
       "    .dataframe tbody tr th {\n",
       "        vertical-align: top;\n",
       "    }\n",
       "\n",
       "    .dataframe thead th {\n",
       "        text-align: right;\n",
       "    }\n",
       "</style>\n",
       "<table border=\"1\" class=\"dataframe\">\n",
       "  <thead>\n",
       "    <tr style=\"text-align: right;\">\n",
       "      <th></th>\n",
       "      <th>tot_surf_area</th>\n",
       "      <th>npe_area</th>\n",
       "    </tr>\n",
       "  </thead>\n",
       "  <tbody>\n",
       "    <tr>\n",
       "      <th>515</th>\n",
       "      <td>12412.90</td>\n",
       "      <td>NaN</td>\n",
       "    </tr>\n",
       "    <tr>\n",
       "      <th>540</th>\n",
       "      <td>8434.65</td>\n",
       "      <td>NaN</td>\n",
       "    </tr>\n",
       "    <tr>\n",
       "      <th>1510</th>\n",
       "      <td>8450.04</td>\n",
       "      <td>NaN</td>\n",
       "    </tr>\n",
       "    <tr>\n",
       "      <th>1784</th>\n",
       "      <td>7764.46</td>\n",
       "      <td>NaN</td>\n",
       "    </tr>\n",
       "    <tr>\n",
       "      <th>2275</th>\n",
       "      <td>8035.16</td>\n",
       "      <td>NaN</td>\n",
       "    </tr>\n",
       "    <tr>\n",
       "      <th>2424</th>\n",
       "      <td>10066.10</td>\n",
       "      <td>NaN</td>\n",
       "    </tr>\n",
       "    <tr>\n",
       "      <th>2650</th>\n",
       "      <td>8557.14</td>\n",
       "      <td>NaN</td>\n",
       "    </tr>\n",
       "    <tr>\n",
       "      <th>3009</th>\n",
       "      <td>9244.16</td>\n",
       "      <td>NaN</td>\n",
       "    </tr>\n",
       "    <tr>\n",
       "      <th>3635</th>\n",
       "      <td>8040.40</td>\n",
       "      <td>NaN</td>\n",
       "    </tr>\n",
       "    <tr>\n",
       "      <th>4421</th>\n",
       "      <td>10030.30</td>\n",
       "      <td>NaN</td>\n",
       "    </tr>\n",
       "    <tr>\n",
       "      <th>4526</th>\n",
       "      <td>8814.64</td>\n",
       "      <td>NaN</td>\n",
       "    </tr>\n",
       "    <tr>\n",
       "      <th>4529</th>\n",
       "      <td>7043.70</td>\n",
       "      <td>NaN</td>\n",
       "    </tr>\n",
       "    <tr>\n",
       "      <th>5214</th>\n",
       "      <td>7507.78</td>\n",
       "      <td>NaN</td>\n",
       "    </tr>\n",
       "    <tr>\n",
       "      <th>6692</th>\n",
       "      <td>7327.64</td>\n",
       "      <td>NaN</td>\n",
       "    </tr>\n",
       "    <tr>\n",
       "      <th>8137</th>\n",
       "      <td>9819.48</td>\n",
       "      <td>NaN</td>\n",
       "    </tr>\n",
       "    <tr>\n",
       "      <th>8782</th>\n",
       "      <td>5605.32</td>\n",
       "      <td>NaN</td>\n",
       "    </tr>\n",
       "    <tr>\n",
       "      <th>9360</th>\n",
       "      <td>8631.96</td>\n",
       "      <td>NaN</td>\n",
       "    </tr>\n",
       "    <tr>\n",
       "      <th>9408</th>\n",
       "      <td>8844.34</td>\n",
       "      <td>NaN</td>\n",
       "    </tr>\n",
       "    <tr>\n",
       "      <th>9718</th>\n",
       "      <td>10836.30</td>\n",
       "      <td>NaN</td>\n",
       "    </tr>\n",
       "    <tr>\n",
       "      <th>10247</th>\n",
       "      <td>9033.37</td>\n",
       "      <td>NaN</td>\n",
       "    </tr>\n",
       "    <tr>\n",
       "      <th>10456</th>\n",
       "      <td>11916.20</td>\n",
       "      <td>NaN</td>\n",
       "    </tr>\n",
       "    <tr>\n",
       "      <th>11071</th>\n",
       "      <td>6409.25</td>\n",
       "      <td>NaN</td>\n",
       "    </tr>\n",
       "    <tr>\n",
       "      <th>11354</th>\n",
       "      <td>7771.39</td>\n",
       "      <td>NaN</td>\n",
       "    </tr>\n",
       "    <tr>\n",
       "      <th>11638</th>\n",
       "      <td>8100.61</td>\n",
       "      <td>NaN</td>\n",
       "    </tr>\n",
       "    <tr>\n",
       "      <th>11681</th>\n",
       "      <td>6519.32</td>\n",
       "      <td>NaN</td>\n",
       "    </tr>\n",
       "    <tr>\n",
       "      <th>12011</th>\n",
       "      <td>7911.82</td>\n",
       "      <td>NaN</td>\n",
       "    </tr>\n",
       "    <tr>\n",
       "      <th>12972</th>\n",
       "      <td>9093.67</td>\n",
       "      <td>NaN</td>\n",
       "    </tr>\n",
       "    <tr>\n",
       "      <th>14708</th>\n",
       "      <td>9315.71</td>\n",
       "      <td>NaN</td>\n",
       "    </tr>\n",
       "  </tbody>\n",
       "</table>\n",
       "</div>"
      ],
      "text/plain": [
       "       tot_surf_area  npe_area\n",
       "515         12412.90       NaN\n",
       "540          8434.65       NaN\n",
       "1510         8450.04       NaN\n",
       "1784         7764.46       NaN\n",
       "2275         8035.16       NaN\n",
       "2424        10066.10       NaN\n",
       "2650         8557.14       NaN\n",
       "3009         9244.16       NaN\n",
       "3635         8040.40       NaN\n",
       "4421        10030.30       NaN\n",
       "4526         8814.64       NaN\n",
       "4529         7043.70       NaN\n",
       "5214         7507.78       NaN\n",
       "6692         7327.64       NaN\n",
       "8137         9819.48       NaN\n",
       "8782         5605.32       NaN\n",
       "9360         8631.96       NaN\n",
       "9408         8844.34       NaN\n",
       "9718        10836.30       NaN\n",
       "10247        9033.37       NaN\n",
       "10456       11916.20       NaN\n",
       "11071        6409.25       NaN\n",
       "11354        7771.39       NaN\n",
       "11638        8100.61       NaN\n",
       "11681        6519.32       NaN\n",
       "12011        7911.82       NaN\n",
       "12972        9093.67       NaN\n",
       "14708        9315.71       NaN"
      ]
     },
     "execution_count": 27,
     "metadata": {},
     "output_type": "execute_result"
    }
   ],
   "source": [
    "prot[['tot_surf_area','npe_area']][prot.npe_area.isnull()]"
   ]
  },
  {
   "cell_type": "code",
   "execution_count": 28,
   "metadata": {},
   "outputs": [
    {
     "data": {
      "text/plain": [
       "Int64Index([  515,   540,  1510,  1784,  2275,  2424,  2650,  3009,  3635,\n",
       "             4421,  4526,  4529,  5214,  6692,  8137,  8782,  9360,  9408,\n",
       "             9718, 10247, 10456, 11071, 11354, 11638, 11681, 12011, 12972,\n",
       "            14708],\n",
       "           dtype='int64')"
      ]
     },
     "execution_count": 28,
     "metadata": {},
     "output_type": "execute_result"
    }
   ],
   "source": [
    "#impute 'npe_area' as 'tot_surf_area'/3 where prot.npe_area =NULL\n",
    "ndx=prot.npe_area[prot.npe_area.isnull()].index\n",
    "ndx"
   ]
  },
  {
   "cell_type": "code",
   "execution_count": 29,
   "metadata": {},
   "outputs": [
    {
     "data": {
      "text/plain": [
       "515     NaN\n",
       "540     NaN\n",
       "1510    NaN\n",
       "1784    NaN\n",
       "2275    NaN\n",
       "2424    NaN\n",
       "2650    NaN\n",
       "3009    NaN\n",
       "3635    NaN\n",
       "4421    NaN\n",
       "4526    NaN\n",
       "4529    NaN\n",
       "5214    NaN\n",
       "6692    NaN\n",
       "8137    NaN\n",
       "8782    NaN\n",
       "9360    NaN\n",
       "9408    NaN\n",
       "9718    NaN\n",
       "10247   NaN\n",
       "10456   NaN\n",
       "11071   NaN\n",
       "11354   NaN\n",
       "11638   NaN\n",
       "11681   NaN\n",
       "12011   NaN\n",
       "12972   NaN\n",
       "14708   NaN\n",
       "Name: npe_area, dtype: float64"
      ]
     },
     "execution_count": 29,
     "metadata": {},
     "output_type": "execute_result"
    }
   ],
   "source": [
    "prot.npe_area[prot.npe_area.isnull()]"
   ]
  },
  {
   "cell_type": "code",
   "execution_count": 30,
   "metadata": {},
   "outputs": [],
   "source": [
    "prot.npe_area[prot.npe_area.isnull()] = prot.tot_surf_area/3"
   ]
  },
  {
   "cell_type": "code",
   "execution_count": 31,
   "metadata": {},
   "outputs": [
    {
     "data": {
      "text/html": [
       "<div>\n",
       "<style scoped>\n",
       "    .dataframe tbody tr th:only-of-type {\n",
       "        vertical-align: middle;\n",
       "    }\n",
       "\n",
       "    .dataframe tbody tr th {\n",
       "        vertical-align: top;\n",
       "    }\n",
       "\n",
       "    .dataframe thead th {\n",
       "        text-align: right;\n",
       "    }\n",
       "</style>\n",
       "<table border=\"1\" class=\"dataframe\">\n",
       "  <thead>\n",
       "    <tr style=\"text-align: right;\">\n",
       "      <th></th>\n",
       "      <th>tot_surf_area</th>\n",
       "      <th>npe_area</th>\n",
       "    </tr>\n",
       "  </thead>\n",
       "  <tbody>\n",
       "    <tr>\n",
       "      <th>515</th>\n",
       "      <td>12412.90</td>\n",
       "      <td>4137.633333</td>\n",
       "    </tr>\n",
       "    <tr>\n",
       "      <th>540</th>\n",
       "      <td>8434.65</td>\n",
       "      <td>2811.550000</td>\n",
       "    </tr>\n",
       "    <tr>\n",
       "      <th>1510</th>\n",
       "      <td>8450.04</td>\n",
       "      <td>2816.680000</td>\n",
       "    </tr>\n",
       "    <tr>\n",
       "      <th>1784</th>\n",
       "      <td>7764.46</td>\n",
       "      <td>2588.153333</td>\n",
       "    </tr>\n",
       "    <tr>\n",
       "      <th>2275</th>\n",
       "      <td>8035.16</td>\n",
       "      <td>2678.386667</td>\n",
       "    </tr>\n",
       "    <tr>\n",
       "      <th>2424</th>\n",
       "      <td>10066.10</td>\n",
       "      <td>3355.366667</td>\n",
       "    </tr>\n",
       "    <tr>\n",
       "      <th>2650</th>\n",
       "      <td>8557.14</td>\n",
       "      <td>2852.380000</td>\n",
       "    </tr>\n",
       "    <tr>\n",
       "      <th>3009</th>\n",
       "      <td>9244.16</td>\n",
       "      <td>3081.386667</td>\n",
       "    </tr>\n",
       "    <tr>\n",
       "      <th>3635</th>\n",
       "      <td>8040.40</td>\n",
       "      <td>2680.133333</td>\n",
       "    </tr>\n",
       "    <tr>\n",
       "      <th>4421</th>\n",
       "      <td>10030.30</td>\n",
       "      <td>3343.433333</td>\n",
       "    </tr>\n",
       "    <tr>\n",
       "      <th>4526</th>\n",
       "      <td>8814.64</td>\n",
       "      <td>2938.213333</td>\n",
       "    </tr>\n",
       "    <tr>\n",
       "      <th>4529</th>\n",
       "      <td>7043.70</td>\n",
       "      <td>2347.900000</td>\n",
       "    </tr>\n",
       "    <tr>\n",
       "      <th>5214</th>\n",
       "      <td>7507.78</td>\n",
       "      <td>2502.593333</td>\n",
       "    </tr>\n",
       "    <tr>\n",
       "      <th>6692</th>\n",
       "      <td>7327.64</td>\n",
       "      <td>2442.546667</td>\n",
       "    </tr>\n",
       "    <tr>\n",
       "      <th>8137</th>\n",
       "      <td>9819.48</td>\n",
       "      <td>3273.160000</td>\n",
       "    </tr>\n",
       "    <tr>\n",
       "      <th>8782</th>\n",
       "      <td>5605.32</td>\n",
       "      <td>1868.440000</td>\n",
       "    </tr>\n",
       "    <tr>\n",
       "      <th>9360</th>\n",
       "      <td>8631.96</td>\n",
       "      <td>2877.320000</td>\n",
       "    </tr>\n",
       "    <tr>\n",
       "      <th>9408</th>\n",
       "      <td>8844.34</td>\n",
       "      <td>2948.113333</td>\n",
       "    </tr>\n",
       "    <tr>\n",
       "      <th>9718</th>\n",
       "      <td>10836.30</td>\n",
       "      <td>3612.100000</td>\n",
       "    </tr>\n",
       "    <tr>\n",
       "      <th>10247</th>\n",
       "      <td>9033.37</td>\n",
       "      <td>3011.123333</td>\n",
       "    </tr>\n",
       "    <tr>\n",
       "      <th>10456</th>\n",
       "      <td>11916.20</td>\n",
       "      <td>3972.066667</td>\n",
       "    </tr>\n",
       "    <tr>\n",
       "      <th>11071</th>\n",
       "      <td>6409.25</td>\n",
       "      <td>2136.416667</td>\n",
       "    </tr>\n",
       "    <tr>\n",
       "      <th>11354</th>\n",
       "      <td>7771.39</td>\n",
       "      <td>2590.463333</td>\n",
       "    </tr>\n",
       "    <tr>\n",
       "      <th>11638</th>\n",
       "      <td>8100.61</td>\n",
       "      <td>2700.203333</td>\n",
       "    </tr>\n",
       "    <tr>\n",
       "      <th>11681</th>\n",
       "      <td>6519.32</td>\n",
       "      <td>2173.106667</td>\n",
       "    </tr>\n",
       "    <tr>\n",
       "      <th>12011</th>\n",
       "      <td>7911.82</td>\n",
       "      <td>2637.273333</td>\n",
       "    </tr>\n",
       "    <tr>\n",
       "      <th>12972</th>\n",
       "      <td>9093.67</td>\n",
       "      <td>3031.223333</td>\n",
       "    </tr>\n",
       "    <tr>\n",
       "      <th>14708</th>\n",
       "      <td>9315.71</td>\n",
       "      <td>3105.236667</td>\n",
       "    </tr>\n",
       "  </tbody>\n",
       "</table>\n",
       "</div>"
      ],
      "text/plain": [
       "       tot_surf_area     npe_area\n",
       "515         12412.90  4137.633333\n",
       "540          8434.65  2811.550000\n",
       "1510         8450.04  2816.680000\n",
       "1784         7764.46  2588.153333\n",
       "2275         8035.16  2678.386667\n",
       "2424        10066.10  3355.366667\n",
       "2650         8557.14  2852.380000\n",
       "3009         9244.16  3081.386667\n",
       "3635         8040.40  2680.133333\n",
       "4421        10030.30  3343.433333\n",
       "4526         8814.64  2938.213333\n",
       "4529         7043.70  2347.900000\n",
       "5214         7507.78  2502.593333\n",
       "6692         7327.64  2442.546667\n",
       "8137         9819.48  3273.160000\n",
       "8782         5605.32  1868.440000\n",
       "9360         8631.96  2877.320000\n",
       "9408         8844.34  2948.113333\n",
       "9718        10836.30  3612.100000\n",
       "10247        9033.37  3011.123333\n",
       "10456       11916.20  3972.066667\n",
       "11071        6409.25  2136.416667\n",
       "11354        7771.39  2590.463333\n",
       "11638        8100.61  2700.203333\n",
       "11681        6519.32  2173.106667\n",
       "12011        7911.82  2637.273333\n",
       "12972        9093.67  3031.223333\n",
       "14708        9315.71  3105.236667"
      ]
     },
     "execution_count": 31,
     "metadata": {},
     "output_type": "execute_result"
    }
   ],
   "source": [
    "#verify the changes \n",
    "prot[['tot_surf_area','npe_area']][prot.index.isin(ndx)]"
   ]
  },
  {
   "cell_type": "code",
   "execution_count": 32,
   "metadata": {},
   "outputs": [
    {
     "data": {
      "text/plain": [
       "tot_surf_area    0\n",
       "npe_area         0\n",
       "fa_enpr          0\n",
       "RMSD             0\n",
       "fa_enppr         0\n",
       "molmass_ea       0\n",
       "avg_dev          0\n",
       "euc_dist         0\n",
       "sdc              0\n",
       "dtype: int64"
      ]
     },
     "execution_count": 32,
     "metadata": {},
     "output_type": "execute_result"
    }
   ],
   "source": [
    "#check for NULLS again\n",
    "prot.isnull().sum()"
   ]
  },
  {
   "cell_type": "code",
   "execution_count": 33,
   "metadata": {},
   "outputs": [
    {
     "data": {
      "text/plain": [
       "tot_surf_area    float64\n",
       "npe_area         float64\n",
       "fa_enpr          float64\n",
       "RMSD             float64\n",
       "fa_enppr         float64\n",
       "molmass_ea       float64\n",
       "avg_dev          float64\n",
       "euc_dist         float64\n",
       "sdc              float64\n",
       "dtype: object"
      ]
     },
     "execution_count": 33,
     "metadata": {},
     "output_type": "execute_result"
    }
   ],
   "source": [
    "\n",
    "prot.dtypes"
   ]
  },
  {
   "cell_type": "code",
   "execution_count": 34,
   "metadata": {},
   "outputs": [
    {
     "data": {
      "text/plain": [
       "tot_surf_area    20\n",
       "npe_area          0\n",
       "fa_enpr           0\n",
       "RMSD             90\n",
       "fa_enppr          0\n",
       "molmass_ea        0\n",
       "avg_dev           0\n",
       "euc_dist          0\n",
       "sdc               0\n",
       "dtype: int64"
      ]
     },
     "execution_count": 34,
     "metadata": {},
     "output_type": "execute_result"
    }
   ],
   "source": [
    "#check for 0\n",
    "prot[prot==0].count()"
   ]
  },
  {
   "cell_type": "code",
   "execution_count": 35,
   "metadata": {},
   "outputs": [
    {
     "data": {
      "text/html": [
       "<div>\n",
       "<style scoped>\n",
       "    .dataframe tbody tr th:only-of-type {\n",
       "        vertical-align: middle;\n",
       "    }\n",
       "\n",
       "    .dataframe tbody tr th {\n",
       "        vertical-align: top;\n",
       "    }\n",
       "\n",
       "    .dataframe thead th {\n",
       "        text-align: right;\n",
       "    }\n",
       "</style>\n",
       "<table border=\"1\" class=\"dataframe\">\n",
       "  <thead>\n",
       "    <tr style=\"text-align: right;\">\n",
       "      <th></th>\n",
       "      <th>tot_surf_area</th>\n",
       "      <th>npe_area</th>\n",
       "    </tr>\n",
       "  </thead>\n",
       "  <tbody>\n",
       "    <tr>\n",
       "      <th>347</th>\n",
       "      <td>0.0</td>\n",
       "      <td>2312.46</td>\n",
       "    </tr>\n",
       "    <tr>\n",
       "      <th>608</th>\n",
       "      <td>0.0</td>\n",
       "      <td>2985.32</td>\n",
       "    </tr>\n",
       "    <tr>\n",
       "      <th>1121</th>\n",
       "      <td>0.0</td>\n",
       "      <td>2706.31</td>\n",
       "    </tr>\n",
       "    <tr>\n",
       "      <th>2166</th>\n",
       "      <td>0.0</td>\n",
       "      <td>3581.17</td>\n",
       "    </tr>\n",
       "    <tr>\n",
       "      <th>3192</th>\n",
       "      <td>0.0</td>\n",
       "      <td>1941.34</td>\n",
       "    </tr>\n",
       "    <tr>\n",
       "      <th>3830</th>\n",
       "      <td>0.0</td>\n",
       "      <td>3211.71</td>\n",
       "    </tr>\n",
       "    <tr>\n",
       "      <th>5418</th>\n",
       "      <td>0.0</td>\n",
       "      <td>3661.16</td>\n",
       "    </tr>\n",
       "    <tr>\n",
       "      <th>5979</th>\n",
       "      <td>0.0</td>\n",
       "      <td>2763.08</td>\n",
       "    </tr>\n",
       "    <tr>\n",
       "      <th>6720</th>\n",
       "      <td>0.0</td>\n",
       "      <td>3373.03</td>\n",
       "    </tr>\n",
       "    <tr>\n",
       "      <th>9223</th>\n",
       "      <td>0.0</td>\n",
       "      <td>1911.09</td>\n",
       "    </tr>\n",
       "    <tr>\n",
       "      <th>9569</th>\n",
       "      <td>0.0</td>\n",
       "      <td>3008.57</td>\n",
       "    </tr>\n",
       "    <tr>\n",
       "      <th>9717</th>\n",
       "      <td>0.0</td>\n",
       "      <td>3864.31</td>\n",
       "    </tr>\n",
       "    <tr>\n",
       "      <th>10207</th>\n",
       "      <td>0.0</td>\n",
       "      <td>3115.72</td>\n",
       "    </tr>\n",
       "    <tr>\n",
       "      <th>10568</th>\n",
       "      <td>0.0</td>\n",
       "      <td>2745.16</td>\n",
       "    </tr>\n",
       "    <tr>\n",
       "      <th>11424</th>\n",
       "      <td>0.0</td>\n",
       "      <td>2617.94</td>\n",
       "    </tr>\n",
       "    <tr>\n",
       "      <th>11592</th>\n",
       "      <td>0.0</td>\n",
       "      <td>2730.28</td>\n",
       "    </tr>\n",
       "    <tr>\n",
       "      <th>11963</th>\n",
       "      <td>0.0</td>\n",
       "      <td>3007.43</td>\n",
       "    </tr>\n",
       "    <tr>\n",
       "      <th>12130</th>\n",
       "      <td>0.0</td>\n",
       "      <td>3296.91</td>\n",
       "    </tr>\n",
       "    <tr>\n",
       "      <th>12610</th>\n",
       "      <td>0.0</td>\n",
       "      <td>2852.07</td>\n",
       "    </tr>\n",
       "    <tr>\n",
       "      <th>13252</th>\n",
       "      <td>0.0</td>\n",
       "      <td>2981.47</td>\n",
       "    </tr>\n",
       "  </tbody>\n",
       "</table>\n",
       "</div>"
      ],
      "text/plain": [
       "       tot_surf_area  npe_area\n",
       "347              0.0   2312.46\n",
       "608              0.0   2985.32\n",
       "1121             0.0   2706.31\n",
       "2166             0.0   3581.17\n",
       "3192             0.0   1941.34\n",
       "3830             0.0   3211.71\n",
       "5418             0.0   3661.16\n",
       "5979             0.0   2763.08\n",
       "6720             0.0   3373.03\n",
       "9223             0.0   1911.09\n",
       "9569             0.0   3008.57\n",
       "9717             0.0   3864.31\n",
       "10207            0.0   3115.72\n",
       "10568            0.0   2745.16\n",
       "11424            0.0   2617.94\n",
       "11592            0.0   2730.28\n",
       "11963            0.0   3007.43\n",
       "12130            0.0   3296.91\n",
       "12610            0.0   2852.07\n",
       "13252            0.0   2981.47"
      ]
     },
     "execution_count": 35,
     "metadata": {},
     "output_type": "execute_result"
    }
   ],
   "source": [
    "#impute 'tot_surf_area' = npe_area *3 where tot_surf_area =0\n",
    "#select * where tot_surf_area=0\n",
    "prot[['tot_surf_area','npe_area']][prot.tot_surf_area ==0]"
   ]
  },
  {
   "cell_type": "code",
   "execution_count": 36,
   "metadata": {},
   "outputs": [
    {
     "data": {
      "text/plain": [
       "Int64Index([  347,   608,  1121,  2166,  3192,  3830,  5418,  5979,  6720,\n",
       "             9223,  9569,  9717, 10207, 10568, 11424, 11592, 11963, 12130,\n",
       "            12610, 13252],\n",
       "           dtype='int64')"
      ]
     },
     "execution_count": 36,
     "metadata": {},
     "output_type": "execute_result"
    }
   ],
   "source": [
    "ndx=prot[['tot_surf_area','npe_area']][prot.tot_surf_area ==0].index\n",
    "ndx"
   ]
  },
  {
   "cell_type": "code",
   "execution_count": 37,
   "metadata": {},
   "outputs": [],
   "source": [
    "#update\n",
    "prot.tot_surf_area[prot.tot_surf_area ==0] = prot.npe_area*3"
   ]
  },
  {
   "cell_type": "code",
   "execution_count": 38,
   "metadata": {},
   "outputs": [
    {
     "data": {
      "text/html": [
       "<div>\n",
       "<style scoped>\n",
       "    .dataframe tbody tr th:only-of-type {\n",
       "        vertical-align: middle;\n",
       "    }\n",
       "\n",
       "    .dataframe tbody tr th {\n",
       "        vertical-align: top;\n",
       "    }\n",
       "\n",
       "    .dataframe thead th {\n",
       "        text-align: right;\n",
       "    }\n",
       "</style>\n",
       "<table border=\"1\" class=\"dataframe\">\n",
       "  <thead>\n",
       "    <tr style=\"text-align: right;\">\n",
       "      <th></th>\n",
       "      <th>tot_surf_area</th>\n",
       "      <th>npe_area</th>\n",
       "    </tr>\n",
       "  </thead>\n",
       "  <tbody>\n",
       "    <tr>\n",
       "      <th>347</th>\n",
       "      <td>6937.38</td>\n",
       "      <td>2312.46</td>\n",
       "    </tr>\n",
       "    <tr>\n",
       "      <th>608</th>\n",
       "      <td>8955.96</td>\n",
       "      <td>2985.32</td>\n",
       "    </tr>\n",
       "    <tr>\n",
       "      <th>1121</th>\n",
       "      <td>8118.93</td>\n",
       "      <td>2706.31</td>\n",
       "    </tr>\n",
       "    <tr>\n",
       "      <th>2166</th>\n",
       "      <td>10743.51</td>\n",
       "      <td>3581.17</td>\n",
       "    </tr>\n",
       "    <tr>\n",
       "      <th>3192</th>\n",
       "      <td>5824.02</td>\n",
       "      <td>1941.34</td>\n",
       "    </tr>\n",
       "    <tr>\n",
       "      <th>3830</th>\n",
       "      <td>9635.13</td>\n",
       "      <td>3211.71</td>\n",
       "    </tr>\n",
       "    <tr>\n",
       "      <th>5418</th>\n",
       "      <td>10983.48</td>\n",
       "      <td>3661.16</td>\n",
       "    </tr>\n",
       "    <tr>\n",
       "      <th>5979</th>\n",
       "      <td>8289.24</td>\n",
       "      <td>2763.08</td>\n",
       "    </tr>\n",
       "    <tr>\n",
       "      <th>6720</th>\n",
       "      <td>10119.09</td>\n",
       "      <td>3373.03</td>\n",
       "    </tr>\n",
       "    <tr>\n",
       "      <th>9223</th>\n",
       "      <td>5733.27</td>\n",
       "      <td>1911.09</td>\n",
       "    </tr>\n",
       "    <tr>\n",
       "      <th>9569</th>\n",
       "      <td>9025.71</td>\n",
       "      <td>3008.57</td>\n",
       "    </tr>\n",
       "    <tr>\n",
       "      <th>9717</th>\n",
       "      <td>11592.93</td>\n",
       "      <td>3864.31</td>\n",
       "    </tr>\n",
       "    <tr>\n",
       "      <th>10207</th>\n",
       "      <td>9347.16</td>\n",
       "      <td>3115.72</td>\n",
       "    </tr>\n",
       "    <tr>\n",
       "      <th>10568</th>\n",
       "      <td>8235.48</td>\n",
       "      <td>2745.16</td>\n",
       "    </tr>\n",
       "    <tr>\n",
       "      <th>11424</th>\n",
       "      <td>7853.82</td>\n",
       "      <td>2617.94</td>\n",
       "    </tr>\n",
       "    <tr>\n",
       "      <th>11592</th>\n",
       "      <td>8190.84</td>\n",
       "      <td>2730.28</td>\n",
       "    </tr>\n",
       "    <tr>\n",
       "      <th>11963</th>\n",
       "      <td>9022.29</td>\n",
       "      <td>3007.43</td>\n",
       "    </tr>\n",
       "    <tr>\n",
       "      <th>12130</th>\n",
       "      <td>9890.73</td>\n",
       "      <td>3296.91</td>\n",
       "    </tr>\n",
       "    <tr>\n",
       "      <th>12610</th>\n",
       "      <td>8556.21</td>\n",
       "      <td>2852.07</td>\n",
       "    </tr>\n",
       "    <tr>\n",
       "      <th>13252</th>\n",
       "      <td>8944.41</td>\n",
       "      <td>2981.47</td>\n",
       "    </tr>\n",
       "  </tbody>\n",
       "</table>\n",
       "</div>"
      ],
      "text/plain": [
       "       tot_surf_area  npe_area\n",
       "347          6937.38   2312.46\n",
       "608          8955.96   2985.32\n",
       "1121         8118.93   2706.31\n",
       "2166        10743.51   3581.17\n",
       "3192         5824.02   1941.34\n",
       "3830         9635.13   3211.71\n",
       "5418        10983.48   3661.16\n",
       "5979         8289.24   2763.08\n",
       "6720        10119.09   3373.03\n",
       "9223         5733.27   1911.09\n",
       "9569         9025.71   3008.57\n",
       "9717        11592.93   3864.31\n",
       "10207        9347.16   3115.72\n",
       "10568        8235.48   2745.16\n",
       "11424        7853.82   2617.94\n",
       "11592        8190.84   2730.28\n",
       "11963        9022.29   3007.43\n",
       "12130        9890.73   3296.91\n",
       "12610        8556.21   2852.07\n",
       "13252        8944.41   2981.47"
      ]
     },
     "execution_count": 38,
     "metadata": {},
     "output_type": "execute_result"
    }
   ],
   "source": [
    "#verify the change\n",
    "prot[['tot_surf_area','npe_area']][prot.index.isin(ndx)]"
   ]
  },
  {
   "cell_type": "code",
   "execution_count": 39,
   "metadata": {},
   "outputs": [
    {
     "data": {
      "text/plain": [
       "tot_surf_area     0\n",
       "npe_area          0\n",
       "fa_enpr           0\n",
       "RMSD             90\n",
       "fa_enppr          0\n",
       "molmass_ea        0\n",
       "avg_dev           0\n",
       "euc_dist          0\n",
       "sdc               0\n",
       "dtype: int64"
      ]
     },
     "execution_count": 39,
     "metadata": {},
     "output_type": "execute_result"
    }
   ],
   "source": [
    "#check for 0\n",
    "prot[prot==0].count()"
   ]
  },
  {
   "cell_type": "code",
   "execution_count": 40,
   "metadata": {},
   "outputs": [
    {
     "data": {
      "text/html": [
       "<div>\n",
       "<style scoped>\n",
       "    .dataframe tbody tr th:only-of-type {\n",
       "        vertical-align: middle;\n",
       "    }\n",
       "\n",
       "    .dataframe tbody tr th {\n",
       "        vertical-align: top;\n",
       "    }\n",
       "\n",
       "    .dataframe thead th {\n",
       "        text-align: right;\n",
       "    }\n",
       "</style>\n",
       "<table border=\"1\" class=\"dataframe\">\n",
       "  <thead>\n",
       "    <tr style=\"text-align: right;\">\n",
       "      <th></th>\n",
       "      <th>tot_surf_area</th>\n",
       "      <th>npe_area</th>\n",
       "      <th>fa_enpr</th>\n",
       "      <th>RMSD</th>\n",
       "      <th>fa_enppr</th>\n",
       "      <th>molmass_ea</th>\n",
       "      <th>avg_dev</th>\n",
       "      <th>euc_dist</th>\n",
       "      <th>sdc</th>\n",
       "    </tr>\n",
       "  </thead>\n",
       "  <tbody>\n",
       "    <tr>\n",
       "      <th>7</th>\n",
       "      <td>8750.63</td>\n",
       "      <td>1766.40</td>\n",
       "      <td>0.20185</td>\n",
       "      <td>0.0</td>\n",
       "      <td>97.4348</td>\n",
       "      <td>1.177781e+06</td>\n",
       "      <td>114.7260</td>\n",
       "      <td>4186.95</td>\n",
       "      <td>46.5464</td>\n",
       "    </tr>\n",
       "    <tr>\n",
       "      <th>185</th>\n",
       "      <td>10371.90</td>\n",
       "      <td>2315.88</td>\n",
       "      <td>0.22328</td>\n",
       "      <td>0.0</td>\n",
       "      <td>112.4120</td>\n",
       "      <td>1.459377e+06</td>\n",
       "      <td>163.3430</td>\n",
       "      <td>4252.08</td>\n",
       "      <td>46.5464</td>\n",
       "    </tr>\n",
       "    <tr>\n",
       "      <th>231</th>\n",
       "      <td>4646.14</td>\n",
       "      <td>923.07</td>\n",
       "      <td>0.19867</td>\n",
       "      <td>0.0</td>\n",
       "      <td>40.7265</td>\n",
       "      <td>6.253550e+05</td>\n",
       "      <td>67.1754</td>\n",
       "      <td>2507.76</td>\n",
       "      <td>42.0889</td>\n",
       "    </tr>\n",
       "    <tr>\n",
       "      <th>335</th>\n",
       "      <td>6886.88</td>\n",
       "      <td>2161.85</td>\n",
       "      <td>0.31390</td>\n",
       "      <td>0.0</td>\n",
       "      <td>72.9515</td>\n",
       "      <td>9.538444e+05</td>\n",
       "      <td>91.6468</td>\n",
       "      <td>3830.10</td>\n",
       "      <td>36.7095</td>\n",
       "    </tr>\n",
       "    <tr>\n",
       "      <th>673</th>\n",
       "      <td>6305.15</td>\n",
       "      <td>1668.62</td>\n",
       "      <td>0.26464</td>\n",
       "      <td>0.0</td>\n",
       "      <td>65.0286</td>\n",
       "      <td>8.852923e+05</td>\n",
       "      <td>90.9438</td>\n",
       "      <td>3279.76</td>\n",
       "      <td>39.0109</td>\n",
       "    </tr>\n",
       "    <tr>\n",
       "      <th>...</th>\n",
       "      <td>...</td>\n",
       "      <td>...</td>\n",
       "      <td>...</td>\n",
       "      <td>...</td>\n",
       "      <td>...</td>\n",
       "      <td>...</td>\n",
       "      <td>...</td>\n",
       "      <td>...</td>\n",
       "      <td>...</td>\n",
       "    </tr>\n",
       "    <tr>\n",
       "      <th>14446</th>\n",
       "      <td>6630.83</td>\n",
       "      <td>1438.23</td>\n",
       "      <td>0.21690</td>\n",
       "      <td>0.0</td>\n",
       "      <td>60.2599</td>\n",
       "      <td>9.059731e+05</td>\n",
       "      <td>77.8224</td>\n",
       "      <td>3403.57</td>\n",
       "      <td>46.5464</td>\n",
       "    </tr>\n",
       "    <tr>\n",
       "      <th>14493</th>\n",
       "      <td>10772.40</td>\n",
       "      <td>3747.81</td>\n",
       "      <td>0.34790</td>\n",
       "      <td>0.0</td>\n",
       "      <td>108.1690</td>\n",
       "      <td>1.496005e+06</td>\n",
       "      <td>178.0630</td>\n",
       "      <td>4596.29</td>\n",
       "      <td>30.9398</td>\n",
       "    </tr>\n",
       "    <tr>\n",
       "      <th>14834</th>\n",
       "      <td>11064.40</td>\n",
       "      <td>2624.82</td>\n",
       "      <td>0.23723</td>\n",
       "      <td>0.0</td>\n",
       "      <td>126.9720</td>\n",
       "      <td>1.577003e+06</td>\n",
       "      <td>185.9800</td>\n",
       "      <td>4752.28</td>\n",
       "      <td>46.5464</td>\n",
       "    </tr>\n",
       "    <tr>\n",
       "      <th>14934</th>\n",
       "      <td>5959.14</td>\n",
       "      <td>1900.24</td>\n",
       "      <td>0.31887</td>\n",
       "      <td>0.0</td>\n",
       "      <td>50.3812</td>\n",
       "      <td>8.431590e+05</td>\n",
       "      <td>80.6710</td>\n",
       "      <td>2828.65</td>\n",
       "      <td>40.7643</td>\n",
       "    </tr>\n",
       "    <tr>\n",
       "      <th>14976</th>\n",
       "      <td>9949.71</td>\n",
       "      <td>3601.06</td>\n",
       "      <td>0.36192</td>\n",
       "      <td>0.0</td>\n",
       "      <td>97.0472</td>\n",
       "      <td>1.372459e+06</td>\n",
       "      <td>136.0140</td>\n",
       "      <td>5041.66</td>\n",
       "      <td>30.0702</td>\n",
       "    </tr>\n",
       "  </tbody>\n",
       "</table>\n",
       "<p>90 rows × 9 columns</p>\n",
       "</div>"
      ],
      "text/plain": [
       "       tot_surf_area  npe_area  fa_enpr  RMSD  fa_enppr    molmass_ea   avg_dev  euc_dist      sdc\n",
       "7            8750.63   1766.40  0.20185   0.0   97.4348  1.177781e+06  114.7260   4186.95  46.5464\n",
       "185         10371.90   2315.88  0.22328   0.0  112.4120  1.459377e+06  163.3430   4252.08  46.5464\n",
       "231          4646.14    923.07  0.19867   0.0   40.7265  6.253550e+05   67.1754   2507.76  42.0889\n",
       "335          6886.88   2161.85  0.31390   0.0   72.9515  9.538444e+05   91.6468   3830.10  36.7095\n",
       "673          6305.15   1668.62  0.26464   0.0   65.0286  8.852923e+05   90.9438   3279.76  39.0109\n",
       "...              ...       ...      ...   ...       ...           ...       ...       ...      ...\n",
       "14446        6630.83   1438.23  0.21690   0.0   60.2599  9.059731e+05   77.8224   3403.57  46.5464\n",
       "14493       10772.40   3747.81  0.34790   0.0  108.1690  1.496005e+06  178.0630   4596.29  30.9398\n",
       "14834       11064.40   2624.82  0.23723   0.0  126.9720  1.577003e+06  185.9800   4752.28  46.5464\n",
       "14934        5959.14   1900.24  0.31887   0.0   50.3812  8.431590e+05   80.6710   2828.65  40.7643\n",
       "14976        9949.71   3601.06  0.36192   0.0   97.0472  1.372459e+06  136.0140   5041.66  30.0702\n",
       "\n",
       "[90 rows x 9 columns]"
      ]
     },
     "execution_count": 40,
     "metadata": {},
     "output_type": "execute_result"
    }
   ],
   "source": [
    "prot[prot.RMSD ==0]"
   ]
  },
  {
   "cell_type": "code",
   "execution_count": 41,
   "metadata": {},
   "outputs": [
    {
     "data": {
      "text/html": [
       "<div>\n",
       "<style scoped>\n",
       "    .dataframe tbody tr th:only-of-type {\n",
       "        vertical-align: middle;\n",
       "    }\n",
       "\n",
       "    .dataframe tbody tr th {\n",
       "        vertical-align: top;\n",
       "    }\n",
       "\n",
       "    .dataframe thead th {\n",
       "        text-align: right;\n",
       "    }\n",
       "</style>\n",
       "<table border=\"1\" class=\"dataframe\">\n",
       "  <thead>\n",
       "    <tr style=\"text-align: right;\">\n",
       "      <th></th>\n",
       "      <th>RMSD</th>\n",
       "      <th>fa_enppr</th>\n",
       "    </tr>\n",
       "  </thead>\n",
       "  <tbody>\n",
       "    <tr>\n",
       "      <th>13</th>\n",
       "      <td>0.505</td>\n",
       "      <td>48.0677</td>\n",
       "    </tr>\n",
       "    <tr>\n",
       "      <th>42</th>\n",
       "      <td>0.545</td>\n",
       "      <td>47.8040</td>\n",
       "    </tr>\n",
       "    <tr>\n",
       "      <th>39</th>\n",
       "      <td>1.631</td>\n",
       "      <td>179.7940</td>\n",
       "    </tr>\n",
       "    <tr>\n",
       "      <th>10</th>\n",
       "      <td>1.657</td>\n",
       "      <td>71.9063</td>\n",
       "    </tr>\n",
       "    <tr>\n",
       "      <th>17</th>\n",
       "      <td>1.658</td>\n",
       "      <td>35.0303</td>\n",
       "    </tr>\n",
       "    <tr>\n",
       "      <th>20</th>\n",
       "      <td>1.754</td>\n",
       "      <td>88.5083</td>\n",
       "    </tr>\n",
       "    <tr>\n",
       "      <th>12</th>\n",
       "      <td>1.821</td>\n",
       "      <td>71.3453</td>\n",
       "    </tr>\n",
       "    <tr>\n",
       "      <th>35</th>\n",
       "      <td>1.834</td>\n",
       "      <td>223.8060</td>\n",
       "    </tr>\n",
       "    <tr>\n",
       "      <th>29</th>\n",
       "      <td>2.100</td>\n",
       "      <td>75.8983</td>\n",
       "    </tr>\n",
       "    <tr>\n",
       "      <th>43</th>\n",
       "      <td>2.262</td>\n",
       "      <td>123.7660</td>\n",
       "    </tr>\n",
       "    <tr>\n",
       "      <th>30</th>\n",
       "      <td>2.408</td>\n",
       "      <td>155.6570</td>\n",
       "    </tr>\n",
       "    <tr>\n",
       "      <th>23</th>\n",
       "      <td>2.510</td>\n",
       "      <td>53.1020</td>\n",
       "    </tr>\n",
       "    <tr>\n",
       "      <th>0</th>\n",
       "      <td>2.555</td>\n",
       "      <td>253.3780</td>\n",
       "    </tr>\n",
       "    <tr>\n",
       "      <th>5</th>\n",
       "      <td>2.622</td>\n",
       "      <td>174.7670</td>\n",
       "    </tr>\n",
       "    <tr>\n",
       "      <th>4</th>\n",
       "      <td>2.994</td>\n",
       "      <td>67.0155</td>\n",
       "    </tr>\n",
       "    <tr>\n",
       "      <th>49</th>\n",
       "      <td>3.121</td>\n",
       "      <td>107.7140</td>\n",
       "    </tr>\n",
       "    <tr>\n",
       "      <th>31</th>\n",
       "      <td>3.215</td>\n",
       "      <td>187.6500</td>\n",
       "    </tr>\n",
       "    <tr>\n",
       "      <th>14</th>\n",
       "      <td>3.284</td>\n",
       "      <td>68.0328</td>\n",
       "    </tr>\n",
       "    <tr>\n",
       "      <th>41</th>\n",
       "      <td>3.375</td>\n",
       "      <td>100.5570</td>\n",
       "    </tr>\n",
       "    <tr>\n",
       "      <th>27</th>\n",
       "      <td>3.503</td>\n",
       "      <td>114.6920</td>\n",
       "    </tr>\n",
       "    <tr>\n",
       "      <th>3</th>\n",
       "      <td>3.669</td>\n",
       "      <td>45.3260</td>\n",
       "    </tr>\n",
       "    <tr>\n",
       "      <th>2</th>\n",
       "      <td>3.713</td>\n",
       "      <td>254.7890</td>\n",
       "    </tr>\n",
       "    <tr>\n",
       "      <th>8</th>\n",
       "      <td>3.728</td>\n",
       "      <td>96.3458</td>\n",
       "    </tr>\n",
       "    <tr>\n",
       "      <th>24</th>\n",
       "      <td>3.954</td>\n",
       "      <td>106.9990</td>\n",
       "    </tr>\n",
       "    <tr>\n",
       "      <th>21</th>\n",
       "      <td>4.186</td>\n",
       "      <td>55.2014</td>\n",
       "    </tr>\n",
       "    <tr>\n",
       "      <th>33</th>\n",
       "      <td>4.640</td>\n",
       "      <td>83.6493</td>\n",
       "    </tr>\n",
       "    <tr>\n",
       "      <th>22</th>\n",
       "      <td>4.759</td>\n",
       "      <td>170.9580</td>\n",
       "    </tr>\n",
       "    <tr>\n",
       "      <th>16</th>\n",
       "      <td>4.920</td>\n",
       "      <td>62.2082</td>\n",
       "    </tr>\n",
       "    <tr>\n",
       "      <th>11</th>\n",
       "      <td>6.154</td>\n",
       "      <td>189.2220</td>\n",
       "    </tr>\n",
       "    <tr>\n",
       "      <th>25</th>\n",
       "      <td>7.454</td>\n",
       "      <td>58.8792</td>\n",
       "    </tr>\n",
       "    <tr>\n",
       "      <th>40</th>\n",
       "      <td>7.998</td>\n",
       "      <td>55.8300</td>\n",
       "    </tr>\n",
       "    <tr>\n",
       "      <th>37</th>\n",
       "      <td>8.004</td>\n",
       "      <td>76.4077</td>\n",
       "    </tr>\n",
       "    <tr>\n",
       "      <th>1</th>\n",
       "      <td>10.330</td>\n",
       "      <td>61.6351</td>\n",
       "    </tr>\n",
       "    <tr>\n",
       "      <th>47</th>\n",
       "      <td>11.011</td>\n",
       "      <td>40.5163</td>\n",
       "    </tr>\n",
       "    <tr>\n",
       "      <th>48</th>\n",
       "      <td>11.282</td>\n",
       "      <td>61.7840</td>\n",
       "    </tr>\n",
       "    <tr>\n",
       "      <th>46</th>\n",
       "      <td>11.932</td>\n",
       "      <td>83.5196</td>\n",
       "    </tr>\n",
       "    <tr>\n",
       "      <th>28</th>\n",
       "      <td>14.457</td>\n",
       "      <td>96.0322</td>\n",
       "    </tr>\n",
       "    <tr>\n",
       "      <th>36</th>\n",
       "      <td>15.353</td>\n",
       "      <td>42.2214</td>\n",
       "    </tr>\n",
       "    <tr>\n",
       "      <th>6</th>\n",
       "      <td>15.555</td>\n",
       "      <td>100.1870</td>\n",
       "    </tr>\n",
       "    <tr>\n",
       "      <th>18</th>\n",
       "      <td>15.728</td>\n",
       "      <td>95.2355</td>\n",
       "    </tr>\n",
       "    <tr>\n",
       "      <th>15</th>\n",
       "      <td>16.014</td>\n",
       "      <td>88.2436</td>\n",
       "    </tr>\n",
       "    <tr>\n",
       "      <th>26</th>\n",
       "      <td>16.076</td>\n",
       "      <td>63.0595</td>\n",
       "    </tr>\n",
       "    <tr>\n",
       "      <th>9</th>\n",
       "      <td>16.688</td>\n",
       "      <td>85.1275</td>\n",
       "    </tr>\n",
       "    <tr>\n",
       "      <th>38</th>\n",
       "      <td>16.724</td>\n",
       "      <td>112.1400</td>\n",
       "    </tr>\n",
       "    <tr>\n",
       "      <th>44</th>\n",
       "      <td>16.769</td>\n",
       "      <td>93.0368</td>\n",
       "    </tr>\n",
       "    <tr>\n",
       "      <th>34</th>\n",
       "      <td>17.610</td>\n",
       "      <td>115.6310</td>\n",
       "    </tr>\n",
       "    <tr>\n",
       "      <th>45</th>\n",
       "      <td>17.691</td>\n",
       "      <td>57.6053</td>\n",
       "    </tr>\n",
       "    <tr>\n",
       "      <th>32</th>\n",
       "      <td>19.064</td>\n",
       "      <td>108.1350</td>\n",
       "    </tr>\n",
       "    <tr>\n",
       "      <th>50</th>\n",
       "      <td>19.225</td>\n",
       "      <td>155.8040</td>\n",
       "    </tr>\n",
       "    <tr>\n",
       "      <th>19</th>\n",
       "      <td>19.425</td>\n",
       "      <td>60.3793</td>\n",
       "    </tr>\n",
       "  </tbody>\n",
       "</table>\n",
       "</div>"
      ],
      "text/plain": [
       "      RMSD  fa_enppr\n",
       "13   0.505   48.0677\n",
       "42   0.545   47.8040\n",
       "39   1.631  179.7940\n",
       "10   1.657   71.9063\n",
       "17   1.658   35.0303\n",
       "20   1.754   88.5083\n",
       "12   1.821   71.3453\n",
       "35   1.834  223.8060\n",
       "29   2.100   75.8983\n",
       "43   2.262  123.7660\n",
       "30   2.408  155.6570\n",
       "23   2.510   53.1020\n",
       "0    2.555  253.3780\n",
       "5    2.622  174.7670\n",
       "4    2.994   67.0155\n",
       "49   3.121  107.7140\n",
       "31   3.215  187.6500\n",
       "14   3.284   68.0328\n",
       "41   3.375  100.5570\n",
       "27   3.503  114.6920\n",
       "3    3.669   45.3260\n",
       "2    3.713  254.7890\n",
       "8    3.728   96.3458\n",
       "24   3.954  106.9990\n",
       "21   4.186   55.2014\n",
       "33   4.640   83.6493\n",
       "22   4.759  170.9580\n",
       "16   4.920   62.2082\n",
       "11   6.154  189.2220\n",
       "25   7.454   58.8792\n",
       "40   7.998   55.8300\n",
       "37   8.004   76.4077\n",
       "1   10.330   61.6351\n",
       "47  11.011   40.5163\n",
       "48  11.282   61.7840\n",
       "46  11.932   83.5196\n",
       "28  14.457   96.0322\n",
       "36  15.353   42.2214\n",
       "6   15.555  100.1870\n",
       "18  15.728   95.2355\n",
       "15  16.014   88.2436\n",
       "26  16.076   63.0595\n",
       "9   16.688   85.1275\n",
       "38  16.724  112.1400\n",
       "44  16.769   93.0368\n",
       "34  17.610  115.6310\n",
       "45  17.691   57.6053\n",
       "32  19.064  108.1350\n",
       "50  19.225  155.8040\n",
       "19  19.425   60.3793"
      ]
     },
     "execution_count": 41,
     "metadata": {},
     "output_type": "execute_result"
    }
   ],
   "source": [
    " prot[['RMSD','fa_enppr']][prot.RMSD > 0].head(50).sort_values('RMSD')  #guess work (one type of imputing RMSD o values)"
   ]
  },
  {
   "cell_type": "code",
   "execution_count": 42,
   "metadata": {},
   "outputs": [
    {
     "data": {
      "text/plain": [
       "Int64Index([    7,   185,   231,   335,   673,   690,   708,   861,   994,\n",
       "             1075,  1458,  1560,  1641,  1667,  1822,  1924,  1927,  2360,\n",
       "             2850,  3598,  3624,  3703,  3874,  3910,  3994,  4023,  4083,\n",
       "             4244,  4802,  4891,  4933,  5311,  5391,  5568,  5769,  6240,\n",
       "             6466,  6563,  6652,  7004,  7220,  7362,  7366,  7761,  7866,\n",
       "             8277,  8421,  9061,  9136,  9250,  9410,  9490,  9530,  9531,\n",
       "             9630,  9671,  9710,  9761,  9790,  9805,  9948,  9953, 10462,\n",
       "            10643, 10676, 10758, 10774, 10905, 10931, 11091, 11175, 11486,\n",
       "            11649, 11772, 12137, 12145, 12391, 12462, 12564, 13220, 13306,\n",
       "            13365, 13525, 13575, 13864, 14446, 14493, 14834, 14934, 14976],\n",
       "           dtype='int64')"
      ]
     },
     "execution_count": 42,
     "metadata": {},
     "output_type": "execute_result"
    }
   ],
   "source": [
    "#since the Y-var has  0, drop these records\n",
    "ndx = prot[prot.RMSD ==0].index\n",
    "ndx"
   ]
  },
  {
   "cell_type": "code",
   "execution_count": 43,
   "metadata": {},
   "outputs": [
    {
     "data": {
      "text/plain": [
       "90"
      ]
     },
     "execution_count": 43,
     "metadata": {},
     "output_type": "execute_result"
    }
   ],
   "source": [
    "len(ndx)"
   ]
  },
  {
   "cell_type": "code",
   "execution_count": 44,
   "metadata": {},
   "outputs": [
    {
     "name": "stdout",
     "output_type": "stream",
     "text": [
      "before dropping rows, shape = (15220, 9)\n"
     ]
    }
   ],
   "source": [
    "print('before dropping rows, shape =',prot.shape)\n",
    "prot = prot.drop(ndx,axis =0)"
   ]
  },
  {
   "cell_type": "code",
   "execution_count": 45,
   "metadata": {},
   "outputs": [
    {
     "name": "stdout",
     "output_type": "stream",
     "text": [
      "after dropping rows,shape = (15130, 9)\n"
     ]
    }
   ],
   "source": [
    "print('after dropping rows,shape =',prot.shape)"
   ]
  },
  {
   "cell_type": "code",
   "execution_count": 46,
   "metadata": {},
   "outputs": [
    {
     "data": {
      "text/plain": [
       "tot_surf_area    0\n",
       "npe_area         0\n",
       "fa_enpr          0\n",
       "RMSD             0\n",
       "fa_enppr         0\n",
       "molmass_ea       0\n",
       "avg_dev          0\n",
       "euc_dist         0\n",
       "sdc              0\n",
       "dtype: int64"
      ]
     },
     "execution_count": 46,
     "metadata": {},
     "output_type": "execute_result"
    }
   ],
   "source": [
    "prot[prot ==0].count()"
   ]
  },
  {
   "cell_type": "code",
   "execution_count": 48,
   "metadata": {},
   "outputs": [],
   "source": [
    "#check the distribution and outliers of features\n",
    "cols = list(prot.columns)\n",
    "cols.remove('RMSD')"
   ]
  },
  {
   "cell_type": "code",
   "execution_count": 49,
   "metadata": {},
   "outputs": [
    {
     "data": {
      "text/plain": [
       "<matplotlib.axes._subplots.AxesSubplot at 0x1f185b4b248>"
      ]
     },
     "execution_count": 49,
     "metadata": {},
     "output_type": "execute_result"
    },
    {
     "data": {
      "image/png": "[encoded data removed]",
      "text/plain": [
       "<Figure size 432x288 with 1 Axes>"
      ]
     },
     "metadata": {
      "needs_background": "light"
     },
     "output_type": "display_data"
    }
   ],
   "source": [
    "#outliers\n",
    "prot.boxplot('tot_surf_area',vert=False)"
   ]
  },
  {
   "cell_type": "code",
   "execution_count": 50,
   "metadata": {},
   "outputs": [
    {
     "data": {
      "text/plain": [
       "8"
      ]
     },
     "execution_count": 50,
     "metadata": {},
     "output_type": "execute_result"
    }
   ],
   "source": [
    "len(cols)"
   ]
  },
  {
   "cell_type": "code",
   "execution_count": 51,
   "metadata": {},
   "outputs": [],
   "source": [
    "nrow = 4; ncol = 2; npos =1 "
   ]
  },
  {
   "cell_type": "code",
   "execution_count": 52,
   "metadata": {},
   "outputs": [
    {
     "data": {
      "image/png": "[encoded data removed]",
      "text/plain": [
       "<Figure size 432x288 with 8 Axes>"
      ]
     },
     "metadata": {
      "needs_background": "light"
     },
     "output_type": "display_data"
    }
   ],
   "source": [
    "fig = plt.figure()\n",
    "for c in cols:\n",
    "    fig.add_subplot(nrow,ncol,npos)\n",
    "    prot.boxplot(c,vert=False)\n",
    "    npos+=1"
   ]
  },
  {
   "cell_type": "code",
   "execution_count": 53,
   "metadata": {},
   "outputs": [],
   "source": [
    "nrow = 4; ncol = 2; npos =1 "
   ]
  },
  {
   "cell_type": "code",
   "execution_count": 54,
   "metadata": {},
   "outputs": [
    {
     "data": {
      "image/png": "[encoded data removed]",
      "text/plain": [
       "<Figure size 432x288 with 8 Axes>"
      ]
     },
     "metadata": {
      "needs_background": "light"
     },
     "output_type": "display_data"
    }
   ],
   "source": [
    "#whis=<n> indicates the IQR formula. can override the default 1.5 to any value to suppress the outliers from appering on the boxplot\n",
    "fig = plt.figure()\n",
    "for c in cols:\n",
    "    fig.add_subplot(nrow,ncol,npos)\n",
    "    prot.boxplot(c,vert=False,whis = 5)\n",
    "    npos+=1"
   ]
  },
  {
   "cell_type": "code",
   "execution_count": 55,
   "metadata": {},
   "outputs": [
    {
     "data": {
      "image/png": "[encoded data removed]",
      "text/plain": [
       "<Figure size 432x288 with 8 Axes>"
      ]
     },
     "metadata": {
      "needs_background": "light"
     },
     "output_type": "display_data"
    }
   ],
   "source": [
    "#distplot\n",
    "nrow = 4; ncol = 2; npos =1 \n",
    "fig = plt.figure()\n",
    "for c in cols:\n",
    "    fig.add_subplot(nrow,ncol,npos)\n",
    "    sns.distplot(prot[c])\n",
    "    npos+=1"
   ]
  },
  {
   "cell_type": "code",
   "execution_count": 56,
   "metadata": {},
   "outputs": [
    {
     "data": {
      "text/plain": [
       "'0.10.0'"
      ]
     },
     "execution_count": 56,
     "metadata": {},
     "output_type": "execute_result"
    }
   ],
   "source": [
    "import sklearn\n",
    "sns.__version__   #checking version"
   ]
  },
  {
   "cell_type": "code",
   "execution_count": 57,
   "metadata": {},
   "outputs": [
    {
     "data": {
      "text/plain": [
       "'0.22.1'"
      ]
     },
     "execution_count": 57,
     "metadata": {},
     "output_type": "execute_result"
    }
   ],
   "source": [
    "\n",
    "sklearn.__version__   #checking version"
   ]
  },
  {
   "cell_type": "code",
   "execution_count": null,
   "metadata": {},
   "outputs": [],
   "source": [
    "#shapiro hypo test done when records are less than 5000 so we will try agistino test"
   ]
  },
  {
   "cell_type": "code",
   "execution_count": null,
   "metadata": {},
   "outputs": [],
   "source": [
    "#AAgistino-Person test for normality\n",
    "#H0: normal distribution\n",
    "#H1: not a normal distribution"
   ]
  },
  {
   "cell_type": "code",
   "execution_count": 58,
   "metadata": {},
   "outputs": [],
   "source": [
    "from scipy.stats import normaltest\n",
    "\n",
    "#create a K-v  pair to store column names and its corresponding distribution type (Normal/NOt normal)\n",
    "\n",
    "aptest = {}\n",
    "\n",
    "for c in cols:\n",
    "    tstat,pval = normaltest(prot[c])\n",
    "    if pval< 0.05:\n",
    "        aptest[c] = \"not Normal Test\"\n",
    "    else:\n",
    "        aptest[c] = \"Normal\""
   ]
  },
  {
   "cell_type": "code",
   "execution_count": 59,
   "metadata": {},
   "outputs": [
    {
     "data": {
      "text/plain": [
       "{'tot_surf_area': 'not Normal Test',\n",
       " 'npe_area': 'not Normal Test',\n",
       " 'fa_enpr': 'not Normal Test',\n",
       " 'fa_enppr': 'not Normal Test',\n",
       " 'molmass_ea': 'not Normal Test',\n",
       " 'avg_dev': 'not Normal Test',\n",
       " 'euc_dist': 'not Normal Test',\n",
       " 'sdc': 'not Normal Test'}"
      ]
     },
     "execution_count": 59,
     "metadata": {},
     "output_type": "execute_result"
    }
   ],
   "source": [
    "aptest"
   ]
  },
  {
   "cell_type": "code",
   "execution_count": 60,
   "metadata": {},
   "outputs": [
    {
     "data": {
      "text/plain": [
       "Text(0.5, 1, 'Correlation Matrix')"
      ]
     },
     "execution_count": 60,
     "metadata": {},
     "output_type": "execute_result"
    },
    {
     "data": {
      "image/png": "[encoded data removed]",
      "text/plain": [
       "<Figure size 432x288 with 2 Axes>"
      ]
     },
     "metadata": {
      "needs_background": "light"
     },
     "output_type": "display_data"
    }
   ],
   "source": [
    "#correlation matrix - take only the lower triangle,then plot the heat map\n",
    "cor = prot[cols].corr()\n",
    "cor = np.tril(cor)\n",
    "sns.heatmap(cor,xticklabels=cols,yticklabels=cols,vmin=-1,vmax=1,annot=True,square=False)\n",
    "plt.title('Correlation Matrix')"
   ]
  },
  {
   "cell_type": "code",
   "execution_count": null,
   "metadata": {},
   "outputs": [],
   "source": [
    "#base on the matrix there are some correlated variables that needs to be removed\n",
    "#for linear regression, datatypes  have to be numeric"
   ]
  },
  {
   "cell_type": "code",
   "execution_count": 61,
   "metadata": {},
   "outputs": [
    {
     "data": {
      "text/plain": [
       "tot_surf_area    float64\n",
       "npe_area         float64\n",
       "fa_enpr          float64\n",
       "RMSD             float64\n",
       "fa_enppr         float64\n",
       "molmass_ea       float64\n",
       "avg_dev          float64\n",
       "euc_dist         float64\n",
       "sdc              float64\n",
       "dtype: object"
      ]
     },
     "execution_count": 61,
     "metadata": {},
     "output_type": "execute_result"
    }
   ],
   "source": [
    "prot.dtypes"
   ]
  },
  {
   "cell_type": "code",
   "execution_count": null,
   "metadata": {},
   "outputs": [],
   "source": [
    "#split the data into train/test\n",
    "#trainx/trainy \n",
    "#testx/testy"
   ]
  },
  {
   "cell_type": "code",
   "execution_count": 66,
   "metadata": {},
   "outputs": [
    {
     "data": {
      "text/html": [
       "<div>\n",
       "<style scoped>\n",
       "    .dataframe tbody tr th:only-of-type {\n",
       "        vertical-align: middle;\n",
       "    }\n",
       "\n",
       "    .dataframe tbody tr th {\n",
       "        vertical-align: top;\n",
       "    }\n",
       "\n",
       "    .dataframe thead th {\n",
       "        text-align: right;\n",
       "    }\n",
       "</style>\n",
       "<table border=\"1\" class=\"dataframe\">\n",
       "  <thead>\n",
       "    <tr style=\"text-align: right;\">\n",
       "      <th></th>\n",
       "      <th>tot_surf_area</th>\n",
       "      <th>npe_area</th>\n",
       "      <th>fa_enpr</th>\n",
       "      <th>fa_enppr</th>\n",
       "      <th>molmass_ea</th>\n",
       "      <th>avg_dev</th>\n",
       "      <th>euc_dist</th>\n",
       "      <th>sdc</th>\n",
       "    </tr>\n",
       "  </thead>\n",
       "  <tbody>\n",
       "    <tr>\n",
       "      <th>10926</th>\n",
       "      <td>8282.62</td>\n",
       "      <td>2436.02</td>\n",
       "      <td>0.29411</td>\n",
       "      <td>72.5260</td>\n",
       "      <td>1.128115e+06</td>\n",
       "      <td>117.2690</td>\n",
       "      <td>3789.33</td>\n",
       "      <td>35.8347</td>\n",
       "    </tr>\n",
       "    <tr>\n",
       "      <th>6933</th>\n",
       "      <td>5739.11</td>\n",
       "      <td>1336.47</td>\n",
       "      <td>0.23287</td>\n",
       "      <td>51.8119</td>\n",
       "      <td>8.316414e+05</td>\n",
       "      <td>71.2598</td>\n",
       "      <td>2859.28</td>\n",
       "      <td>40.3002</td>\n",
       "    </tr>\n",
       "    <tr>\n",
       "      <th>5946</th>\n",
       "      <td>11068.10</td>\n",
       "      <td>3621.02</td>\n",
       "      <td>0.32715</td>\n",
       "      <td>92.9843</td>\n",
       "      <td>1.582670e+06</td>\n",
       "      <td>146.0020</td>\n",
       "      <td>4298.32</td>\n",
       "      <td>32.6269</td>\n",
       "    </tr>\n",
       "  </tbody>\n",
       "</table>\n",
       "</div>"
      ],
      "text/plain": [
       "       tot_surf_area  npe_area  fa_enpr  fa_enppr    molmass_ea   avg_dev  euc_dist      sdc\n",
       "10926        8282.62   2436.02  0.29411   72.5260  1.128115e+06  117.2690   3789.33  35.8347\n",
       "6933         5739.11   1336.47  0.23287   51.8119  8.316414e+05   71.2598   2859.28  40.3002\n",
       "5946        11068.10   3621.02  0.32715   92.9843  1.582670e+06  146.0020   4298.32  32.6269"
      ]
     },
     "execution_count": 66,
     "metadata": {},
     "output_type": "execute_result"
    }
   ],
   "source": [
    "trainx.head(3)"
   ]
  },
  {
   "cell_type": "code",
   "execution_count": 67,
   "metadata": {},
   "outputs": [
    {
     "data": {
      "text/html": [
       "<div>\n",
       "<style scoped>\n",
       "    .dataframe tbody tr th:only-of-type {\n",
       "        vertical-align: middle;\n",
       "    }\n",
       "\n",
       "    .dataframe tbody tr th {\n",
       "        vertical-align: top;\n",
       "    }\n",
       "\n",
       "    .dataframe thead th {\n",
       "        text-align: right;\n",
       "    }\n",
       "</style>\n",
       "<table border=\"1\" class=\"dataframe\">\n",
       "  <thead>\n",
       "    <tr style=\"text-align: right;\">\n",
       "      <th></th>\n",
       "      <th>tot_surf_area</th>\n",
       "      <th>npe_area</th>\n",
       "      <th>fa_enpr</th>\n",
       "      <th>fa_enppr</th>\n",
       "      <th>molmass_ea</th>\n",
       "      <th>avg_dev</th>\n",
       "      <th>euc_dist</th>\n",
       "      <th>sdc</th>\n",
       "    </tr>\n",
       "  </thead>\n",
       "  <tbody>\n",
       "    <tr>\n",
       "      <th>9650</th>\n",
       "      <td>18432.60</td>\n",
       "      <td>7345.65</td>\n",
       "      <td>0.39851</td>\n",
       "      <td>187.7340</td>\n",
       "      <td>2543579.657</td>\n",
       "      <td>253.041</td>\n",
       "      <td>5188.86</td>\n",
       "      <td>27.3508</td>\n",
       "    </tr>\n",
       "    <tr>\n",
       "      <th>9374</th>\n",
       "      <td>7931.71</td>\n",
       "      <td>2646.11</td>\n",
       "      <td>0.33361</td>\n",
       "      <td>78.7551</td>\n",
       "      <td>1096018.172</td>\n",
       "      <td>122.386</td>\n",
       "      <td>3326.13</td>\n",
       "      <td>37.5253</td>\n",
       "    </tr>\n",
       "    <tr>\n",
       "      <th>4744</th>\n",
       "      <td>11916.00</td>\n",
       "      <td>2804.63</td>\n",
       "      <td>0.23536</td>\n",
       "      <td>143.7870</td>\n",
       "      <td>1652042.701</td>\n",
       "      <td>192.106</td>\n",
       "      <td>4147.90</td>\n",
       "      <td>31.9605</td>\n",
       "    </tr>\n",
       "  </tbody>\n",
       "</table>\n",
       "</div>"
      ],
      "text/plain": [
       "      tot_surf_area  npe_area  fa_enpr  fa_enppr   molmass_ea  avg_dev  euc_dist      sdc\n",
       "9650       18432.60   7345.65  0.39851  187.7340  2543579.657  253.041   5188.86  27.3508\n",
       "9374        7931.71   2646.11  0.33361   78.7551  1096018.172  122.386   3326.13  37.5253\n",
       "4744       11916.00   2804.63  0.23536  143.7870  1652042.701  192.106   4147.90  31.9605"
      ]
     },
     "execution_count": 67,
     "metadata": {},
     "output_type": "execute_result"
    }
   ],
   "source": [
    "testx.head(3)"
   ]
  },
  {
   "cell_type": "code",
   "execution_count": 64,
   "metadata": {},
   "outputs": [],
   "source": [
    "trainx,testx,trainy,testy = train_test_split(prot.drop('RMSD',axis=1),prot['RMSD'],test_size =0.3)"
   ]
  },
  {
   "cell_type": "code",
   "execution_count": 65,
   "metadata": {},
   "outputs": [
    {
     "name": "stdout",
     "output_type": "stream",
     "text": [
      "trainx=(10591, 8),trainy=(10591,),testx=(4539, 8),testy =(4539,)\n"
     ]
    }
   ],
   "source": [
    "print(\"trainx={},trainy={},testx={},testy ={}\".format(trainx.shape,trainy.shape,testx.shape,testy.shape))"
   ]
  },
  {
   "cell_type": "code",
   "execution_count": null,
   "metadata": {},
   "outputs": [],
   "source": [
    "'''\n",
    "train,test = train_test_split(prot,test_size=0.3)\n",
    "train.shape\n",
    "test.shape\n",
    "trainx= train.drop('RMSD',axis =1)\n",
    "trainy=train['RMSD']\n",
    "testx = test.drop('RMSD',axis=1)\n",
    "testy= test['RMSD']\n",
    "\n",
    "'''\n"
   ]
  },
  {
   "cell_type": "code",
   "execution_count": 69,
   "metadata": {},
   "outputs": [
    {
     "data": {
      "text/plain": [
       "9650     19.966\n",
       "9374     13.506\n",
       "4744      2.042\n",
       "5355      1.123\n",
       "1199     19.725\n",
       "          ...  \n",
       "4636     16.261\n",
       "839      16.402\n",
       "11777    17.546\n",
       "4745      2.019\n",
       "8276     19.595\n",
       "Name: RMSD, Length: 4539, dtype: float64"
      ]
     },
     "execution_count": 69,
     "metadata": {},
     "output_type": "execute_result"
    }
   ],
   "source": [
    "testy"
   ]
  },
  {
   "cell_type": "code",
   "execution_count": null,
   "metadata": {},
   "outputs": [],
   "source": [
    "#regression model building\n",
    "#OLS-> Ordinary Least Square method"
   ]
  },
  {
   "cell_type": "code",
   "execution_count": 70,
   "metadata": {},
   "outputs": [],
   "source": [
    "m1=  sm.OLS(trainy,trainx).fit()"
   ]
  },
  {
   "cell_type": "code",
   "execution_count": 71,
   "metadata": {},
   "outputs": [
    {
     "data": {
      "text/html": [
       "<table class=\"simpletable\">\n",
       "<caption>OLS Regression Results</caption>\n",
       "<tr>\n",
       "  <th>Dep. Variable:</th>          <td>RMSD</td>       <th>  R-squared (uncentered):</th>      <td>   0.720</td> \n",
       "</tr>\n",
       "<tr>\n",
       "  <th>Model:</th>                   <td>OLS</td>       <th>  Adj. R-squared (uncentered):</th> <td>   0.719</td> \n",
       "</tr>\n",
       "<tr>\n",
       "  <th>Method:</th>             <td>Least Squares</td>  <th>  F-statistic:       </th>          <td>   3394.</td> \n",
       "</tr>\n",
       "<tr>\n",
       "  <th>Date:</th>             <td>Fri, 12 Mar 2021</td> <th>  Prob (F-statistic):</th>           <td>  0.00</td>  \n",
       "</tr>\n",
       "<tr>\n",
       "  <th>Time:</th>                 <td>11:32:01</td>     <th>  Log-Likelihood:    </th>          <td> -32586.</td> \n",
       "</tr>\n",
       "<tr>\n",
       "  <th>No. Observations:</th>      <td> 10591</td>      <th>  AIC:               </th>          <td>6.519e+04</td>\n",
       "</tr>\n",
       "<tr>\n",
       "  <th>Df Residuals:</th>          <td> 10583</td>      <th>  BIC:               </th>          <td>6.525e+04</td>\n",
       "</tr>\n",
       "<tr>\n",
       "  <th>Df Model:</th>              <td>     8</td>      <th>                     </th>              <td> </td>    \n",
       "</tr>\n",
       "<tr>\n",
       "  <th>Covariance Type:</th>      <td>nonrobust</td>    <th>                     </th>              <td> </td>    \n",
       "</tr>\n",
       "</table>\n",
       "<table class=\"simpletable\">\n",
       "<tr>\n",
       "        <td></td>           <th>coef</th>     <th>std err</th>      <th>t</th>      <th>P>|t|</th>  <th>[0.025</th>    <th>0.975]</th>  \n",
       "</tr>\n",
       "<tr>\n",
       "  <th>tot_surf_area</th> <td>    0.0021</td> <td>    0.000</td> <td>    8.975</td> <td> 0.000</td> <td>    0.002</td> <td>    0.003</td>\n",
       "</tr>\n",
       "<tr>\n",
       "  <th>npe_area</th>      <td>    0.0004</td> <td>    0.000</td> <td>    2.277</td> <td> 0.023</td> <td> 6.09e-05</td> <td>    0.001</td>\n",
       "</tr>\n",
       "<tr>\n",
       "  <th>fa_enpr</th>       <td>   26.9790</td> <td>    1.755</td> <td>   15.369</td> <td> 0.000</td> <td>   23.538</td> <td>   30.420</td>\n",
       "</tr>\n",
       "<tr>\n",
       "  <th>fa_enppr</th>      <td>   -0.1006</td> <td>    0.003</td> <td>  -29.600</td> <td> 0.000</td> <td>   -0.107</td> <td>   -0.094</td>\n",
       "</tr>\n",
       "<tr>\n",
       "  <th>molmass_ea</th>    <td>-5.286e-06</td> <td> 1.49e-06</td> <td>   -3.543</td> <td> 0.000</td> <td>-8.21e-06</td> <td>-2.36e-06</td>\n",
       "</tr>\n",
       "<tr>\n",
       "  <th>avg_dev</th>       <td>   -0.0209</td> <td>    0.004</td> <td>   -5.727</td> <td> 0.000</td> <td>   -0.028</td> <td>   -0.014</td>\n",
       "</tr>\n",
       "<tr>\n",
       "  <th>euc_dist</th>      <td>   -0.0002</td> <td> 3.66e-05</td> <td>   -4.276</td> <td> 0.000</td> <td>   -0.000</td> <td>-8.47e-05</td>\n",
       "</tr>\n",
       "<tr>\n",
       "  <th>sdc</th>           <td>   -0.0408</td> <td>    0.012</td> <td>   -3.442</td> <td> 0.001</td> <td>   -0.064</td> <td>   -0.018</td>\n",
       "</tr>\n",
       "</table>\n",
       "<table class=\"simpletable\">\n",
       "<tr>\n",
       "  <th>Omnibus:</th>       <td>396.766</td> <th>  Durbin-Watson:     </th> <td>   1.996</td>\n",
       "</tr>\n",
       "<tr>\n",
       "  <th>Prob(Omnibus):</th> <td> 0.000</td>  <th>  Jarque-Bera (JB):  </th> <td> 410.291</td>\n",
       "</tr>\n",
       "<tr>\n",
       "  <th>Skew:</th>          <td> 0.455</td>  <th>  Prob(JB):          </th> <td>8.06e-90</td>\n",
       "</tr>\n",
       "<tr>\n",
       "  <th>Kurtosis:</th>      <td> 2.682</td>  <th>  Cond. No.          </th> <td>5.11e+07</td>\n",
       "</tr>\n",
       "</table><br/><br/>Warnings:<br/>[1] Standard Errors assume that the covariance matrix of the errors is correctly specified.<br/>[2] The condition number is large, 5.11e+07. This might indicate that there are<br/>strong multicollinearity or other numerical problems."
      ],
      "text/plain": [
       "<class 'statsmodels.iolib.summary.Summary'>\n",
       "\"\"\"\n",
       "                                 OLS Regression Results                                \n",
       "=======================================================================================\n",
       "Dep. Variable:                   RMSD   R-squared (uncentered):                   0.720\n",
       "Model:                            OLS   Adj. R-squared (uncentered):              0.719\n",
       "Method:                 Least Squares   F-statistic:                              3394.\n",
       "Date:                Fri, 12 Mar 2021   Prob (F-statistic):                        0.00\n",
       "Time:                        11:32:01   Log-Likelihood:                         -32586.\n",
       "No. Observations:               10591   AIC:                                  6.519e+04\n",
       "Df Residuals:                   10583   BIC:                                  6.525e+04\n",
       "Df Model:                           8                                                  \n",
       "Covariance Type:            nonrobust                                                  \n",
       "=================================================================================\n",
       "                    coef    std err          t      P>|t|      [0.025      0.975]\n",
       "---------------------------------------------------------------------------------\n",
       "tot_surf_area     0.0021      0.000      8.975      0.000       0.002       0.003\n",
       "npe_area          0.0004      0.000      2.277      0.023    6.09e-05       0.001\n",
       "fa_enpr          26.9790      1.755     15.369      0.000      23.538      30.420\n",
       "fa_enppr         -0.1006      0.003    -29.600      0.000      -0.107      -0.094\n",
       "molmass_ea    -5.286e-06   1.49e-06     -3.543      0.000   -8.21e-06   -2.36e-06\n",
       "avg_dev          -0.0209      0.004     -5.727      0.000      -0.028      -0.014\n",
       "euc_dist         -0.0002   3.66e-05     -4.276      0.000      -0.000   -8.47e-05\n",
       "sdc              -0.0408      0.012     -3.442      0.001      -0.064      -0.018\n",
       "==============================================================================\n",
       "Omnibus:                      396.766   Durbin-Watson:                   1.996\n",
       "Prob(Omnibus):                  0.000   Jarque-Bera (JB):              410.291\n",
       "Skew:                           0.455   Prob(JB):                     8.06e-90\n",
       "Kurtosis:                       2.682   Cond. No.                     5.11e+07\n",
       "==============================================================================\n",
       "\n",
       "Warnings:\n",
       "[1] Standard Errors assume that the covariance matrix of the errors is correctly specified.\n",
       "[2] The condition number is large, 5.11e+07. This might indicate that there are\n",
       "strong multicollinearity or other numerical problems.\n",
       "\"\"\""
      ]
     },
     "execution_count": 71,
     "metadata": {},
     "output_type": "execute_result"
    }
   ],
   "source": [
    "#summarise the model\n",
    "m1.summary()"
   ]
  },
  {
   "cell_type": "code",
   "execution_count": null,
   "metadata": {},
   "outputs": [],
   "source": [
    "#AIC/BIC -> variance of the features"
   ]
  },
  {
   "cell_type": "code",
   "execution_count": null,
   "metadata": {},
   "outputs": [],
   "source": [
    "#Add a constant term to the trainx and testx\n",
    "#this will ensure that the model summary has the 'intercept' term displayed"
   ]
  },
  {
   "cell_type": "code",
   "execution_count": 173,
   "metadata": {},
   "outputs": [],
   "source": [
    "trainx =  sm.add_constant(trainx)\n",
    "testx  = sm.add_constant(testx)"
   ]
  },
  {
   "cell_type": "code",
   "execution_count": 73,
   "metadata": {},
   "outputs": [],
   "source": [
    "#Linear Regression model building \n",
    "#OLS-> \n",
    "m1=sm.OLS(trainy,trainx).fit()"
   ]
  },
  {
   "cell_type": "code",
   "execution_count": 74,
   "metadata": {},
   "outputs": [
    {
     "data": {
      "text/html": [
       "<table class=\"simpletable\">\n",
       "<caption>OLS Regression Results</caption>\n",
       "<tr>\n",
       "  <th>Dep. Variable:</th>          <td>RMSD</td>       <th>  R-squared:         </th> <td>   0.265</td> \n",
       "</tr>\n",
       "<tr>\n",
       "  <th>Model:</th>                   <td>OLS</td>       <th>  Adj. R-squared:    </th> <td>   0.264</td> \n",
       "</tr>\n",
       "<tr>\n",
       "  <th>Method:</th>             <td>Least Squares</td>  <th>  F-statistic:       </th> <td>   476.0</td> \n",
       "</tr>\n",
       "<tr>\n",
       "  <th>Date:</th>             <td>Fri, 12 Mar 2021</td> <th>  Prob (F-statistic):</th>  <td>  0.00</td>  \n",
       "</tr>\n",
       "<tr>\n",
       "  <th>Time:</th>                 <td>11:32:13</td>     <th>  Log-Likelihood:    </th> <td> -32558.</td> \n",
       "</tr>\n",
       "<tr>\n",
       "  <th>No. Observations:</th>      <td> 10591</td>      <th>  AIC:               </th> <td>6.513e+04</td>\n",
       "</tr>\n",
       "<tr>\n",
       "  <th>Df Residuals:</th>          <td> 10582</td>      <th>  BIC:               </th> <td>6.520e+04</td>\n",
       "</tr>\n",
       "<tr>\n",
       "  <th>Df Model:</th>              <td>     8</td>      <th>                     </th>     <td> </td>    \n",
       "</tr>\n",
       "<tr>\n",
       "  <th>Covariance Type:</th>      <td>nonrobust</td>    <th>                     </th>     <td> </td>    \n",
       "</tr>\n",
       "</table>\n",
       "<table class=\"simpletable\">\n",
       "<tr>\n",
       "        <td></td>           <th>coef</th>     <th>std err</th>      <th>t</th>      <th>P>|t|</th>  <th>[0.025</th>    <th>0.975]</th>  \n",
       "</tr>\n",
       "<tr>\n",
       "  <th>const</th>         <td>    9.2383</td> <td>    1.256</td> <td>    7.358</td> <td> 0.000</td> <td>    6.777</td> <td>   11.700</td>\n",
       "</tr>\n",
       "<tr>\n",
       "  <th>tot_surf_area</th> <td>    0.0018</td> <td>    0.000</td> <td>    7.254</td> <td> 0.000</td> <td>    0.001</td> <td>    0.002</td>\n",
       "</tr>\n",
       "<tr>\n",
       "  <th>npe_area</th>      <td>    0.0014</td> <td>    0.000</td> <td>    5.975</td> <td> 0.000</td> <td>    0.001</td> <td>    0.002</td>\n",
       "</tr>\n",
       "<tr>\n",
       "  <th>fa_enpr</th>       <td>   17.4302</td> <td>    2.180</td> <td>    7.997</td> <td> 0.000</td> <td>   13.158</td> <td>   21.703</td>\n",
       "</tr>\n",
       "<tr>\n",
       "  <th>fa_enppr</th>      <td>   -0.1043</td> <td>    0.003</td> <td>  -30.434</td> <td> 0.000</td> <td>   -0.111</td> <td>   -0.098</td>\n",
       "</tr>\n",
       "<tr>\n",
       "  <th>molmass_ea</th>    <td>-5.659e-06</td> <td> 1.49e-06</td> <td>   -3.800</td> <td> 0.000</td> <td>-8.58e-06</td> <td>-2.74e-06</td>\n",
       "</tr>\n",
       "<tr>\n",
       "  <th>avg_dev</th>       <td>   -0.0199</td> <td>    0.004</td> <td>   -5.463</td> <td> 0.000</td> <td>   -0.027</td> <td>   -0.013</td>\n",
       "</tr>\n",
       "<tr>\n",
       "  <th>euc_dist</th>      <td>   -0.0002</td> <td> 3.71e-05</td> <td>   -5.561</td> <td> 0.000</td> <td>   -0.000</td> <td>   -0.000</td>\n",
       "</tr>\n",
       "<tr>\n",
       "  <th>sdc</th>           <td>   -0.1721</td> <td>    0.021</td> <td>   -8.040</td> <td> 0.000</td> <td>   -0.214</td> <td>   -0.130</td>\n",
       "</tr>\n",
       "</table>\n",
       "<table class=\"simpletable\">\n",
       "<tr>\n",
       "  <th>Omnibus:</th>       <td>466.394</td> <th>  Durbin-Watson:     </th> <td>   1.997</td> \n",
       "</tr>\n",
       "<tr>\n",
       "  <th>Prob(Omnibus):</th> <td> 0.000</td>  <th>  Jarque-Bera (JB):  </th> <td> 456.899</td> \n",
       "</tr>\n",
       "<tr>\n",
       "  <th>Skew:</th>          <td> 0.466</td>  <th>  Prob(JB):          </th> <td>6.10e-100</td>\n",
       "</tr>\n",
       "<tr>\n",
       "  <th>Kurtosis:</th>      <td> 2.591</td>  <th>  Cond. No.          </th> <td>6.81e+07</td> \n",
       "</tr>\n",
       "</table><br/><br/>Warnings:<br/>[1] Standard Errors assume that the covariance matrix of the errors is correctly specified.<br/>[2] The condition number is large, 6.81e+07. This might indicate that there are<br/>strong multicollinearity or other numerical problems."
      ],
      "text/plain": [
       "<class 'statsmodels.iolib.summary.Summary'>\n",
       "\"\"\"\n",
       "                            OLS Regression Results                            \n",
       "==============================================================================\n",
       "Dep. Variable:                   RMSD   R-squared:                       0.265\n",
       "Model:                            OLS   Adj. R-squared:                  0.264\n",
       "Method:                 Least Squares   F-statistic:                     476.0\n",
       "Date:                Fri, 12 Mar 2021   Prob (F-statistic):               0.00\n",
       "Time:                        11:32:13   Log-Likelihood:                -32558.\n",
       "No. Observations:               10591   AIC:                         6.513e+04\n",
       "Df Residuals:                   10582   BIC:                         6.520e+04\n",
       "Df Model:                           8                                         \n",
       "Covariance Type:            nonrobust                                         \n",
       "=================================================================================\n",
       "                    coef    std err          t      P>|t|      [0.025      0.975]\n",
       "---------------------------------------------------------------------------------\n",
       "const             9.2383      1.256      7.358      0.000       6.777      11.700\n",
       "tot_surf_area     0.0018      0.000      7.254      0.000       0.001       0.002\n",
       "npe_area          0.0014      0.000      5.975      0.000       0.001       0.002\n",
       "fa_enpr          17.4302      2.180      7.997      0.000      13.158      21.703\n",
       "fa_enppr         -0.1043      0.003    -30.434      0.000      -0.111      -0.098\n",
       "molmass_ea    -5.659e-06   1.49e-06     -3.800      0.000   -8.58e-06   -2.74e-06\n",
       "avg_dev          -0.0199      0.004     -5.463      0.000      -0.027      -0.013\n",
       "euc_dist         -0.0002   3.71e-05     -5.561      0.000      -0.000      -0.000\n",
       "sdc              -0.1721      0.021     -8.040      0.000      -0.214      -0.130\n",
       "==============================================================================\n",
       "Omnibus:                      466.394   Durbin-Watson:                   1.997\n",
       "Prob(Omnibus):                  0.000   Jarque-Bera (JB):              456.899\n",
       "Skew:                           0.466   Prob(JB):                    6.10e-100\n",
       "Kurtosis:                       2.591   Cond. No.                     6.81e+07\n",
       "==============================================================================\n",
       "\n",
       "Warnings:\n",
       "[1] Standard Errors assume that the covariance matrix of the errors is correctly specified.\n",
       "[2] The condition number is large, 6.81e+07. This might indicate that there are\n",
       "strong multicollinearity or other numerical problems.\n",
       "\"\"\""
      ]
     },
     "execution_count": 74,
     "metadata": {},
     "output_type": "execute_result"
    }
   ],
   "source": [
    "#summarise the model \n",
    "m1.summary()"
   ]
  },
  {
   "cell_type": "code",
   "execution_count": 75,
   "metadata": {},
   "outputs": [
    {
     "name": "stdout",
     "output_type": "stream",
     "text": [
      "7.132029940765696e-13\n"
     ]
    }
   ],
   "source": [
    "#validation of LR assumptions\n",
    "#1) mean of residuals =0\n",
    "print(m1.resid.mean())"
   ]
  },
  {
   "cell_type": "code",
   "execution_count": null,
   "metadata": {},
   "outputs": [],
   "source": [
    "'''\n",
    "m1.rsquared\n",
    "m1.rsquared_adj\n",
    "dir(m1)\n",
    "\n",
    "'''"
   ]
  },
  {
   "cell_type": "code",
   "execution_count": 76,
   "metadata": {},
   "outputs": [
    {
     "data": {
      "text/plain": [
       "0.26461035381019227"
      ]
     },
     "execution_count": 76,
     "metadata": {},
     "output_type": "execute_result"
    }
   ],
   "source": [
    "m1.rsquared"
   ]
  },
  {
   "cell_type": "code",
   "execution_count": 77,
   "metadata": {},
   "outputs": [
    {
     "data": {
      "text/plain": [
       "0.26405439868171765"
      ]
     },
     "execution_count": 77,
     "metadata": {},
     "output_type": "execute_result"
    }
   ],
   "source": [
    "m1.rsquared_adj"
   ]
  },
  {
   "cell_type": "code",
   "execution_count": 78,
   "metadata": {},
   "outputs": [
    {
     "data": {
      "text/plain": [
       "['HC0_se',\n",
       " 'HC1_se',\n",
       " 'HC2_se',\n",
       " 'HC3_se',\n",
       " '_HCCM',\n",
       " '__class__',\n",
       " '__delattr__',\n",
       " '__dict__',\n",
       " '__dir__',\n",
       " '__doc__',\n",
       " '__eq__',\n",
       " '__format__',\n",
       " '__ge__',\n",
       " '__getattribute__',\n",
       " '__gt__',\n",
       " '__hash__',\n",
       " '__init__',\n",
       " '__init_subclass__',\n",
       " '__le__',\n",
       " '__lt__',\n",
       " '__module__',\n",
       " '__ne__',\n",
       " '__new__',\n",
       " '__reduce__',\n",
       " '__reduce_ex__',\n",
       " '__repr__',\n",
       " '__setattr__',\n",
       " '__sizeof__',\n",
       " '__str__',\n",
       " '__subclasshook__',\n",
       " '__weakref__',\n",
       " '_cache',\n",
       " '_data_attr',\n",
       " '_get_robustcov_results',\n",
       " '_is_nested',\n",
       " '_use_t',\n",
       " '_wexog_singular_values',\n",
       " 'aic',\n",
       " 'bic',\n",
       " 'bse',\n",
       " 'centered_tss',\n",
       " 'compare_f_test',\n",
       " 'compare_lm_test',\n",
       " 'compare_lr_test',\n",
       " 'condition_number',\n",
       " 'conf_int',\n",
       " 'conf_int_el',\n",
       " 'cov_HC0',\n",
       " 'cov_HC1',\n",
       " 'cov_HC2',\n",
       " 'cov_HC3',\n",
       " 'cov_kwds',\n",
       " 'cov_params',\n",
       " 'cov_type',\n",
       " 'df_model',\n",
       " 'df_resid',\n",
       " 'diagn',\n",
       " 'eigenvals',\n",
       " 'el_test',\n",
       " 'ess',\n",
       " 'f_pvalue',\n",
       " 'f_test',\n",
       " 'fittedvalues',\n",
       " 'fvalue',\n",
       " 'get_influence',\n",
       " 'get_prediction',\n",
       " 'get_robustcov_results',\n",
       " 'initialize',\n",
       " 'k_constant',\n",
       " 'llf',\n",
       " 'load',\n",
       " 'model',\n",
       " 'mse_model',\n",
       " 'mse_resid',\n",
       " 'mse_total',\n",
       " 'nobs',\n",
       " 'normalized_cov_params',\n",
       " 'outlier_test',\n",
       " 'params',\n",
       " 'predict',\n",
       " 'pvalues',\n",
       " 'remove_data',\n",
       " 'resid',\n",
       " 'resid_pearson',\n",
       " 'rsquared',\n",
       " 'rsquared_adj',\n",
       " 'save',\n",
       " 'scale',\n",
       " 'ssr',\n",
       " 'summary',\n",
       " 'summary2',\n",
       " 't_test',\n",
       " 't_test_pairwise',\n",
       " 'tvalues',\n",
       " 'uncentered_tss',\n",
       " 'use_t',\n",
       " 'wald_test',\n",
       " 'wald_test_terms',\n",
       " 'wresid']"
      ]
     },
     "execution_count": 78,
     "metadata": {},
     "output_type": "execute_result"
    }
   ],
   "source": [
    "dir(m1)"
   ]
  },
  {
   "cell_type": "code",
   "execution_count": 79,
   "metadata": {},
   "outputs": [
    {
     "data": {
      "text/plain": [
       "<matplotlib.axes._subplots.AxesSubplot at 0x1f184fe8648>"
      ]
     },
     "execution_count": 79,
     "metadata": {},
     "output_type": "execute_result"
    },
    {
     "data": {
      "image/png": "[encoded data removed]",
      "text/plain": [
       "<Figure size 432x288 with 1 Axes>"
      ]
     },
     "metadata": {},
     "output_type": "display_data"
    }
   ],
   "source": [
    "#2) residuals have constant variance(homoscedasticity)\n",
    "#plot the graph   #spread of errors\n",
    "#lowess -> locally weighted scatterplot smoothing\n",
    "yhat = m1.predict(trainx)\n",
    "sns.set(style = \"whitegrid\")\n",
    "sns.residplot(m1.resid,yhat,lowess=True,color='g')\n"
   ]
  },
  {
   "cell_type": "code",
   "execution_count": null,
   "metadata": {},
   "outputs": [],
   "source": [
    "#based  on the graph , the model is hetroscedastic"
   ]
  },
  {
   "cell_type": "code",
   "execution_count": 80,
   "metadata": {},
   "outputs": [
    {
     "name": "stdout",
     "output_type": "stream",
     "text": [
      "Reject H0. Model is Heteroscedastic\n"
     ]
    }
   ],
   "source": [
    "#bruesch-pagan test against hetroscedasticity\n",
    "import statsmodels.stats.api as sms\n",
    "\n",
    "#H0: homoscedasticity\n",
    "#H1:  hetroscedasticity\n",
    "\n",
    "#return value of breusch pagan\n",
    "#lagrange_multiplier , pvalue, fscore, fp-value\n",
    "\n",
    "#parameters: [residuals,x-arrays]\n",
    "pval = sms.het_breuschpagan(m1.resid,m1.model.exog)[1]\n",
    "\n",
    "if pval<0.05:\n",
    "    print(\"Reject H0. Model is Heteroscedastic\")\n",
    "else:\n",
    "    print(\"FTR H0. Model is Homoscedastic\")\n"
   ]
  },
  {
   "cell_type": "code",
   "execution_count": 81,
   "metadata": {},
   "outputs": [
    {
     "data": {
      "image/png": "[encoded data removed]",
      "text/plain": [
       "<Figure size 432x288 with 1 Axes>"
      ]
     },
     "metadata": {},
     "output_type": "display_data"
    }
   ],
   "source": [
    "#3) residuals have a normal distribution\n",
    "stats.probplot(m1.resid,dist='norm',plot=pylab)\n",
    "pylab.show()"
   ]
  },
  {
   "cell_type": "code",
   "execution_count": 82,
   "metadata": {},
   "outputs": [
    {
     "data": {
      "text/plain": [
       "(15130, 9)"
      ]
     },
     "execution_count": 82,
     "metadata": {},
     "output_type": "execute_result"
    }
   ],
   "source": [
    "#4) rows> columns\n",
    "prot.shape"
   ]
  },
  {
   "cell_type": "code",
   "execution_count": null,
   "metadata": {},
   "outputs": [],
   "source": [
    "\n",
    "#\n",
    "#  tr     te\n",
    "    \n",
    "#  5      10               -> Overfitting\n",
    "\n",
    "#  55      57             ->similar\n",
    "#  55      54or 56         ->underfit  (when both train test erors are high)\n",
    "# 15        7               ->good model"
   ]
  },
  {
   "cell_type": "code",
   "execution_count": 83,
   "metadata": {},
   "outputs": [],
   "source": [
    "#k-Fold Cross-validation\n",
    "folds= 5\n",
    "cv_mse = []\n",
    "\n",
    "X= trainx[0:30].values\n",
    "Y= trainy[0:30].values"
   ]
  },
  {
   "cell_type": "code",
   "execution_count": 84,
   "metadata": {},
   "outputs": [],
   "source": [
    "kf=KFold(folds)\n",
    "#kf.get_n_splits(X)"
   ]
  },
  {
   "cell_type": "code",
   "execution_count": 85,
   "metadata": {},
   "outputs": [
    {
     "name": "stdout",
     "output_type": "stream",
     "text": [
      "train =  [ 6  7  8  9 10 11 12 13 14 15 16 17 18 19 20 21 22 23 24 25 26 27 28 29]\n",
      "test =  [0 1 2 3 4 5]\n",
      "\n",
      "\n",
      "train =  [ 0  1  2  3  4  5 12 13 14 15 16 17 18 19 20 21 22 23 24 25 26 27 28 29]\n",
      "test =  [ 6  7  8  9 10 11]\n",
      "\n",
      "\n",
      "train =  [ 0  1  2  3  4  5  6  7  8  9 10 11 18 19 20 21 22 23 24 25 26 27 28 29]\n",
      "test =  [12 13 14 15 16 17]\n",
      "\n",
      "\n",
      "train =  [ 0  1  2  3  4  5  6  7  8  9 10 11 12 13 14 15 16 17 24 25 26 27 28 29]\n",
      "test =  [18 19 20 21 22 23]\n",
      "\n",
      "\n",
      "train =  [ 0  1  2  3  4  5  6  7  8  9 10 11 12 13 14 15 16 17 18 19 20 21 22 23]\n",
      "test =  [24 25 26 27 28 29]\n",
      "\n",
      "\n"
     ]
    }
   ],
   "source": [
    "for train_index,test_index in kf.split(X):\n",
    "    print(\"train = \", train_index)\n",
    "    print(\"test = \",test_index)\n",
    "    print(\"\\n\")"
   ]
  },
  {
   "cell_type": "code",
   "execution_count": 86,
   "metadata": {},
   "outputs": [
    {
     "data": {
      "text/plain": [
       "KFold(n_splits=5, random_state=None, shuffle=False)"
      ]
     },
     "execution_count": 86,
     "metadata": {},
     "output_type": "execute_result"
    }
   ],
   "source": [
    "kf"
   ]
  },
  {
   "cell_type": "code",
   "execution_count": 87,
   "metadata": {},
   "outputs": [],
   "source": [
    "#k-Fold Cross-validation\n",
    "folds= 5\n",
    "\n",
    "\n",
    "X= trainx.values\n",
    "Y= trainy.values\n",
    "\n",
    "kf=KFold(folds)\n",
    "#kf.get_n_splits(X)\n",
    "\n"
   ]
  },
  {
   "cell_type": "code",
   "execution_count": 88,
   "metadata": {},
   "outputs": [],
   "source": [
    "cv_mse = []\n",
    "for train_index,test_index in kf.split(X):\n",
    "    cv_trainx,cv_trainy =X[train_index],Y[train_index]\n",
    "    cv_testx, cv_testy = X[test_index], Y[test_index]\n",
    "     \n",
    "    #BUILD MODEL on cv_train and predict on cv_test    \n",
    "    m=sm.OLS(cv_trainy,cv_trainx).fit() \n",
    "    \n",
    "    p=m.predict(cv_testx)\n",
    "    \n",
    "    \n",
    "     #store MSE in the list for each model\n",
    "    cv_mse.append(np.round(mean_squared_error(cv_testy,p),3))\n",
    "    \n"
   ]
  },
  {
   "cell_type": "code",
   "execution_count": 89,
   "metadata": {},
   "outputs": [
    {
     "data": {
      "text/plain": [
       "[26.805, 26.002, 28.657, 26.553, 29.471]"
      ]
     },
     "execution_count": 89,
     "metadata": {},
     "output_type": "execute_result"
    }
   ],
   "source": [
    " cv_mse"
   ]
  },
  {
   "cell_type": "code",
   "execution_count": 90,
   "metadata": {},
   "outputs": [
    {
     "data": {
      "text/plain": [
       "27.4976"
      ]
     },
     "execution_count": 90,
     "metadata": {},
     "output_type": "execute_result"
    }
   ],
   "source": [
    "#mean MSE of K-Fold CV\n",
    "np.mean(cv_mse)"
   ]
  },
  {
   "cell_type": "code",
   "execution_count": 91,
   "metadata": {},
   "outputs": [],
   "source": [
    "#prediction on the test data\n",
    "p1=m1.predict(testx)"
   ]
  },
  {
   "cell_type": "code",
   "execution_count": 92,
   "metadata": {},
   "outputs": [
    {
     "name": "stdout",
     "output_type": "stream",
     "text": [
      "Training MSE =27.4976, Testing MSE = 27.058\n"
     ]
    }
   ],
   "source": [
    "#MSE of model 1 \n",
    "mse1= round(mean_squared_error(testy,p1),3)\n",
    "print('Training MSE ={}, Testing MSE = {}'.format(np.mean(cv_mse),mse1))\n"
   ]
  },
  {
   "cell_type": "code",
   "execution_count": 93,
   "metadata": {},
   "outputs": [
    {
     "data": {
      "text/plain": [
       "9650     19.966\n",
       "9374     13.506\n",
       "4744      2.042\n",
       "5355      1.123\n",
       "1199     19.725\n",
       "          ...  \n",
       "4636     16.261\n",
       "839      16.402\n",
       "11777    17.546\n",
       "4745      2.019\n",
       "8276     19.595\n",
       "Name: RMSD, Length: 4539, dtype: float64"
      ]
     },
     "execution_count": 93,
     "metadata": {},
     "output_type": "execute_result"
    }
   ],
   "source": [
    "testy"
   ]
  },
  {
   "cell_type": "code",
   "execution_count": 94,
   "metadata": {},
   "outputs": [
    {
     "data": {
      "text/plain": [
       "(4539,)"
      ]
     },
     "execution_count": 94,
     "metadata": {},
     "output_type": "execute_result"
    }
   ],
   "source": [
    "testy.shape"
   ]
  },
  {
   "cell_type": "code",
   "execution_count": 95,
   "metadata": {},
   "outputs": [
    {
     "data": {
      "text/plain": [
       "9650     13.898549\n",
       "9374      8.636855\n",
       "4744      3.617015\n",
       "5355      5.596717\n",
       "1199     14.845103\n",
       "           ...    \n",
       "4636     13.656036\n",
       "839       8.348736\n",
       "11777    11.682617\n",
       "4745      8.074392\n",
       "8276      6.700936\n",
       "Length: 4539, dtype: float64"
      ]
     },
     "execution_count": 95,
     "metadata": {},
     "output_type": "execute_result"
    }
   ],
   "source": [
    "p1"
   ]
  },
  {
   "cell_type": "code",
   "execution_count": 96,
   "metadata": {},
   "outputs": [
    {
     "data": {
      "text/plain": [
       "(4539,)"
      ]
     },
     "execution_count": 96,
     "metadata": {},
     "output_type": "execute_result"
    }
   ],
   "source": [
    "p1.shape"
   ]
  },
  {
   "cell_type": "code",
   "execution_count": 97,
   "metadata": {},
   "outputs": [
    {
     "data": {
      "text/html": [
       "<div>\n",
       "<style scoped>\n",
       "    .dataframe tbody tr th:only-of-type {\n",
       "        vertical-align: middle;\n",
       "    }\n",
       "\n",
       "    .dataframe tbody tr th {\n",
       "        vertical-align: top;\n",
       "    }\n",
       "\n",
       "    .dataframe thead th {\n",
       "        text-align: right;\n",
       "    }\n",
       "</style>\n",
       "<table border=\"1\" class=\"dataframe\">\n",
       "  <thead>\n",
       "    <tr style=\"text-align: right;\">\n",
       "      <th></th>\n",
       "      <th>actual</th>\n",
       "      <th>predicted</th>\n",
       "    </tr>\n",
       "  </thead>\n",
       "  <tbody>\n",
       "    <tr>\n",
       "      <th>9650</th>\n",
       "      <td>19.966</td>\n",
       "      <td>13.899</td>\n",
       "    </tr>\n",
       "    <tr>\n",
       "      <th>9374</th>\n",
       "      <td>13.506</td>\n",
       "      <td>8.637</td>\n",
       "    </tr>\n",
       "    <tr>\n",
       "      <th>4744</th>\n",
       "      <td>2.042</td>\n",
       "      <td>3.617</td>\n",
       "    </tr>\n",
       "    <tr>\n",
       "      <th>5355</th>\n",
       "      <td>1.123</td>\n",
       "      <td>5.597</td>\n",
       "    </tr>\n",
       "    <tr>\n",
       "      <th>1199</th>\n",
       "      <td>19.725</td>\n",
       "      <td>14.845</td>\n",
       "    </tr>\n",
       "    <tr>\n",
       "      <th>7382</th>\n",
       "      <td>20.280</td>\n",
       "      <td>1.384</td>\n",
       "    </tr>\n",
       "    <tr>\n",
       "      <th>6468</th>\n",
       "      <td>1.648</td>\n",
       "      <td>4.142</td>\n",
       "    </tr>\n",
       "    <tr>\n",
       "      <th>9361</th>\n",
       "      <td>12.456</td>\n",
       "      <td>8.169</td>\n",
       "    </tr>\n",
       "    <tr>\n",
       "      <th>3926</th>\n",
       "      <td>11.064</td>\n",
       "      <td>7.970</td>\n",
       "    </tr>\n",
       "    <tr>\n",
       "      <th>3306</th>\n",
       "      <td>1.299</td>\n",
       "      <td>8.432</td>\n",
       "    </tr>\n",
       "    <tr>\n",
       "      <th>6218</th>\n",
       "      <td>4.209</td>\n",
       "      <td>6.572</td>\n",
       "    </tr>\n",
       "    <tr>\n",
       "      <th>13629</th>\n",
       "      <td>10.282</td>\n",
       "      <td>6.048</td>\n",
       "    </tr>\n",
       "    <tr>\n",
       "      <th>1887</th>\n",
       "      <td>15.609</td>\n",
       "      <td>11.839</td>\n",
       "    </tr>\n",
       "    <tr>\n",
       "      <th>816</th>\n",
       "      <td>15.317</td>\n",
       "      <td>10.466</td>\n",
       "    </tr>\n",
       "    <tr>\n",
       "      <th>3337</th>\n",
       "      <td>1.332</td>\n",
       "      <td>4.321</td>\n",
       "    </tr>\n",
       "    <tr>\n",
       "      <th>9826</th>\n",
       "      <td>1.058</td>\n",
       "      <td>5.816</td>\n",
       "    </tr>\n",
       "    <tr>\n",
       "      <th>601</th>\n",
       "      <td>7.387</td>\n",
       "      <td>3.380</td>\n",
       "    </tr>\n",
       "    <tr>\n",
       "      <th>4011</th>\n",
       "      <td>1.901</td>\n",
       "      <td>2.729</td>\n",
       "    </tr>\n",
       "    <tr>\n",
       "      <th>10575</th>\n",
       "      <td>0.694</td>\n",
       "      <td>4.667</td>\n",
       "    </tr>\n",
       "    <tr>\n",
       "      <th>2665</th>\n",
       "      <td>14.839</td>\n",
       "      <td>10.201</td>\n",
       "    </tr>\n",
       "    <tr>\n",
       "      <th>1256</th>\n",
       "      <td>3.326</td>\n",
       "      <td>8.746</td>\n",
       "    </tr>\n",
       "    <tr>\n",
       "      <th>10245</th>\n",
       "      <td>0.914</td>\n",
       "      <td>7.109</td>\n",
       "    </tr>\n",
       "    <tr>\n",
       "      <th>13709</th>\n",
       "      <td>12.812</td>\n",
       "      <td>10.088</td>\n",
       "    </tr>\n",
       "    <tr>\n",
       "      <th>4899</th>\n",
       "      <td>1.625</td>\n",
       "      <td>6.389</td>\n",
       "    </tr>\n",
       "    <tr>\n",
       "      <th>10</th>\n",
       "      <td>1.657</td>\n",
       "      <td>10.294</td>\n",
       "    </tr>\n",
       "    <tr>\n",
       "      <th>9167</th>\n",
       "      <td>1.043</td>\n",
       "      <td>5.589</td>\n",
       "    </tr>\n",
       "    <tr>\n",
       "      <th>10049</th>\n",
       "      <td>15.631</td>\n",
       "      <td>10.914</td>\n",
       "    </tr>\n",
       "    <tr>\n",
       "      <th>4708</th>\n",
       "      <td>6.934</td>\n",
       "      <td>7.953</td>\n",
       "    </tr>\n",
       "    <tr>\n",
       "      <th>4805</th>\n",
       "      <td>2.855</td>\n",
       "      <td>9.782</td>\n",
       "    </tr>\n",
       "    <tr>\n",
       "      <th>3091</th>\n",
       "      <td>2.010</td>\n",
       "      <td>9.082</td>\n",
       "    </tr>\n",
       "  </tbody>\n",
       "</table>\n",
       "</div>"
      ],
      "text/plain": [
       "       actual  predicted\n",
       "9650   19.966     13.899\n",
       "9374   13.506      8.637\n",
       "4744    2.042      3.617\n",
       "5355    1.123      5.597\n",
       "1199   19.725     14.845\n",
       "7382   20.280      1.384\n",
       "6468    1.648      4.142\n",
       "9361   12.456      8.169\n",
       "3926   11.064      7.970\n",
       "3306    1.299      8.432\n",
       "6218    4.209      6.572\n",
       "13629  10.282      6.048\n",
       "1887   15.609     11.839\n",
       "816    15.317     10.466\n",
       "3337    1.332      4.321\n",
       "9826    1.058      5.816\n",
       "601     7.387      3.380\n",
       "4011    1.901      2.729\n",
       "10575   0.694      4.667\n",
       "2665   14.839     10.201\n",
       "1256    3.326      8.746\n",
       "10245   0.914      7.109\n",
       "13709  12.812     10.088\n",
       "4899    1.625      6.389\n",
       "10      1.657     10.294\n",
       "9167    1.043      5.589\n",
       "10049  15.631     10.914\n",
       "4708    6.934      7.953\n",
       "4805    2.855      9.782\n",
       "3091    2.010      9.082"
      ]
     },
     "execution_count": 97,
     "metadata": {},
     "output_type": "execute_result"
    }
   ],
   "source": [
    "#store the actual amd predicted data for comparison\n",
    "df=  pd.DataFrame({'actual':testy,'predicted':round(p1,3)})\n",
    "df.head(30)"
   ]
  },
  {
   "cell_type": "code",
   "execution_count": 98,
   "metadata": {},
   "outputs": [
    {
     "data": {
      "text/html": [
       "<div>\n",
       "<style scoped>\n",
       "    .dataframe tbody tr th:only-of-type {\n",
       "        vertical-align: middle;\n",
       "    }\n",
       "\n",
       "    .dataframe tbody tr th {\n",
       "        vertical-align: top;\n",
       "    }\n",
       "\n",
       "    .dataframe thead th {\n",
       "        text-align: right;\n",
       "    }\n",
       "</style>\n",
       "<table border=\"1\" class=\"dataframe\">\n",
       "  <thead>\n",
       "    <tr style=\"text-align: right;\">\n",
       "      <th></th>\n",
       "      <th>actual</th>\n",
       "      <th>predicted</th>\n",
       "    </tr>\n",
       "  </thead>\n",
       "  <tbody>\n",
       "    <tr>\n",
       "      <th>9650</th>\n",
       "      <td>19.966</td>\n",
       "      <td>13.899</td>\n",
       "    </tr>\n",
       "    <tr>\n",
       "      <th>9374</th>\n",
       "      <td>13.506</td>\n",
       "      <td>8.637</td>\n",
       "    </tr>\n",
       "    <tr>\n",
       "      <th>4744</th>\n",
       "      <td>2.042</td>\n",
       "      <td>3.617</td>\n",
       "    </tr>\n",
       "    <tr>\n",
       "      <th>5355</th>\n",
       "      <td>1.123</td>\n",
       "      <td>5.597</td>\n",
       "    </tr>\n",
       "    <tr>\n",
       "      <th>1199</th>\n",
       "      <td>19.725</td>\n",
       "      <td>14.845</td>\n",
       "    </tr>\n",
       "    <tr>\n",
       "      <th>7382</th>\n",
       "      <td>20.280</td>\n",
       "      <td>1.384</td>\n",
       "    </tr>\n",
       "    <tr>\n",
       "      <th>6468</th>\n",
       "      <td>1.648</td>\n",
       "      <td>4.142</td>\n",
       "    </tr>\n",
       "    <tr>\n",
       "      <th>9361</th>\n",
       "      <td>12.456</td>\n",
       "      <td>8.169</td>\n",
       "    </tr>\n",
       "    <tr>\n",
       "      <th>3926</th>\n",
       "      <td>11.064</td>\n",
       "      <td>7.970</td>\n",
       "    </tr>\n",
       "    <tr>\n",
       "      <th>3306</th>\n",
       "      <td>1.299</td>\n",
       "      <td>8.432</td>\n",
       "    </tr>\n",
       "    <tr>\n",
       "      <th>6218</th>\n",
       "      <td>4.209</td>\n",
       "      <td>6.572</td>\n",
       "    </tr>\n",
       "    <tr>\n",
       "      <th>13629</th>\n",
       "      <td>10.282</td>\n",
       "      <td>6.048</td>\n",
       "    </tr>\n",
       "    <tr>\n",
       "      <th>1887</th>\n",
       "      <td>15.609</td>\n",
       "      <td>11.839</td>\n",
       "    </tr>\n",
       "    <tr>\n",
       "      <th>816</th>\n",
       "      <td>15.317</td>\n",
       "      <td>10.466</td>\n",
       "    </tr>\n",
       "    <tr>\n",
       "      <th>3337</th>\n",
       "      <td>1.332</td>\n",
       "      <td>4.321</td>\n",
       "    </tr>\n",
       "    <tr>\n",
       "      <th>9826</th>\n",
       "      <td>1.058</td>\n",
       "      <td>5.816</td>\n",
       "    </tr>\n",
       "    <tr>\n",
       "      <th>601</th>\n",
       "      <td>7.387</td>\n",
       "      <td>3.380</td>\n",
       "    </tr>\n",
       "    <tr>\n",
       "      <th>4011</th>\n",
       "      <td>1.901</td>\n",
       "      <td>2.729</td>\n",
       "    </tr>\n",
       "    <tr>\n",
       "      <th>10575</th>\n",
       "      <td>0.694</td>\n",
       "      <td>4.667</td>\n",
       "    </tr>\n",
       "    <tr>\n",
       "      <th>2665</th>\n",
       "      <td>14.839</td>\n",
       "      <td>10.201</td>\n",
       "    </tr>\n",
       "    <tr>\n",
       "      <th>1256</th>\n",
       "      <td>3.326</td>\n",
       "      <td>8.746</td>\n",
       "    </tr>\n",
       "    <tr>\n",
       "      <th>10245</th>\n",
       "      <td>0.914</td>\n",
       "      <td>7.109</td>\n",
       "    </tr>\n",
       "    <tr>\n",
       "      <th>13709</th>\n",
       "      <td>12.812</td>\n",
       "      <td>10.088</td>\n",
       "    </tr>\n",
       "    <tr>\n",
       "      <th>4899</th>\n",
       "      <td>1.625</td>\n",
       "      <td>6.389</td>\n",
       "    </tr>\n",
       "    <tr>\n",
       "      <th>10</th>\n",
       "      <td>1.657</td>\n",
       "      <td>10.294</td>\n",
       "    </tr>\n",
       "    <tr>\n",
       "      <th>9167</th>\n",
       "      <td>1.043</td>\n",
       "      <td>5.589</td>\n",
       "    </tr>\n",
       "    <tr>\n",
       "      <th>10049</th>\n",
       "      <td>15.631</td>\n",
       "      <td>10.914</td>\n",
       "    </tr>\n",
       "    <tr>\n",
       "      <th>4708</th>\n",
       "      <td>6.934</td>\n",
       "      <td>7.953</td>\n",
       "    </tr>\n",
       "    <tr>\n",
       "      <th>4805</th>\n",
       "      <td>2.855</td>\n",
       "      <td>9.782</td>\n",
       "    </tr>\n",
       "    <tr>\n",
       "      <th>3091</th>\n",
       "      <td>2.010</td>\n",
       "      <td>9.082</td>\n",
       "    </tr>\n",
       "  </tbody>\n",
       "</table>\n",
       "</div>"
      ],
      "text/plain": [
       "       actual  predicted\n",
       "9650   19.966     13.899\n",
       "9374   13.506      8.637\n",
       "4744    2.042      3.617\n",
       "5355    1.123      5.597\n",
       "1199   19.725     14.845\n",
       "7382   20.280      1.384\n",
       "6468    1.648      4.142\n",
       "9361   12.456      8.169\n",
       "3926   11.064      7.970\n",
       "3306    1.299      8.432\n",
       "6218    4.209      6.572\n",
       "13629  10.282      6.048\n",
       "1887   15.609     11.839\n",
       "816    15.317     10.466\n",
       "3337    1.332      4.321\n",
       "9826    1.058      5.816\n",
       "601     7.387      3.380\n",
       "4011    1.901      2.729\n",
       "10575   0.694      4.667\n",
       "2665   14.839     10.201\n",
       "1256    3.326      8.746\n",
       "10245   0.914      7.109\n",
       "13709  12.812     10.088\n",
       "4899    1.625      6.389\n",
       "10      1.657     10.294\n",
       "9167    1.043      5.589\n",
       "10049  15.631     10.914\n",
       "4708    6.934      7.953\n",
       "4805    2.855      9.782\n",
       "3091    2.010      9.082"
      ]
     },
     "execution_count": 98,
     "metadata": {},
     "output_type": "execute_result"
    }
   ],
   "source": [
    "#store the actual amd predicted data for comparison\n",
    "df= pd.DataFrame({'actual':testy,'predicted':round(p1,3)})\n",
    "df.head(30)"
   ]
  },
  {
   "cell_type": "code",
   "execution_count": 99,
   "metadata": {},
   "outputs": [
    {
     "data": {
      "text/plain": [
       "<matplotlib.axes._subplots.AxesSubplot at 0x1f18654d8c8>"
      ]
     },
     "execution_count": 99,
     "metadata": {},
     "output_type": "execute_result"
    },
    {
     "data": {
      "image/png": "[encoded data removed]",
      "text/plain": [
       "<Figure size 432x288 with 1 Axes>"
      ]
     },
     "metadata": {},
     "output_type": "display_data"
    }
   ],
   "source": [
    "#plot the actual and predicted values\n",
    "ax1=sns.distplot(testy,hist=False,color='blue',label ='Actual')\n",
    "sns.distplot(p1,hist=False,color='red',label='predicted',ax=ax1)"
   ]
  },
  {
   "cell_type": "code",
   "execution_count": 100,
   "metadata": {},
   "outputs": [
    {
     "data": {
      "text/html": [
       "<div>\n",
       "<style scoped>\n",
       "    .dataframe tbody tr th:only-of-type {\n",
       "        vertical-align: middle;\n",
       "    }\n",
       "\n",
       "    .dataframe tbody tr th {\n",
       "        vertical-align: top;\n",
       "    }\n",
       "\n",
       "    .dataframe thead th {\n",
       "        text-align: right;\n",
       "    }\n",
       "</style>\n",
       "<table border=\"1\" class=\"dataframe\">\n",
       "  <thead>\n",
       "    <tr style=\"text-align: right;\">\n",
       "      <th></th>\n",
       "      <th>inflation</th>\n",
       "      <th>features</th>\n",
       "    </tr>\n",
       "  </thead>\n",
       "  <tbody>\n",
       "    <tr>\n",
       "      <th>0</th>\n",
       "      <td>608.921553</td>\n",
       "      <td>const</td>\n",
       "    </tr>\n",
       "    <tr>\n",
       "      <th>1</th>\n",
       "      <td>384.543768</td>\n",
       "      <td>tot_surf_area</td>\n",
       "    </tr>\n",
       "    <tr>\n",
       "      <th>2</th>\n",
       "      <td>45.186775</td>\n",
       "      <td>npe_area</td>\n",
       "    </tr>\n",
       "    <tr>\n",
       "      <th>3</th>\n",
       "      <td>7.302186</td>\n",
       "      <td>fa_enpr</td>\n",
       "    </tr>\n",
       "    <tr>\n",
       "      <th>4</th>\n",
       "      <td>14.232359</td>\n",
       "      <td>fa_enppr</td>\n",
       "    </tr>\n",
       "    <tr>\n",
       "      <th>5</th>\n",
       "      <td>280.383269</td>\n",
       "      <td>molmass_ea</td>\n",
       "    </tr>\n",
       "    <tr>\n",
       "      <th>6</th>\n",
       "      <td>25.770514</td>\n",
       "      <td>avg_dev</td>\n",
       "    </tr>\n",
       "    <tr>\n",
       "      <th>7</th>\n",
       "      <td>1.691319</td>\n",
       "      <td>euc_dist</td>\n",
       "    </tr>\n",
       "    <tr>\n",
       "      <th>8</th>\n",
       "      <td>6.366313</td>\n",
       "      <td>sdc</td>\n",
       "    </tr>\n",
       "  </tbody>\n",
       "</table>\n",
       "</div>"
      ],
      "text/plain": [
       "    inflation       features\n",
       "0  608.921553          const\n",
       "1  384.543768  tot_surf_area\n",
       "2   45.186775       npe_area\n",
       "3    7.302186        fa_enpr\n",
       "4   14.232359       fa_enppr\n",
       "5  280.383269     molmass_ea\n",
       "6   25.770514        avg_dev\n",
       "7    1.691319       euc_dist\n",
       "8    6.366313            sdc"
      ]
     },
     "execution_count": 100,
     "metadata": {},
     "output_type": "execute_result"
    }
   ],
   "source": [
    "#other considerations\n",
    "#VIF (Variance Inflation Factor)\n",
    "vif=pd.DataFrame()\n",
    "\n",
    "vif['inflation']=[variance_inflation_factor(trainx.values,i)\n",
    "for i in range (trainx.shape[1])]\n",
    "\n",
    "vif['features'] =list(trainx.columns)\n",
    "\n",
    "vif\n",
    "  \n",
    "    \n",
    "    #consider  VIF> 10 to remove coolinearity\n",
    "    #sometimes VIF > 6 is also taken as the cutoff"
   ]
  },
  {
   "cell_type": "code",
   "execution_count": null,
   "metadata": {},
   "outputs": [],
   "source": [
    "#build the next model with the significant features and compare the models for the RMSE"
   ]
  },
  {
   "cell_type": "code",
   "execution_count": 101,
   "metadata": {},
   "outputs": [],
   "source": [
    "#Boxcox transformation\n",
    "from scipy.stats import boxcox\n",
    "\n",
    "#transform data into boxcox  transformed data\n",
    "d=np.round(np.random.uniform(10,200,100),2)\n",
    "bc_values,lamda = boxcox(d)\n"
   ]
  },
  {
   "cell_type": "code",
   "execution_count": 102,
   "metadata": {},
   "outputs": [
    {
     "data": {
      "text/plain": [
       "array([15.61178175, 21.19260202, 39.34878489, 16.1094032 , 37.39199612,\n",
       "       33.58292906, 39.76708732,  8.97136084, 17.14596072, 15.91462024,\n",
       "       40.53442582,  5.67922921, 39.58813558, 11.66041528, 29.38545303,\n",
       "       17.60775093, 15.00789421, 32.83904672, 23.38995531, 38.14991708,\n",
       "        5.34682445, 20.53973914, 28.05901657, 22.68748102, 37.17397774,\n",
       "       20.76393867, 37.86622617, 21.48662872,  8.9305168 , 22.11750535,\n",
       "       33.12631699, 20.4221218 , 14.35852579, 40.80696419, 18.51567135,\n",
       "       10.04886574, 35.48574955, 33.81135968, 36.30136889, 24.5213291 ,\n",
       "       28.58140172, 18.1547384 , 27.31191491, 31.81400065, 29.04291817,\n",
       "       41.17133103, 29.08688099, 12.42480252, 35.65639591, 19.43599956,\n",
       "       25.37903642, 18.12055925, 32.72068644, 23.97680267, 10.42644374,\n",
       "       37.26831043, 10.67415224, 34.84072926, 22.71754752, 19.91127446,\n",
       "       37.84671112, 30.46118898, 20.05885213, 20.6490367 , 22.65362878,\n",
       "       22.08124413, 13.37543898, 19.47500262, 13.35770623, 35.65061918,\n",
       "       39.49983911, 23.2140964 ,  8.84853456, 39.85097586, 40.90289664,\n",
       "       20.21384774, 29.57438669, 34.38367021, 35.41039567, 25.90622321,\n",
       "        8.14806393, 22.60091177, 35.3770359 , 21.22191426, 33.80539921,\n",
       "       34.05817656, 29.5243962 , 36.32851228,  8.4842797 , 28.83233436,\n",
       "       20.46402988, 18.69044783, 15.62340056, 36.06944693, 16.36858878,\n",
       "       32.48930944, 38.20539642, 37.31753262, 28.57811305, 40.45540074])"
      ]
     },
     "execution_count": 102,
     "metadata": {},
     "output_type": "execute_result"
    }
   ],
   "source": [
    "bc_values"
   ]
  },
  {
   "cell_type": "code",
   "execution_count": 103,
   "metadata": {},
   "outputs": [
    {
     "data": {
      "text/plain": [
       "0.6185499716133818"
      ]
     },
     "execution_count": 103,
     "metadata": {},
     "output_type": "execute_result"
    }
   ],
   "source": [
    "lamda"
   ]
  },
  {
   "cell_type": "code",
   "execution_count": 104,
   "metadata": {},
   "outputs": [
    {
     "data": {
      "text/plain": [
       "15.611781750529506"
      ]
     },
     "execution_count": 104,
     "metadata": {},
     "output_type": "execute_result"
    }
   ],
   "source": [
    "bc1 = bc_values[0]\n",
    "bc1"
   ]
  },
  {
   "cell_type": "code",
   "execution_count": 106,
   "metadata": {},
   "outputs": [
    {
     "name": "stdout",
     "output_type": "stream",
     "text": [
      "actual=45.85,Boxcox = 15.61\n"
     ]
    }
   ],
   "source": [
    "#compare the original and transformed data\n",
    "print('actual={},Boxcox = {}'.format(d[0],round(bc1,2)))"
   ]
  },
  {
   "cell_type": "code",
   "execution_count": 109,
   "metadata": {},
   "outputs": [
    {
     "data": {
      "text/plain": [
       "45.85"
      ]
     },
     "execution_count": 109,
     "metadata": {},
     "output_type": "execute_result"
    }
   ],
   "source": [
    "#transformed Boxcox data into its original form\n",
    "orig = np.exp(np.log(bc1*lamda+1)/lamda)\n",
    "round(orig,2)"
   ]
  },
  {
   "cell_type": "code",
   "execution_count": 110,
   "metadata": {},
   "outputs": [
    {
     "data": {
      "text/plain": [
       "10926    17.187\n",
       "6933      1.419\n",
       "5946      7.576\n",
       "135      14.480\n",
       "7802     11.696\n",
       "          ...  \n",
       "2411      2.028\n",
       "10017    19.577\n",
       "9478      4.516\n",
       "14579    17.597\n",
       "7776      3.759\n",
       "Name: RMSD, Length: 10591, dtype: float64"
      ]
     },
     "execution_count": 110,
     "metadata": {},
     "output_type": "execute_result"
    }
   ],
   "source": [
    "################################################################3\n",
    "trainy"
   ]
  },
  {
   "cell_type": "code",
   "execution_count": 116,
   "metadata": {},
   "outputs": [
    {
     "data": {
      "text/plain": [
       "10591"
      ]
     },
     "execution_count": 116,
     "metadata": {},
     "output_type": "execute_result"
    }
   ],
   "source": [
    "len(trainy)"
   ]
  },
  {
   "cell_type": "code",
   "execution_count": 111,
   "metadata": {},
   "outputs": [
    {
     "data": {
      "text/plain": [
       "9650     19.966\n",
       "9374     13.506\n",
       "4744      2.042\n",
       "5355      1.123\n",
       "1199     19.725\n",
       "          ...  \n",
       "4636     16.261\n",
       "839      16.402\n",
       "11777    17.546\n",
       "4745      2.019\n",
       "8276     19.595\n",
       "Name: RMSD, Length: 4539, dtype: float64"
      ]
     },
     "execution_count": 111,
     "metadata": {},
     "output_type": "execute_result"
    }
   ],
   "source": [
    "testy"
   ]
  },
  {
   "cell_type": "code",
   "execution_count": 117,
   "metadata": {},
   "outputs": [
    {
     "data": {
      "text/plain": [
       "4539"
      ]
     },
     "execution_count": 117,
     "metadata": {},
     "output_type": "execute_result"
    }
   ],
   "source": [
    "len(testy)"
   ]
  },
  {
   "cell_type": "code",
   "execution_count": 112,
   "metadata": {},
   "outputs": [],
   "source": [
    "from scipy.stats import boxcox\n",
    "\n",
    "bc_values1,lamda1 = boxcox(trainy)"
   ]
  },
  {
   "cell_type": "code",
   "execution_count": 113,
   "metadata": {},
   "outputs": [
    {
     "data": {
      "text/plain": [
       "array([3.48999662, 0.35862286, 2.33946371, ..., 1.67763352, 3.52509103,\n",
       "       1.45414955])"
      ]
     },
     "execution_count": 113,
     "metadata": {},
     "output_type": "execute_result"
    }
   ],
   "source": [
    "bc_values1"
   ]
  },
  {
   "cell_type": "code",
   "execution_count": 115,
   "metadata": {},
   "outputs": [
    {
     "data": {
      "text/plain": [
       "10591"
      ]
     },
     "execution_count": 115,
     "metadata": {},
     "output_type": "execute_result"
    }
   ],
   "source": [
    "len(bc_values1)"
   ]
  },
  {
   "cell_type": "code",
   "execution_count": 114,
   "metadata": {},
   "outputs": [
    {
     "data": {
      "text/plain": [
       "0.1393054937291963"
      ]
     },
     "execution_count": 114,
     "metadata": {},
     "output_type": "execute_result"
    }
   ],
   "source": [
    "lamda1"
   ]
  },
  {
   "cell_type": "code",
   "execution_count": 118,
   "metadata": {},
   "outputs": [
    {
     "data": {
      "text/plain": [
       "3.4899966176145023"
      ]
     },
     "execution_count": 118,
     "metadata": {},
     "output_type": "execute_result"
    }
   ],
   "source": [
    "bc11 = bc_values1[0]\n",
    "bc11"
   ]
  },
  {
   "cell_type": "code",
   "execution_count": 119,
   "metadata": {},
   "outputs": [
    {
     "name": "stdout",
     "output_type": "stream",
     "text": [
      "actual=2.555,Boxcox = 3.49\n"
     ]
    }
   ],
   "source": [
    "#compare the original and transformed data\n",
    "print('actual={},Boxcox = {}'.format(trainy[0],round(bc11,2)))"
   ]
  },
  {
   "cell_type": "code",
   "execution_count": null,
   "metadata": {},
   "outputs": [],
   "source": [
    "#transformed Boxcox data into its original form\n",
    "orig = np.exp(np.log(bc1*lamda+1)/lamda)\n",
    "round(orig,2)"
   ]
  },
  {
   "cell_type": "code",
   "execution_count": null,
   "metadata": {},
   "outputs": [],
   "source": [
    "#######################################################"
   ]
  },
  {
   "cell_type": "code",
   "execution_count": 133,
   "metadata": {},
   "outputs": [],
   "source": [
    "from scipy.stats import boxcox\n",
    "\n",
    "RMSD_values,lamdaRMSD = boxcox(prot['RMSD'])"
   ]
  },
  {
   "cell_type": "code",
   "execution_count": 134,
   "metadata": {},
   "outputs": [
    {
     "data": {
      "text/plain": [
       "array([1.00164731, 2.75637649, 1.43843454, ..., 3.357752  , 0.6362263 ,\n",
       "       1.00298353])"
      ]
     },
     "execution_count": 134,
     "metadata": {},
     "output_type": "execute_result"
    }
   ],
   "source": [
    "RMSD_values"
   ]
  },
  {
   "cell_type": "code",
   "execution_count": 136,
   "metadata": {},
   "outputs": [
    {
     "data": {
      "text/plain": [
       "15130"
      ]
     },
     "execution_count": 136,
     "metadata": {},
     "output_type": "execute_result"
    }
   ],
   "source": [
    "len(RMSD_values)"
   ]
  },
  {
   "cell_type": "code",
   "execution_count": 135,
   "metadata": {},
   "outputs": [
    {
     "data": {
      "text/plain": [
       "0.13835869178463053"
      ]
     },
     "execution_count": 135,
     "metadata": {},
     "output_type": "execute_result"
    }
   ],
   "source": [
    "lamdaRMSD"
   ]
  },
  {
   "cell_type": "code",
   "execution_count": 137,
   "metadata": {},
   "outputs": [
    {
     "data": {
      "text/plain": [
       "1.0016473084808988"
      ]
     },
     "execution_count": 137,
     "metadata": {},
     "output_type": "execute_result"
    }
   ],
   "source": [
    "rmsd = RMSD_values[0]\n",
    "rmsd"
   ]
  },
  {
   "cell_type": "code",
   "execution_count": 138,
   "metadata": {},
   "outputs": [
    {
     "data": {
      "text/html": [
       "<div>\n",
       "<style scoped>\n",
       "    .dataframe tbody tr th:only-of-type {\n",
       "        vertical-align: middle;\n",
       "    }\n",
       "\n",
       "    .dataframe tbody tr th {\n",
       "        vertical-align: top;\n",
       "    }\n",
       "\n",
       "    .dataframe thead th {\n",
       "        text-align: right;\n",
       "    }\n",
       "</style>\n",
       "<table border=\"1\" class=\"dataframe\">\n",
       "  <thead>\n",
       "    <tr style=\"text-align: right;\">\n",
       "      <th></th>\n",
       "      <th>tot_surf_area</th>\n",
       "      <th>npe_area</th>\n",
       "      <th>fa_enpr</th>\n",
       "      <th>RMSD</th>\n",
       "      <th>fa_enppr</th>\n",
       "      <th>molmass_ea</th>\n",
       "      <th>avg_dev</th>\n",
       "      <th>euc_dist</th>\n",
       "      <th>sdc</th>\n",
       "    </tr>\n",
       "  </thead>\n",
       "  <tbody>\n",
       "    <tr>\n",
       "      <th>0</th>\n",
       "      <td>18775.10</td>\n",
       "      <td>5379.74</td>\n",
       "      <td>0.28653</td>\n",
       "      <td>2.555</td>\n",
       "      <td>253.3780</td>\n",
       "      <td>2.543981e+06</td>\n",
       "      <td>316.5880</td>\n",
       "      <td>5729.45</td>\n",
       "      <td>21.4332</td>\n",
       "    </tr>\n",
       "    <tr>\n",
       "      <th>1</th>\n",
       "      <td>6577.95</td>\n",
       "      <td>2216.25</td>\n",
       "      <td>0.33692</td>\n",
       "      <td>10.330</td>\n",
       "      <td>61.6351</td>\n",
       "      <td>8.698915e+05</td>\n",
       "      <td>105.0430</td>\n",
       "      <td>2815.13</td>\n",
       "      <td>40.6875</td>\n",
       "    </tr>\n",
       "    <tr>\n",
       "      <th>2</th>\n",
       "      <td>21164.30</td>\n",
       "      <td>7060.92</td>\n",
       "      <td>0.33362</td>\n",
       "      <td>3.713</td>\n",
       "      <td>254.7890</td>\n",
       "      <td>2.961051e+06</td>\n",
       "      <td>330.0660</td>\n",
       "      <td>5545.96</td>\n",
       "      <td>23.4201</td>\n",
       "    </tr>\n",
       "    <tr>\n",
       "      <th>3</th>\n",
       "      <td>4843.80</td>\n",
       "      <td>1549.68</td>\n",
       "      <td>0.31993</td>\n",
       "      <td>3.669</td>\n",
       "      <td>45.3260</td>\n",
       "      <td>6.840279e+05</td>\n",
       "      <td>66.5513</td>\n",
       "      <td>2116.76</td>\n",
       "      <td>43.0780</td>\n",
       "    </tr>\n",
       "    <tr>\n",
       "      <th>4</th>\n",
       "      <td>7828.61</td>\n",
       "      <td>1805.01</td>\n",
       "      <td>0.23056</td>\n",
       "      <td>2.994</td>\n",
       "      <td>67.0155</td>\n",
       "      <td>1.136108e+06</td>\n",
       "      <td>98.6349</td>\n",
       "      <td>3021.69</td>\n",
       "      <td>35.1075</td>\n",
       "    </tr>\n",
       "  </tbody>\n",
       "</table>\n",
       "</div>"
      ],
      "text/plain": [
       "   tot_surf_area  npe_area  fa_enpr    RMSD  fa_enppr    molmass_ea   avg_dev  euc_dist      sdc\n",
       "0       18775.10   5379.74  0.28653   2.555  253.3780  2.543981e+06  316.5880   5729.45  21.4332\n",
       "1        6577.95   2216.25  0.33692  10.330   61.6351  8.698915e+05  105.0430   2815.13  40.6875\n",
       "2       21164.30   7060.92  0.33362   3.713  254.7890  2.961051e+06  330.0660   5545.96  23.4201\n",
       "3        4843.80   1549.68  0.31993   3.669   45.3260  6.840279e+05   66.5513   2116.76  43.0780\n",
       "4        7828.61   1805.01  0.23056   2.994   67.0155  1.136108e+06   98.6349   3021.69  35.1075"
      ]
     },
     "execution_count": 138,
     "metadata": {},
     "output_type": "execute_result"
    }
   ],
   "source": [
    "prot.head()"
   ]
  },
  {
   "cell_type": "code",
   "execution_count": 141,
   "metadata": {},
   "outputs": [],
   "source": [
    "prot =prot.drop('RMSD',axis=1)"
   ]
  },
  {
   "cell_type": "code",
   "execution_count": 143,
   "metadata": {},
   "outputs": [
    {
     "data": {
      "text/html": [
       "<div>\n",
       "<style scoped>\n",
       "    .dataframe tbody tr th:only-of-type {\n",
       "        vertical-align: middle;\n",
       "    }\n",
       "\n",
       "    .dataframe tbody tr th {\n",
       "        vertical-align: top;\n",
       "    }\n",
       "\n",
       "    .dataframe thead th {\n",
       "        text-align: right;\n",
       "    }\n",
       "</style>\n",
       "<table border=\"1\" class=\"dataframe\">\n",
       "  <thead>\n",
       "    <tr style=\"text-align: right;\">\n",
       "      <th></th>\n",
       "      <th>tot_surf_area</th>\n",
       "      <th>npe_area</th>\n",
       "      <th>fa_enpr</th>\n",
       "      <th>fa_enppr</th>\n",
       "      <th>molmass_ea</th>\n",
       "      <th>avg_dev</th>\n",
       "      <th>euc_dist</th>\n",
       "      <th>sdc</th>\n",
       "    </tr>\n",
       "  </thead>\n",
       "  <tbody>\n",
       "    <tr>\n",
       "      <th>0</th>\n",
       "      <td>18775.10</td>\n",
       "      <td>5379.74</td>\n",
       "      <td>0.28653</td>\n",
       "      <td>253.3780</td>\n",
       "      <td>2.543981e+06</td>\n",
       "      <td>316.5880</td>\n",
       "      <td>5729.45</td>\n",
       "      <td>21.4332</td>\n",
       "    </tr>\n",
       "    <tr>\n",
       "      <th>1</th>\n",
       "      <td>6577.95</td>\n",
       "      <td>2216.25</td>\n",
       "      <td>0.33692</td>\n",
       "      <td>61.6351</td>\n",
       "      <td>8.698915e+05</td>\n",
       "      <td>105.0430</td>\n",
       "      <td>2815.13</td>\n",
       "      <td>40.6875</td>\n",
       "    </tr>\n",
       "    <tr>\n",
       "      <th>2</th>\n",
       "      <td>21164.30</td>\n",
       "      <td>7060.92</td>\n",
       "      <td>0.33362</td>\n",
       "      <td>254.7890</td>\n",
       "      <td>2.961051e+06</td>\n",
       "      <td>330.0660</td>\n",
       "      <td>5545.96</td>\n",
       "      <td>23.4201</td>\n",
       "    </tr>\n",
       "    <tr>\n",
       "      <th>3</th>\n",
       "      <td>4843.80</td>\n",
       "      <td>1549.68</td>\n",
       "      <td>0.31993</td>\n",
       "      <td>45.3260</td>\n",
       "      <td>6.840279e+05</td>\n",
       "      <td>66.5513</td>\n",
       "      <td>2116.76</td>\n",
       "      <td>43.0780</td>\n",
       "    </tr>\n",
       "    <tr>\n",
       "      <th>4</th>\n",
       "      <td>7828.61</td>\n",
       "      <td>1805.01</td>\n",
       "      <td>0.23056</td>\n",
       "      <td>67.0155</td>\n",
       "      <td>1.136108e+06</td>\n",
       "      <td>98.6349</td>\n",
       "      <td>3021.69</td>\n",
       "      <td>35.1075</td>\n",
       "    </tr>\n",
       "    <tr>\n",
       "      <th>...</th>\n",
       "      <td>...</td>\n",
       "      <td>...</td>\n",
       "      <td>...</td>\n",
       "      <td>...</td>\n",
       "      <td>...</td>\n",
       "      <td>...</td>\n",
       "      <td>...</td>\n",
       "      <td>...</td>\n",
       "    </tr>\n",
       "    <tr>\n",
       "      <th>15215</th>\n",
       "      <td>5208.37</td>\n",
       "      <td>1211.11</td>\n",
       "      <td>0.23253</td>\n",
       "      <td>37.3163</td>\n",
       "      <td>7.195690e+05</td>\n",
       "      <td>53.8711</td>\n",
       "      <td>2179.13</td>\n",
       "      <td>42.9663</td>\n",
       "    </tr>\n",
       "    <tr>\n",
       "      <th>15216</th>\n",
       "      <td>6373.14</td>\n",
       "      <td>1340.73</td>\n",
       "      <td>0.21037</td>\n",
       "      <td>55.2862</td>\n",
       "      <td>8.781791e+05</td>\n",
       "      <td>85.5822</td>\n",
       "      <td>2778.01</td>\n",
       "      <td>40.3261</td>\n",
       "    </tr>\n",
       "    <tr>\n",
       "      <th>15217</th>\n",
       "      <td>9871.42</td>\n",
       "      <td>2768.37</td>\n",
       "      <td>0.28044</td>\n",
       "      <td>96.7039</td>\n",
       "      <td>1.398243e+06</td>\n",
       "      <td>116.0890</td>\n",
       "      <td>3700.61</td>\n",
       "      <td>34.8643</td>\n",
       "    </tr>\n",
       "    <tr>\n",
       "      <th>15218</th>\n",
       "      <td>9452.72</td>\n",
       "      <td>2370.81</td>\n",
       "      <td>0.25080</td>\n",
       "      <td>100.9520</td>\n",
       "      <td>1.332037e+06</td>\n",
       "      <td>142.9400</td>\n",
       "      <td>3935.91</td>\n",
       "      <td>33.4059</td>\n",
       "    </tr>\n",
       "    <tr>\n",
       "      <th>15219</th>\n",
       "      <td>9211.97</td>\n",
       "      <td>2877.44</td>\n",
       "      <td>0.31235</td>\n",
       "      <td>106.6190</td>\n",
       "      <td>1.280889e+06</td>\n",
       "      <td>129.1750</td>\n",
       "      <td>3885.18</td>\n",
       "      <td>33.9044</td>\n",
       "    </tr>\n",
       "  </tbody>\n",
       "</table>\n",
       "<p>15130 rows × 8 columns</p>\n",
       "</div>"
      ],
      "text/plain": [
       "       tot_surf_area  npe_area  fa_enpr  fa_enppr    molmass_ea   avg_dev  euc_dist      sdc\n",
       "0           18775.10   5379.74  0.28653  253.3780  2.543981e+06  316.5880   5729.45  21.4332\n",
       "1            6577.95   2216.25  0.33692   61.6351  8.698915e+05  105.0430   2815.13  40.6875\n",
       "2           21164.30   7060.92  0.33362  254.7890  2.961051e+06  330.0660   5545.96  23.4201\n",
       "3            4843.80   1549.68  0.31993   45.3260  6.840279e+05   66.5513   2116.76  43.0780\n",
       "4            7828.61   1805.01  0.23056   67.0155  1.136108e+06   98.6349   3021.69  35.1075\n",
       "...              ...       ...      ...       ...           ...       ...       ...      ...\n",
       "15215        5208.37   1211.11  0.23253   37.3163  7.195690e+05   53.8711   2179.13  42.9663\n",
       "15216        6373.14   1340.73  0.21037   55.2862  8.781791e+05   85.5822   2778.01  40.3261\n",
       "15217        9871.42   2768.37  0.28044   96.7039  1.398243e+06  116.0890   3700.61  34.8643\n",
       "15218        9452.72   2370.81  0.25080  100.9520  1.332037e+06  142.9400   3935.91  33.4059\n",
       "15219        9211.97   2877.44  0.31235  106.6190  1.280889e+06  129.1750   3885.18  33.9044\n",
       "\n",
       "[15130 rows x 8 columns]"
      ]
     },
     "execution_count": 143,
     "metadata": {},
     "output_type": "execute_result"
    }
   ],
   "source": [
    "prot"
   ]
  },
  {
   "cell_type": "code",
   "execution_count": 146,
   "metadata": {},
   "outputs": [],
   "source": [
    "prot['RMSD1']=RMSD_values"
   ]
  },
  {
   "cell_type": "code",
   "execution_count": 185,
   "metadata": {},
   "outputs": [
    {
     "data": {
      "text/plain": [
       "array([1.00164731, 2.75637649, 1.43843454, ..., 3.357752  , 0.6362263 ,\n",
       "       1.00298353])"
      ]
     },
     "execution_count": 185,
     "metadata": {},
     "output_type": "execute_result"
    }
   ],
   "source": [
    "RMSD_values"
   ]
  },
  {
   "cell_type": "code",
   "execution_count": 147,
   "metadata": {},
   "outputs": [
    {
     "data": {
      "text/html": [
       "<div>\n",
       "<style scoped>\n",
       "    .dataframe tbody tr th:only-of-type {\n",
       "        vertical-align: middle;\n",
       "    }\n",
       "\n",
       "    .dataframe tbody tr th {\n",
       "        vertical-align: top;\n",
       "    }\n",
       "\n",
       "    .dataframe thead th {\n",
       "        text-align: right;\n",
       "    }\n",
       "</style>\n",
       "<table border=\"1\" class=\"dataframe\">\n",
       "  <thead>\n",
       "    <tr style=\"text-align: right;\">\n",
       "      <th></th>\n",
       "      <th>tot_surf_area</th>\n",
       "      <th>npe_area</th>\n",
       "      <th>fa_enpr</th>\n",
       "      <th>fa_enppr</th>\n",
       "      <th>molmass_ea</th>\n",
       "      <th>avg_dev</th>\n",
       "      <th>euc_dist</th>\n",
       "      <th>sdc</th>\n",
       "      <th>RMSD1</th>\n",
       "    </tr>\n",
       "  </thead>\n",
       "  <tbody>\n",
       "    <tr>\n",
       "      <th>0</th>\n",
       "      <td>18775.10</td>\n",
       "      <td>5379.74</td>\n",
       "      <td>0.28653</td>\n",
       "      <td>253.3780</td>\n",
       "      <td>2.543981e+06</td>\n",
       "      <td>316.5880</td>\n",
       "      <td>5729.45</td>\n",
       "      <td>21.4332</td>\n",
       "      <td>1.001647</td>\n",
       "    </tr>\n",
       "    <tr>\n",
       "      <th>1</th>\n",
       "      <td>6577.95</td>\n",
       "      <td>2216.25</td>\n",
       "      <td>0.33692</td>\n",
       "      <td>61.6351</td>\n",
       "      <td>8.698915e+05</td>\n",
       "      <td>105.0430</td>\n",
       "      <td>2815.13</td>\n",
       "      <td>40.6875</td>\n",
       "      <td>2.756376</td>\n",
       "    </tr>\n",
       "    <tr>\n",
       "      <th>2</th>\n",
       "      <td>21164.30</td>\n",
       "      <td>7060.92</td>\n",
       "      <td>0.33362</td>\n",
       "      <td>254.7890</td>\n",
       "      <td>2.961051e+06</td>\n",
       "      <td>330.0660</td>\n",
       "      <td>5545.96</td>\n",
       "      <td>23.4201</td>\n",
       "      <td>1.438435</td>\n",
       "    </tr>\n",
       "    <tr>\n",
       "      <th>3</th>\n",
       "      <td>4843.80</td>\n",
       "      <td>1549.68</td>\n",
       "      <td>0.31993</td>\n",
       "      <td>45.3260</td>\n",
       "      <td>6.840279e+05</td>\n",
       "      <td>66.5513</td>\n",
       "      <td>2116.76</td>\n",
       "      <td>43.0780</td>\n",
       "      <td>1.424153</td>\n",
       "    </tr>\n",
       "    <tr>\n",
       "      <th>4</th>\n",
       "      <td>7828.61</td>\n",
       "      <td>1805.01</td>\n",
       "      <td>0.23056</td>\n",
       "      <td>67.0155</td>\n",
       "      <td>1.136108e+06</td>\n",
       "      <td>98.6349</td>\n",
       "      <td>3021.69</td>\n",
       "      <td>35.1075</td>\n",
       "      <td>1.184174</td>\n",
       "    </tr>\n",
       "    <tr>\n",
       "      <th>...</th>\n",
       "      <td>...</td>\n",
       "      <td>...</td>\n",
       "      <td>...</td>\n",
       "      <td>...</td>\n",
       "      <td>...</td>\n",
       "      <td>...</td>\n",
       "      <td>...</td>\n",
       "      <td>...</td>\n",
       "      <td>...</td>\n",
       "    </tr>\n",
       "    <tr>\n",
       "      <th>15215</th>\n",
       "      <td>5208.37</td>\n",
       "      <td>1211.11</td>\n",
       "      <td>0.23253</td>\n",
       "      <td>37.3163</td>\n",
       "      <td>7.195690e+05</td>\n",
       "      <td>53.8711</td>\n",
       "      <td>2179.13</td>\n",
       "      <td>42.9663</td>\n",
       "      <td>2.916510</td>\n",
       "    </tr>\n",
       "    <tr>\n",
       "      <th>15216</th>\n",
       "      <td>6373.14</td>\n",
       "      <td>1340.73</td>\n",
       "      <td>0.21037</td>\n",
       "      <td>55.2862</td>\n",
       "      <td>8.781791e+05</td>\n",
       "      <td>85.5822</td>\n",
       "      <td>2778.01</td>\n",
       "      <td>40.3261</td>\n",
       "      <td>0.221663</td>\n",
       "    </tr>\n",
       "    <tr>\n",
       "      <th>15217</th>\n",
       "      <td>9871.42</td>\n",
       "      <td>2768.37</td>\n",
       "      <td>0.28044</td>\n",
       "      <td>96.7039</td>\n",
       "      <td>1.398243e+06</td>\n",
       "      <td>116.0890</td>\n",
       "      <td>3700.61</td>\n",
       "      <td>34.8643</td>\n",
       "      <td>3.357752</td>\n",
       "    </tr>\n",
       "    <tr>\n",
       "      <th>15218</th>\n",
       "      <td>9452.72</td>\n",
       "      <td>2370.81</td>\n",
       "      <td>0.25080</td>\n",
       "      <td>100.9520</td>\n",
       "      <td>1.332037e+06</td>\n",
       "      <td>142.9400</td>\n",
       "      <td>3935.91</td>\n",
       "      <td>33.4059</td>\n",
       "      <td>0.636226</td>\n",
       "    </tr>\n",
       "    <tr>\n",
       "      <th>15219</th>\n",
       "      <td>9211.97</td>\n",
       "      <td>2877.44</td>\n",
       "      <td>0.31235</td>\n",
       "      <td>106.6190</td>\n",
       "      <td>1.280889e+06</td>\n",
       "      <td>129.1750</td>\n",
       "      <td>3885.18</td>\n",
       "      <td>33.9044</td>\n",
       "      <td>1.002984</td>\n",
       "    </tr>\n",
       "  </tbody>\n",
       "</table>\n",
       "<p>15130 rows × 9 columns</p>\n",
       "</div>"
      ],
      "text/plain": [
       "       tot_surf_area  npe_area  fa_enpr  fa_enppr    molmass_ea   avg_dev  euc_dist      sdc     RMSD1\n",
       "0           18775.10   5379.74  0.28653  253.3780  2.543981e+06  316.5880   5729.45  21.4332  1.001647\n",
       "1            6577.95   2216.25  0.33692   61.6351  8.698915e+05  105.0430   2815.13  40.6875  2.756376\n",
       "2           21164.30   7060.92  0.33362  254.7890  2.961051e+06  330.0660   5545.96  23.4201  1.438435\n",
       "3            4843.80   1549.68  0.31993   45.3260  6.840279e+05   66.5513   2116.76  43.0780  1.424153\n",
       "4            7828.61   1805.01  0.23056   67.0155  1.136108e+06   98.6349   3021.69  35.1075  1.184174\n",
       "...              ...       ...      ...       ...           ...       ...       ...      ...       ...\n",
       "15215        5208.37   1211.11  0.23253   37.3163  7.195690e+05   53.8711   2179.13  42.9663  2.916510\n",
       "15216        6373.14   1340.73  0.21037   55.2862  8.781791e+05   85.5822   2778.01  40.3261  0.221663\n",
       "15217        9871.42   2768.37  0.28044   96.7039  1.398243e+06  116.0890   3700.61  34.8643  3.357752\n",
       "15218        9452.72   2370.81  0.25080  100.9520  1.332037e+06  142.9400   3935.91  33.4059  0.636226\n",
       "15219        9211.97   2877.44  0.31235  106.6190  1.280889e+06  129.1750   3885.18  33.9044  1.002984\n",
       "\n",
       "[15130 rows x 9 columns]"
      ]
     },
     "execution_count": 147,
     "metadata": {},
     "output_type": "execute_result"
    }
   ],
   "source": [
    "prot"
   ]
  },
  {
   "cell_type": "code",
   "execution_count": 186,
   "metadata": {},
   "outputs": [
    {
     "data": {
      "text/plain": [
       "Text(0, 0.5, 'Total orders')"
      ]
     },
     "execution_count": 186,
     "metadata": {},
     "output_type": "execute_result"
    },
    {
     "data": {
      "image/png": "[encoded data removed]",
      "text/plain": [
       "<Figure size 432x288 with 1 Axes>"
      ]
     },
     "metadata": {},
     "output_type": "display_data"
    }
   ],
   "source": [
    "#6) Distribution plot \n",
    "sns.distplot(RMSD_values,hist=True,color='r',label='Quantity')\n",
    "plt.title('Quantity Distribution')\n",
    "plt.xlabel('Quantity')\n",
    "plt.ylabel('Total orders')"
   ]
  },
  {
   "cell_type": "code",
   "execution_count": 148,
   "metadata": {},
   "outputs": [],
   "source": [
    "trainx,testx,trainy,testy = train_test_split(prot.drop('RMSD1',axis=1),prot['RMSD1'],test_size =0.3)"
   ]
  },
  {
   "cell_type": "code",
   "execution_count": 149,
   "metadata": {},
   "outputs": [
    {
     "name": "stdout",
     "output_type": "stream",
     "text": [
      "trainx=(10591, 8),trainy=(10591,),testx=(4539, 8),testy =(4539,)\n"
     ]
    }
   ],
   "source": [
    "print(\"trainx={},trainy={},testx={},testy ={}\".format(trainx.shape,trainy.shape,testx.shape,testy.shape))"
   ]
  },
  {
   "cell_type": "code",
   "execution_count": 150,
   "metadata": {},
   "outputs": [],
   "source": [
    "m1=  sm.OLS(trainy,trainx).fit()"
   ]
  },
  {
   "cell_type": "code",
   "execution_count": 151,
   "metadata": {},
   "outputs": [
    {
     "data": {
      "text/html": [
       "<table class=\"simpletable\">\n",
       "<caption>OLS Regression Results</caption>\n",
       "<tr>\n",
       "  <th>Dep. Variable:</th>          <td>RMSD1</td>      <th>  R-squared (uncentered):</th>      <td>   0.807</td> \n",
       "</tr>\n",
       "<tr>\n",
       "  <th>Model:</th>                   <td>OLS</td>       <th>  Adj. R-squared (uncentered):</th> <td>   0.806</td> \n",
       "</tr>\n",
       "<tr>\n",
       "  <th>Method:</th>             <td>Least Squares</td>  <th>  F-statistic:       </th>          <td>   5518.</td> \n",
       "</tr>\n",
       "<tr>\n",
       "  <th>Date:</th>             <td>Fri, 12 Mar 2021</td> <th>  Prob (F-statistic):</th>           <td>  0.00</td>  \n",
       "</tr>\n",
       "<tr>\n",
       "  <th>Time:</th>                 <td>12:25:33</td>     <th>  Log-Likelihood:    </th>          <td> -15055.</td> \n",
       "</tr>\n",
       "<tr>\n",
       "  <th>No. Observations:</th>      <td> 10591</td>      <th>  AIC:               </th>          <td>3.013e+04</td>\n",
       "</tr>\n",
       "<tr>\n",
       "  <th>Df Residuals:</th>          <td> 10583</td>      <th>  BIC:               </th>          <td>3.018e+04</td>\n",
       "</tr>\n",
       "<tr>\n",
       "  <th>Df Model:</th>              <td>     8</td>      <th>                     </th>              <td> </td>    \n",
       "</tr>\n",
       "<tr>\n",
       "  <th>Covariance Type:</th>      <td>nonrobust</td>    <th>                     </th>              <td> </td>    \n",
       "</tr>\n",
       "</table>\n",
       "<table class=\"simpletable\">\n",
       "<tr>\n",
       "        <td></td>           <th>coef</th>     <th>std err</th>      <th>t</th>      <th>P>|t|</th>  <th>[0.025</th>    <th>0.975]</th>  \n",
       "</tr>\n",
       "<tr>\n",
       "  <th>tot_surf_area</th> <td>    0.0005</td> <td> 4.56e-05</td> <td>   10.157</td> <td> 0.000</td> <td>    0.000</td> <td>    0.001</td>\n",
       "</tr>\n",
       "<tr>\n",
       "  <th>npe_area</th>      <td>    0.0001</td> <td> 3.73e-05</td> <td>    3.380</td> <td> 0.001</td> <td>  5.3e-05</td> <td>    0.000</td>\n",
       "</tr>\n",
       "<tr>\n",
       "  <th>fa_enpr</th>       <td>    5.4522</td> <td>    0.342</td> <td>   15.948</td> <td> 0.000</td> <td>    4.782</td> <td>    6.122</td>\n",
       "</tr>\n",
       "<tr>\n",
       "  <th>fa_enppr</th>      <td>   -0.0177</td> <td>    0.001</td> <td>  -27.156</td> <td> 0.000</td> <td>   -0.019</td> <td>   -0.016</td>\n",
       "</tr>\n",
       "<tr>\n",
       "  <th>molmass_ea</th>    <td>-1.366e-06</td> <td> 2.87e-07</td> <td>   -4.755</td> <td> 0.000</td> <td>-1.93e-06</td> <td>-8.03e-07</td>\n",
       "</tr>\n",
       "<tr>\n",
       "  <th>avg_dev</th>       <td>   -0.0059</td> <td>    0.001</td> <td>   -8.585</td> <td> 0.000</td> <td>   -0.007</td> <td>   -0.005</td>\n",
       "</tr>\n",
       "<tr>\n",
       "  <th>euc_dist</th>      <td>-3.821e-05</td> <td> 8.57e-06</td> <td>   -4.459</td> <td> 0.000</td> <td> -5.5e-05</td> <td>-2.14e-05</td>\n",
       "</tr>\n",
       "<tr>\n",
       "  <th>sdc</th>           <td>    0.0021</td> <td>    0.002</td> <td>    0.914</td> <td> 0.361</td> <td>   -0.002</td> <td>    0.007</td>\n",
       "</tr>\n",
       "</table>\n",
       "<table class=\"simpletable\">\n",
       "<tr>\n",
       "  <th>Omnibus:</th>       <td>305.281</td> <th>  Durbin-Watson:     </th> <td>   2.027</td>\n",
       "</tr>\n",
       "<tr>\n",
       "  <th>Prob(Omnibus):</th> <td> 0.000</td>  <th>  Jarque-Bera (JB):  </th> <td> 148.854</td>\n",
       "</tr>\n",
       "<tr>\n",
       "  <th>Skew:</th>          <td>-0.037</td>  <th>  Prob(JB):          </th> <td>4.75e-33</td>\n",
       "</tr>\n",
       "<tr>\n",
       "  <th>Kurtosis:</th>      <td> 2.424</td>  <th>  Cond. No.          </th> <td>5.19e+07</td>\n",
       "</tr>\n",
       "</table><br/><br/>Warnings:<br/>[1] Standard Errors assume that the covariance matrix of the errors is correctly specified.<br/>[2] The condition number is large, 5.19e+07. This might indicate that there are<br/>strong multicollinearity or other numerical problems."
      ],
      "text/plain": [
       "<class 'statsmodels.iolib.summary.Summary'>\n",
       "\"\"\"\n",
       "                                 OLS Regression Results                                \n",
       "=======================================================================================\n",
       "Dep. Variable:                  RMSD1   R-squared (uncentered):                   0.807\n",
       "Model:                            OLS   Adj. R-squared (uncentered):              0.806\n",
       "Method:                 Least Squares   F-statistic:                              5518.\n",
       "Date:                Fri, 12 Mar 2021   Prob (F-statistic):                        0.00\n",
       "Time:                        12:25:33   Log-Likelihood:                         -15055.\n",
       "No. Observations:               10591   AIC:                                  3.013e+04\n",
       "Df Residuals:                   10583   BIC:                                  3.018e+04\n",
       "Df Model:                           8                                                  \n",
       "Covariance Type:            nonrobust                                                  \n",
       "=================================================================================\n",
       "                    coef    std err          t      P>|t|      [0.025      0.975]\n",
       "---------------------------------------------------------------------------------\n",
       "tot_surf_area     0.0005   4.56e-05     10.157      0.000       0.000       0.001\n",
       "npe_area          0.0001   3.73e-05      3.380      0.001     5.3e-05       0.000\n",
       "fa_enpr           5.4522      0.342     15.948      0.000       4.782       6.122\n",
       "fa_enppr         -0.0177      0.001    -27.156      0.000      -0.019      -0.016\n",
       "molmass_ea    -1.366e-06   2.87e-07     -4.755      0.000   -1.93e-06   -8.03e-07\n",
       "avg_dev          -0.0059      0.001     -8.585      0.000      -0.007      -0.005\n",
       "euc_dist      -3.821e-05   8.57e-06     -4.459      0.000    -5.5e-05   -2.14e-05\n",
       "sdc               0.0021      0.002      0.914      0.361      -0.002       0.007\n",
       "==============================================================================\n",
       "Omnibus:                      305.281   Durbin-Watson:                   2.027\n",
       "Prob(Omnibus):                  0.000   Jarque-Bera (JB):              148.854\n",
       "Skew:                          -0.037   Prob(JB):                     4.75e-33\n",
       "Kurtosis:                       2.424   Cond. No.                     5.19e+07\n",
       "==============================================================================\n",
       "\n",
       "Warnings:\n",
       "[1] Standard Errors assume that the covariance matrix of the errors is correctly specified.\n",
       "[2] The condition number is large, 5.19e+07. This might indicate that there are\n",
       "strong multicollinearity or other numerical problems.\n",
       "\"\"\""
      ]
     },
     "execution_count": 151,
     "metadata": {},
     "output_type": "execute_result"
    }
   ],
   "source": [
    "m1.summary()"
   ]
  },
  {
   "cell_type": "code",
   "execution_count": 152,
   "metadata": {},
   "outputs": [],
   "source": [
    "p1=m1.predict(testx)"
   ]
  },
  {
   "cell_type": "code",
   "execution_count": 153,
   "metadata": {},
   "outputs": [
    {
     "data": {
      "text/plain": [
       "6198     2.043232\n",
       "113      2.558252\n",
       "1098     1.653514\n",
       "14490    2.323159\n",
       "9916     2.229610\n",
       "           ...   \n",
       "14581    3.040404\n",
       "6014     2.153159\n",
       "7803     1.156474\n",
       "12086    2.241035\n",
       "12316    1.752700\n",
       "Length: 4539, dtype: float64"
      ]
     },
     "execution_count": 153,
     "metadata": {},
     "output_type": "execute_result"
    }
   ],
   "source": [
    "p1"
   ]
  },
  {
   "cell_type": "code",
   "execution_count": 154,
   "metadata": {},
   "outputs": [
    {
     "data": {
      "text/html": [
       "<div>\n",
       "<style scoped>\n",
       "    .dataframe tbody tr th:only-of-type {\n",
       "        vertical-align: middle;\n",
       "    }\n",
       "\n",
       "    .dataframe tbody tr th {\n",
       "        vertical-align: top;\n",
       "    }\n",
       "\n",
       "    .dataframe thead th {\n",
       "        text-align: right;\n",
       "    }\n",
       "</style>\n",
       "<table border=\"1\" class=\"dataframe\">\n",
       "  <thead>\n",
       "    <tr style=\"text-align: right;\">\n",
       "      <th></th>\n",
       "      <th>actual</th>\n",
       "      <th>predicted</th>\n",
       "    </tr>\n",
       "  </thead>\n",
       "  <tbody>\n",
       "    <tr>\n",
       "      <th>6198</th>\n",
       "      <td>2.117881</td>\n",
       "      <td>2.043</td>\n",
       "    </tr>\n",
       "    <tr>\n",
       "      <th>113</th>\n",
       "      <td>3.501813</td>\n",
       "      <td>2.558</td>\n",
       "    </tr>\n",
       "    <tr>\n",
       "      <th>1098</th>\n",
       "      <td>1.004763</td>\n",
       "      <td>1.654</td>\n",
       "    </tr>\n",
       "    <tr>\n",
       "      <th>14490</th>\n",
       "      <td>1.265640</td>\n",
       "      <td>2.323</td>\n",
       "    </tr>\n",
       "    <tr>\n",
       "      <th>9916</th>\n",
       "      <td>3.498222</td>\n",
       "      <td>2.230</td>\n",
       "    </tr>\n",
       "    <tr>\n",
       "      <th>6183</th>\n",
       "      <td>0.414937</td>\n",
       "      <td>1.371</td>\n",
       "    </tr>\n",
       "    <tr>\n",
       "      <th>2707</th>\n",
       "      <td>2.817642</td>\n",
       "      <td>2.989</td>\n",
       "    </tr>\n",
       "    <tr>\n",
       "      <th>6480</th>\n",
       "      <td>3.349464</td>\n",
       "      <td>3.229</td>\n",
       "    </tr>\n",
       "    <tr>\n",
       "      <th>7938</th>\n",
       "      <td>1.869852</td>\n",
       "      <td>2.145</td>\n",
       "    </tr>\n",
       "    <tr>\n",
       "      <th>4953</th>\n",
       "      <td>2.541060</td>\n",
       "      <td>1.848</td>\n",
       "    </tr>\n",
       "    <tr>\n",
       "      <th>4462</th>\n",
       "      <td>1.719655</td>\n",
       "      <td>2.614</td>\n",
       "    </tr>\n",
       "    <tr>\n",
       "      <th>7933</th>\n",
       "      <td>3.463821</td>\n",
       "      <td>2.559</td>\n",
       "    </tr>\n",
       "    <tr>\n",
       "      <th>5720</th>\n",
       "      <td>1.447126</td>\n",
       "      <td>1.793</td>\n",
       "    </tr>\n",
       "    <tr>\n",
       "      <th>5024</th>\n",
       "      <td>1.213399</td>\n",
       "      <td>2.376</td>\n",
       "    </tr>\n",
       "    <tr>\n",
       "      <th>3475</th>\n",
       "      <td>1.087906</td>\n",
       "      <td>2.587</td>\n",
       "    </tr>\n",
       "    <tr>\n",
       "      <th>1190</th>\n",
       "      <td>2.872689</td>\n",
       "      <td>1.999</td>\n",
       "    </tr>\n",
       "    <tr>\n",
       "      <th>11773</th>\n",
       "      <td>0.432470</td>\n",
       "      <td>1.291</td>\n",
       "    </tr>\n",
       "    <tr>\n",
       "      <th>3128</th>\n",
       "      <td>1.370943</td>\n",
       "      <td>1.507</td>\n",
       "    </tr>\n",
       "    <tr>\n",
       "      <th>4646</th>\n",
       "      <td>1.292824</td>\n",
       "      <td>1.812</td>\n",
       "    </tr>\n",
       "    <tr>\n",
       "      <th>7106</th>\n",
       "      <td>1.179111</td>\n",
       "      <td>1.616</td>\n",
       "    </tr>\n",
       "    <tr>\n",
       "      <th>1103</th>\n",
       "      <td>1.808942</td>\n",
       "      <td>2.797</td>\n",
       "    </tr>\n",
       "    <tr>\n",
       "      <th>6805</th>\n",
       "      <td>1.114779</td>\n",
       "      <td>1.375</td>\n",
       "    </tr>\n",
       "    <tr>\n",
       "      <th>3176</th>\n",
       "      <td>3.159976</td>\n",
       "      <td>2.553</td>\n",
       "    </tr>\n",
       "    <tr>\n",
       "      <th>9208</th>\n",
       "      <td>3.124176</td>\n",
       "      <td>2.847</td>\n",
       "    </tr>\n",
       "    <tr>\n",
       "      <th>13510</th>\n",
       "      <td>1.409063</td>\n",
       "      <td>2.354</td>\n",
       "    </tr>\n",
       "    <tr>\n",
       "      <th>12881</th>\n",
       "      <td>3.486630</td>\n",
       "      <td>3.544</td>\n",
       "    </tr>\n",
       "    <tr>\n",
       "      <th>13463</th>\n",
       "      <td>2.982727</td>\n",
       "      <td>2.424</td>\n",
       "    </tr>\n",
       "    <tr>\n",
       "      <th>9022</th>\n",
       "      <td>1.598466</td>\n",
       "      <td>1.714</td>\n",
       "    </tr>\n",
       "    <tr>\n",
       "      <th>12262</th>\n",
       "      <td>1.722828</td>\n",
       "      <td>1.255</td>\n",
       "    </tr>\n",
       "    <tr>\n",
       "      <th>12291</th>\n",
       "      <td>0.869066</td>\n",
       "      <td>1.995</td>\n",
       "    </tr>\n",
       "  </tbody>\n",
       "</table>\n",
       "</div>"
      ],
      "text/plain": [
       "         actual  predicted\n",
       "6198   2.117881      2.043\n",
       "113    3.501813      2.558\n",
       "1098   1.004763      1.654\n",
       "14490  1.265640      2.323\n",
       "9916   3.498222      2.230\n",
       "6183   0.414937      1.371\n",
       "2707   2.817642      2.989\n",
       "6480   3.349464      3.229\n",
       "7938   1.869852      2.145\n",
       "4953   2.541060      1.848\n",
       "4462   1.719655      2.614\n",
       "7933   3.463821      2.559\n",
       "5720   1.447126      1.793\n",
       "5024   1.213399      2.376\n",
       "3475   1.087906      2.587\n",
       "1190   2.872689      1.999\n",
       "11773  0.432470      1.291\n",
       "3128   1.370943      1.507\n",
       "4646   1.292824      1.812\n",
       "7106   1.179111      1.616\n",
       "1103   1.808942      2.797\n",
       "6805   1.114779      1.375\n",
       "3176   3.159976      2.553\n",
       "9208   3.124176      2.847\n",
       "13510  1.409063      2.354\n",
       "12881  3.486630      3.544\n",
       "13463  2.982727      2.424\n",
       "9022   1.598466      1.714\n",
       "12262  1.722828      1.255\n",
       "12291  0.869066      1.995"
      ]
     },
     "execution_count": 154,
     "metadata": {},
     "output_type": "execute_result"
    }
   ],
   "source": [
    "# MSE of model 1\n",
    "mse1 = round(mean_squared_error(testy,p1),3)\n",
    "\n",
    "# compare the train and test errors\n",
    "#print(\"Training MSE = {}, Testing MSE ={}\". format(np.mean(cv_mse),mse1))\n",
    "\n",
    "# store the actual and predicted data for comparision\n",
    "df = pd.DataFrame({'actual':testy, 'predicted':round(p1,3)})\n",
    "df.head(30)"
   ]
  },
  {
   "cell_type": "code",
   "execution_count": 155,
   "metadata": {},
   "outputs": [
    {
     "data": {
      "text/plain": [
       "1.023"
      ]
     },
     "execution_count": 155,
     "metadata": {},
     "output_type": "execute_result"
    }
   ],
   "source": [
    "mse1"
   ]
  },
  {
   "cell_type": "code",
   "execution_count": 156,
   "metadata": {},
   "outputs": [
    {
     "data": {
      "text/plain": [
       "1.0114346246792225"
      ]
     },
     "execution_count": 156,
     "metadata": {},
     "output_type": "execute_result"
    }
   ],
   "source": [
    "import math\n",
    "\n",
    "math.sqrt(mse1)\n"
   ]
  },
  {
   "cell_type": "code",
   "execution_count": null,
   "metadata": {},
   "outputs": [],
   "source": [
    "######################################################################### "
   ]
  },
  {
   "cell_type": "markdown",
   "metadata": {},
   "source": [
    "# removing multicolinearity and building the model"
   ]
  },
  {
   "cell_type": "code",
   "execution_count": null,
   "metadata": {},
   "outputs": [],
   "source": []
  },
  {
   "cell_type": "code",
   "execution_count": 164,
   "metadata": {},
   "outputs": [
    {
     "data": {
      "text/html": [
       "<div>\n",
       "<style scoped>\n",
       "    .dataframe tbody tr th:only-of-type {\n",
       "        vertical-align: middle;\n",
       "    }\n",
       "\n",
       "    .dataframe tbody tr th {\n",
       "        vertical-align: top;\n",
       "    }\n",
       "\n",
       "    .dataframe thead th {\n",
       "        text-align: right;\n",
       "    }\n",
       "</style>\n",
       "<table border=\"1\" class=\"dataframe\">\n",
       "  <thead>\n",
       "    <tr style=\"text-align: right;\">\n",
       "      <th></th>\n",
       "      <th>tot_surf_area</th>\n",
       "      <th>npe_area</th>\n",
       "      <th>fa_enpr</th>\n",
       "      <th>fa_enppr</th>\n",
       "      <th>molmass_ea</th>\n",
       "      <th>avg_dev</th>\n",
       "      <th>euc_dist</th>\n",
       "      <th>sdc</th>\n",
       "      <th>RMSD1</th>\n",
       "    </tr>\n",
       "  </thead>\n",
       "  <tbody>\n",
       "    <tr>\n",
       "      <th>0</th>\n",
       "      <td>18775.10</td>\n",
       "      <td>5379.74</td>\n",
       "      <td>0.28653</td>\n",
       "      <td>253.3780</td>\n",
       "      <td>2.543981e+06</td>\n",
       "      <td>316.5880</td>\n",
       "      <td>5729.45</td>\n",
       "      <td>21.4332</td>\n",
       "      <td>1.001647</td>\n",
       "    </tr>\n",
       "    <tr>\n",
       "      <th>1</th>\n",
       "      <td>6577.95</td>\n",
       "      <td>2216.25</td>\n",
       "      <td>0.33692</td>\n",
       "      <td>61.6351</td>\n",
       "      <td>8.698915e+05</td>\n",
       "      <td>105.0430</td>\n",
       "      <td>2815.13</td>\n",
       "      <td>40.6875</td>\n",
       "      <td>2.756376</td>\n",
       "    </tr>\n",
       "    <tr>\n",
       "      <th>2</th>\n",
       "      <td>21164.30</td>\n",
       "      <td>7060.92</td>\n",
       "      <td>0.33362</td>\n",
       "      <td>254.7890</td>\n",
       "      <td>2.961051e+06</td>\n",
       "      <td>330.0660</td>\n",
       "      <td>5545.96</td>\n",
       "      <td>23.4201</td>\n",
       "      <td>1.438435</td>\n",
       "    </tr>\n",
       "    <tr>\n",
       "      <th>3</th>\n",
       "      <td>4843.80</td>\n",
       "      <td>1549.68</td>\n",
       "      <td>0.31993</td>\n",
       "      <td>45.3260</td>\n",
       "      <td>6.840279e+05</td>\n",
       "      <td>66.5513</td>\n",
       "      <td>2116.76</td>\n",
       "      <td>43.0780</td>\n",
       "      <td>1.424153</td>\n",
       "    </tr>\n",
       "    <tr>\n",
       "      <th>4</th>\n",
       "      <td>7828.61</td>\n",
       "      <td>1805.01</td>\n",
       "      <td>0.23056</td>\n",
       "      <td>67.0155</td>\n",
       "      <td>1.136108e+06</td>\n",
       "      <td>98.6349</td>\n",
       "      <td>3021.69</td>\n",
       "      <td>35.1075</td>\n",
       "      <td>1.184174</td>\n",
       "    </tr>\n",
       "    <tr>\n",
       "      <th>...</th>\n",
       "      <td>...</td>\n",
       "      <td>...</td>\n",
       "      <td>...</td>\n",
       "      <td>...</td>\n",
       "      <td>...</td>\n",
       "      <td>...</td>\n",
       "      <td>...</td>\n",
       "      <td>...</td>\n",
       "      <td>...</td>\n",
       "    </tr>\n",
       "    <tr>\n",
       "      <th>15215</th>\n",
       "      <td>5208.37</td>\n",
       "      <td>1211.11</td>\n",
       "      <td>0.23253</td>\n",
       "      <td>37.3163</td>\n",
       "      <td>7.195690e+05</td>\n",
       "      <td>53.8711</td>\n",
       "      <td>2179.13</td>\n",
       "      <td>42.9663</td>\n",
       "      <td>2.916510</td>\n",
       "    </tr>\n",
       "    <tr>\n",
       "      <th>15216</th>\n",
       "      <td>6373.14</td>\n",
       "      <td>1340.73</td>\n",
       "      <td>0.21037</td>\n",
       "      <td>55.2862</td>\n",
       "      <td>8.781791e+05</td>\n",
       "      <td>85.5822</td>\n",
       "      <td>2778.01</td>\n",
       "      <td>40.3261</td>\n",
       "      <td>0.221663</td>\n",
       "    </tr>\n",
       "    <tr>\n",
       "      <th>15217</th>\n",
       "      <td>9871.42</td>\n",
       "      <td>2768.37</td>\n",
       "      <td>0.28044</td>\n",
       "      <td>96.7039</td>\n",
       "      <td>1.398243e+06</td>\n",
       "      <td>116.0890</td>\n",
       "      <td>3700.61</td>\n",
       "      <td>34.8643</td>\n",
       "      <td>3.357752</td>\n",
       "    </tr>\n",
       "    <tr>\n",
       "      <th>15218</th>\n",
       "      <td>9452.72</td>\n",
       "      <td>2370.81</td>\n",
       "      <td>0.25080</td>\n",
       "      <td>100.9520</td>\n",
       "      <td>1.332037e+06</td>\n",
       "      <td>142.9400</td>\n",
       "      <td>3935.91</td>\n",
       "      <td>33.4059</td>\n",
       "      <td>0.636226</td>\n",
       "    </tr>\n",
       "    <tr>\n",
       "      <th>15219</th>\n",
       "      <td>9211.97</td>\n",
       "      <td>2877.44</td>\n",
       "      <td>0.31235</td>\n",
       "      <td>106.6190</td>\n",
       "      <td>1.280889e+06</td>\n",
       "      <td>129.1750</td>\n",
       "      <td>3885.18</td>\n",
       "      <td>33.9044</td>\n",
       "      <td>1.002984</td>\n",
       "    </tr>\n",
       "  </tbody>\n",
       "</table>\n",
       "<p>15130 rows × 9 columns</p>\n",
       "</div>"
      ],
      "text/plain": [
       "       tot_surf_area  npe_area  fa_enpr  fa_enppr    molmass_ea   avg_dev  euc_dist      sdc     RMSD1\n",
       "0           18775.10   5379.74  0.28653  253.3780  2.543981e+06  316.5880   5729.45  21.4332  1.001647\n",
       "1            6577.95   2216.25  0.33692   61.6351  8.698915e+05  105.0430   2815.13  40.6875  2.756376\n",
       "2           21164.30   7060.92  0.33362  254.7890  2.961051e+06  330.0660   5545.96  23.4201  1.438435\n",
       "3            4843.80   1549.68  0.31993   45.3260  6.840279e+05   66.5513   2116.76  43.0780  1.424153\n",
       "4            7828.61   1805.01  0.23056   67.0155  1.136108e+06   98.6349   3021.69  35.1075  1.184174\n",
       "...              ...       ...      ...       ...           ...       ...       ...      ...       ...\n",
       "15215        5208.37   1211.11  0.23253   37.3163  7.195690e+05   53.8711   2179.13  42.9663  2.916510\n",
       "15216        6373.14   1340.73  0.21037   55.2862  8.781791e+05   85.5822   2778.01  40.3261  0.221663\n",
       "15217        9871.42   2768.37  0.28044   96.7039  1.398243e+06  116.0890   3700.61  34.8643  3.357752\n",
       "15218        9452.72   2370.81  0.25080  100.9520  1.332037e+06  142.9400   3935.91  33.4059  0.636226\n",
       "15219        9211.97   2877.44  0.31235  106.6190  1.280889e+06  129.1750   3885.18  33.9044  1.002984\n",
       "\n",
       "[15130 rows x 9 columns]"
      ]
     },
     "execution_count": 164,
     "metadata": {},
     "output_type": "execute_result"
    }
   ],
   "source": [
    "\n",
    "prot"
   ]
  },
  {
   "cell_type": "code",
   "execution_count": 167,
   "metadata": {},
   "outputs": [
    {
     "data": {
      "text/html": [
       "<div>\n",
       "<style scoped>\n",
       "    .dataframe tbody tr th:only-of-type {\n",
       "        vertical-align: middle;\n",
       "    }\n",
       "\n",
       "    .dataframe tbody tr th {\n",
       "        vertical-align: top;\n",
       "    }\n",
       "\n",
       "    .dataframe thead th {\n",
       "        text-align: right;\n",
       "    }\n",
       "</style>\n",
       "<table border=\"1\" class=\"dataframe\">\n",
       "  <thead>\n",
       "    <tr style=\"text-align: right;\">\n",
       "      <th></th>\n",
       "      <th>fa_enpr</th>\n",
       "      <th>euc_dist</th>\n",
       "      <th>sdc</th>\n",
       "    </tr>\n",
       "  </thead>\n",
       "  <tbody>\n",
       "    <tr>\n",
       "      <th>0</th>\n",
       "      <td>0.28653</td>\n",
       "      <td>5729.45</td>\n",
       "      <td>21.4332</td>\n",
       "    </tr>\n",
       "    <tr>\n",
       "      <th>1</th>\n",
       "      <td>0.33692</td>\n",
       "      <td>2815.13</td>\n",
       "      <td>40.6875</td>\n",
       "    </tr>\n",
       "    <tr>\n",
       "      <th>2</th>\n",
       "      <td>0.33362</td>\n",
       "      <td>5545.96</td>\n",
       "      <td>23.4201</td>\n",
       "    </tr>\n",
       "    <tr>\n",
       "      <th>3</th>\n",
       "      <td>0.31993</td>\n",
       "      <td>2116.76</td>\n",
       "      <td>43.0780</td>\n",
       "    </tr>\n",
       "    <tr>\n",
       "      <th>4</th>\n",
       "      <td>0.23056</td>\n",
       "      <td>3021.69</td>\n",
       "      <td>35.1075</td>\n",
       "    </tr>\n",
       "    <tr>\n",
       "      <th>...</th>\n",
       "      <td>...</td>\n",
       "      <td>...</td>\n",
       "      <td>...</td>\n",
       "    </tr>\n",
       "    <tr>\n",
       "      <th>15215</th>\n",
       "      <td>0.23253</td>\n",
       "      <td>2179.13</td>\n",
       "      <td>42.9663</td>\n",
       "    </tr>\n",
       "    <tr>\n",
       "      <th>15216</th>\n",
       "      <td>0.21037</td>\n",
       "      <td>2778.01</td>\n",
       "      <td>40.3261</td>\n",
       "    </tr>\n",
       "    <tr>\n",
       "      <th>15217</th>\n",
       "      <td>0.28044</td>\n",
       "      <td>3700.61</td>\n",
       "      <td>34.8643</td>\n",
       "    </tr>\n",
       "    <tr>\n",
       "      <th>15218</th>\n",
       "      <td>0.25080</td>\n",
       "      <td>3935.91</td>\n",
       "      <td>33.4059</td>\n",
       "    </tr>\n",
       "    <tr>\n",
       "      <th>15219</th>\n",
       "      <td>0.31235</td>\n",
       "      <td>3885.18</td>\n",
       "      <td>33.9044</td>\n",
       "    </tr>\n",
       "  </tbody>\n",
       "</table>\n",
       "<p>15130 rows × 3 columns</p>\n",
       "</div>"
      ],
      "text/plain": [
       "       fa_enpr  euc_dist      sdc\n",
       "0      0.28653   5729.45  21.4332\n",
       "1      0.33692   2815.13  40.6875\n",
       "2      0.33362   5545.96  23.4201\n",
       "3      0.31993   2116.76  43.0780\n",
       "4      0.23056   3021.69  35.1075\n",
       "...        ...       ...      ...\n",
       "15215  0.23253   2179.13  42.9663\n",
       "15216  0.21037   2778.01  40.3261\n",
       "15217  0.28044   3700.61  34.8643\n",
       "15218  0.25080   3935.91  33.4059\n",
       "15219  0.31235   3885.18  33.9044\n",
       "\n",
       "[15130 rows x 3 columns]"
      ]
     },
     "execution_count": 167,
     "metadata": {},
     "output_type": "execute_result"
    }
   ],
   "source": [
    "\n",
    "df1 =prot[['fa_enpr', 'euc_dist','sdc']]\n",
    "df1\n"
   ]
  },
  {
   "cell_type": "code",
   "execution_count": 168,
   "metadata": {},
   "outputs": [
    {
     "name": "stderr",
     "output_type": "stream",
     "text": [
      "C:\\Users\\mayur\\anaconda3\\lib\\site-packages\\ipykernel_launcher.py:1: SettingWithCopyWarning: \n",
      "A value is trying to be set on a copy of a slice from a DataFrame.\n",
      "Try using .loc[row_indexer,col_indexer] = value instead\n",
      "\n",
      "See the caveats in the documentation: https://pandas.pydata.org/pandas-docs/stable/user_guide/indexing.html#returning-a-view-versus-a-copy\n",
      "  \"\"\"Entry point for launching an IPython kernel.\n"
     ]
    },
    {
     "data": {
      "text/html": [
       "<div>\n",
       "<style scoped>\n",
       "    .dataframe tbody tr th:only-of-type {\n",
       "        vertical-align: middle;\n",
       "    }\n",
       "\n",
       "    .dataframe tbody tr th {\n",
       "        vertical-align: top;\n",
       "    }\n",
       "\n",
       "    .dataframe thead th {\n",
       "        text-align: right;\n",
       "    }\n",
       "</style>\n",
       "<table border=\"1\" class=\"dataframe\">\n",
       "  <thead>\n",
       "    <tr style=\"text-align: right;\">\n",
       "      <th></th>\n",
       "      <th>fa_enpr</th>\n",
       "      <th>euc_dist</th>\n",
       "      <th>sdc</th>\n",
       "      <th>RMSD1</th>\n",
       "    </tr>\n",
       "  </thead>\n",
       "  <tbody>\n",
       "    <tr>\n",
       "      <th>0</th>\n",
       "      <td>0.28653</td>\n",
       "      <td>5729.45</td>\n",
       "      <td>21.4332</td>\n",
       "      <td>1.001647</td>\n",
       "    </tr>\n",
       "    <tr>\n",
       "      <th>1</th>\n",
       "      <td>0.33692</td>\n",
       "      <td>2815.13</td>\n",
       "      <td>40.6875</td>\n",
       "      <td>2.756376</td>\n",
       "    </tr>\n",
       "    <tr>\n",
       "      <th>2</th>\n",
       "      <td>0.33362</td>\n",
       "      <td>5545.96</td>\n",
       "      <td>23.4201</td>\n",
       "      <td>1.438435</td>\n",
       "    </tr>\n",
       "    <tr>\n",
       "      <th>3</th>\n",
       "      <td>0.31993</td>\n",
       "      <td>2116.76</td>\n",
       "      <td>43.0780</td>\n",
       "      <td>1.424153</td>\n",
       "    </tr>\n",
       "    <tr>\n",
       "      <th>4</th>\n",
       "      <td>0.23056</td>\n",
       "      <td>3021.69</td>\n",
       "      <td>35.1075</td>\n",
       "      <td>1.184174</td>\n",
       "    </tr>\n",
       "    <tr>\n",
       "      <th>...</th>\n",
       "      <td>...</td>\n",
       "      <td>...</td>\n",
       "      <td>...</td>\n",
       "      <td>...</td>\n",
       "    </tr>\n",
       "    <tr>\n",
       "      <th>15215</th>\n",
       "      <td>0.23253</td>\n",
       "      <td>2179.13</td>\n",
       "      <td>42.9663</td>\n",
       "      <td>2.916510</td>\n",
       "    </tr>\n",
       "    <tr>\n",
       "      <th>15216</th>\n",
       "      <td>0.21037</td>\n",
       "      <td>2778.01</td>\n",
       "      <td>40.3261</td>\n",
       "      <td>0.221663</td>\n",
       "    </tr>\n",
       "    <tr>\n",
       "      <th>15217</th>\n",
       "      <td>0.28044</td>\n",
       "      <td>3700.61</td>\n",
       "      <td>34.8643</td>\n",
       "      <td>3.357752</td>\n",
       "    </tr>\n",
       "    <tr>\n",
       "      <th>15218</th>\n",
       "      <td>0.25080</td>\n",
       "      <td>3935.91</td>\n",
       "      <td>33.4059</td>\n",
       "      <td>0.636226</td>\n",
       "    </tr>\n",
       "    <tr>\n",
       "      <th>15219</th>\n",
       "      <td>0.31235</td>\n",
       "      <td>3885.18</td>\n",
       "      <td>33.9044</td>\n",
       "      <td>1.002984</td>\n",
       "    </tr>\n",
       "  </tbody>\n",
       "</table>\n",
       "<p>15130 rows × 4 columns</p>\n",
       "</div>"
      ],
      "text/plain": [
       "       fa_enpr  euc_dist      sdc     RMSD1\n",
       "0      0.28653   5729.45  21.4332  1.001647\n",
       "1      0.33692   2815.13  40.6875  2.756376\n",
       "2      0.33362   5545.96  23.4201  1.438435\n",
       "3      0.31993   2116.76  43.0780  1.424153\n",
       "4      0.23056   3021.69  35.1075  1.184174\n",
       "...        ...       ...      ...       ...\n",
       "15215  0.23253   2179.13  42.9663  2.916510\n",
       "15216  0.21037   2778.01  40.3261  0.221663\n",
       "15217  0.28044   3700.61  34.8643  3.357752\n",
       "15218  0.25080   3935.91  33.4059  0.636226\n",
       "15219  0.31235   3885.18  33.9044  1.002984\n",
       "\n",
       "[15130 rows x 4 columns]"
      ]
     },
     "execution_count": 168,
     "metadata": {},
     "output_type": "execute_result"
    }
   ],
   "source": [
    "df1['RMSD1']=RMSD_values\n",
    "df1"
   ]
  },
  {
   "cell_type": "code",
   "execution_count": 169,
   "metadata": {},
   "outputs": [],
   "source": [
    "trainx,testx,trainy,testy = train_test_split(df1.drop('RMSD1',axis=1),df1['RMSD1'],test_size =0.3)"
   ]
  },
  {
   "cell_type": "code",
   "execution_count": 170,
   "metadata": {},
   "outputs": [
    {
     "name": "stdout",
     "output_type": "stream",
     "text": [
      "trainx=(10591, 3),trainy=(10591,),testx=(4539, 3),testy =(4539,)\n"
     ]
    }
   ],
   "source": [
    "print(\"trainx={},trainy={},testx={},testy ={}\".format(trainx.shape,trainy.shape,testx.shape,testy.shape))"
   ]
  },
  {
   "cell_type": "code",
   "execution_count": 174,
   "metadata": {},
   "outputs": [],
   "source": [
    "m1=  sm.OLS(trainy,trainx).fit()"
   ]
  },
  {
   "cell_type": "code",
   "execution_count": 175,
   "metadata": {},
   "outputs": [
    {
     "data": {
      "text/html": [
       "<table class=\"simpletable\">\n",
       "<caption>OLS Regression Results</caption>\n",
       "<tr>\n",
       "  <th>Dep. Variable:</th>          <td>RMSD1</td>      <th>  R-squared:         </th> <td>   0.163</td> \n",
       "</tr>\n",
       "<tr>\n",
       "  <th>Model:</th>                   <td>OLS</td>       <th>  Adj. R-squared:    </th> <td>   0.162</td> \n",
       "</tr>\n",
       "<tr>\n",
       "  <th>Method:</th>             <td>Least Squares</td>  <th>  F-statistic:       </th> <td>   685.1</td> \n",
       "</tr>\n",
       "<tr>\n",
       "  <th>Date:</th>             <td>Fri, 12 Mar 2021</td> <th>  Prob (F-statistic):</th>  <td>  0.00</td>  \n",
       "</tr>\n",
       "<tr>\n",
       "  <th>Time:</th>                 <td>15:57:42</td>     <th>  Log-Likelihood:    </th> <td> -15839.</td> \n",
       "</tr>\n",
       "<tr>\n",
       "  <th>No. Observations:</th>      <td> 10591</td>      <th>  AIC:               </th> <td>3.169e+04</td>\n",
       "</tr>\n",
       "<tr>\n",
       "  <th>Df Residuals:</th>          <td> 10587</td>      <th>  BIC:               </th> <td>3.172e+04</td>\n",
       "</tr>\n",
       "<tr>\n",
       "  <th>Df Model:</th>              <td>     3</td>      <th>                     </th>     <td> </td>    \n",
       "</tr>\n",
       "<tr>\n",
       "  <th>Covariance Type:</th>      <td>nonrobust</td>    <th>                     </th>     <td> </td>    \n",
       "</tr>\n",
       "</table>\n",
       "<table class=\"simpletable\">\n",
       "<tr>\n",
       "      <td></td>        <th>coef</th>     <th>std err</th>      <th>t</th>      <th>P>|t|</th>  <th>[0.025</th>    <th>0.975]</th>  \n",
       "</tr>\n",
       "<tr>\n",
       "  <th>const</th>    <td>   -1.2150</td> <td>    0.108</td> <td>  -11.284</td> <td> 0.000</td> <td>   -1.426</td> <td>   -1.004</td>\n",
       "</tr>\n",
       "<tr>\n",
       "  <th>fa_enpr</th>  <td>    7.3943</td> <td>    0.169</td> <td>   43.699</td> <td> 0.000</td> <td>    7.063</td> <td>    7.726</td>\n",
       "</tr>\n",
       "<tr>\n",
       "  <th>euc_dist</th> <td> 7.649e-06</td> <td> 7.42e-06</td> <td>    1.031</td> <td> 0.303</td> <td> -6.9e-06</td> <td> 2.22e-05</td>\n",
       "</tr>\n",
       "<tr>\n",
       "  <th>sdc</th>      <td>    0.0262</td> <td>    0.002</td> <td>   12.067</td> <td> 0.000</td> <td>    0.022</td> <td>    0.030</td>\n",
       "</tr>\n",
       "</table>\n",
       "<table class=\"simpletable\">\n",
       "<tr>\n",
       "  <th>Omnibus:</th>       <td>1573.832</td> <th>  Durbin-Watson:     </th> <td>   1.986</td>\n",
       "</tr>\n",
       "<tr>\n",
       "  <th>Prob(Omnibus):</th>  <td> 0.000</td>  <th>  Jarque-Bera (JB):  </th> <td> 374.900</td>\n",
       "</tr>\n",
       "<tr>\n",
       "  <th>Skew:</th>           <td> 0.051</td>  <th>  Prob(JB):          </th> <td>3.90e-82</td>\n",
       "</tr>\n",
       "<tr>\n",
       "  <th>Kurtosis:</th>       <td> 2.084</td>  <th>  Cond. No.          </th> <td>7.41e+04</td>\n",
       "</tr>\n",
       "</table><br/><br/>Warnings:<br/>[1] Standard Errors assume that the covariance matrix of the errors is correctly specified.<br/>[2] The condition number is large, 7.41e+04. This might indicate that there are<br/>strong multicollinearity or other numerical problems."
      ],
      "text/plain": [
       "<class 'statsmodels.iolib.summary.Summary'>\n",
       "\"\"\"\n",
       "                            OLS Regression Results                            \n",
       "==============================================================================\n",
       "Dep. Variable:                  RMSD1   R-squared:                       0.163\n",
       "Model:                            OLS   Adj. R-squared:                  0.162\n",
       "Method:                 Least Squares   F-statistic:                     685.1\n",
       "Date:                Fri, 12 Mar 2021   Prob (F-statistic):               0.00\n",
       "Time:                        15:57:42   Log-Likelihood:                -15839.\n",
       "No. Observations:               10591   AIC:                         3.169e+04\n",
       "Df Residuals:                   10587   BIC:                         3.172e+04\n",
       "Df Model:                           3                                         \n",
       "Covariance Type:            nonrobust                                         \n",
       "==============================================================================\n",
       "                 coef    std err          t      P>|t|      [0.025      0.975]\n",
       "------------------------------------------------------------------------------\n",
       "const         -1.2150      0.108    -11.284      0.000      -1.426      -1.004\n",
       "fa_enpr        7.3943      0.169     43.699      0.000       7.063       7.726\n",
       "euc_dist    7.649e-06   7.42e-06      1.031      0.303    -6.9e-06    2.22e-05\n",
       "sdc            0.0262      0.002     12.067      0.000       0.022       0.030\n",
       "==============================================================================\n",
       "Omnibus:                     1573.832   Durbin-Watson:                   1.986\n",
       "Prob(Omnibus):                  0.000   Jarque-Bera (JB):              374.900\n",
       "Skew:                           0.051   Prob(JB):                     3.90e-82\n",
       "Kurtosis:                       2.084   Cond. No.                     7.41e+04\n",
       "==============================================================================\n",
       "\n",
       "Warnings:\n",
       "[1] Standard Errors assume that the covariance matrix of the errors is correctly specified.\n",
       "[2] The condition number is large, 7.41e+04. This might indicate that there are\n",
       "strong multicollinearity or other numerical problems.\n",
       "\"\"\""
      ]
     },
     "execution_count": 175,
     "metadata": {},
     "output_type": "execute_result"
    }
   ],
   "source": [
    "m1.summary()"
   ]
  },
  {
   "cell_type": "code",
   "execution_count": 176,
   "metadata": {},
   "outputs": [
    {
     "name": "stdout",
     "output_type": "stream",
     "text": [
      "1.3494106722715694e-11\n"
     ]
    }
   ],
   "source": [
    "#validation of LR assumptions\n",
    "#1) mean of residuals =0\n",
    "print(m1.resid.mean())"
   ]
  },
  {
   "cell_type": "code",
   "execution_count": 177,
   "metadata": {},
   "outputs": [
    {
     "data": {
      "text/plain": [
       "0.16257088360211258"
      ]
     },
     "execution_count": 177,
     "metadata": {},
     "output_type": "execute_result"
    }
   ],
   "source": [
    "m1.rsquared\n"
   ]
  },
  {
   "cell_type": "code",
   "execution_count": 178,
   "metadata": {},
   "outputs": [
    {
     "data": {
      "text/plain": [
       "0.16233358433421863"
      ]
     },
     "execution_count": 178,
     "metadata": {},
     "output_type": "execute_result"
    }
   ],
   "source": [
    "m1.rsquared_adj"
   ]
  },
  {
   "cell_type": "code",
   "execution_count": 179,
   "metadata": {},
   "outputs": [
    {
     "data": {
      "text/plain": [
       "<matplotlib.axes._subplots.AxesSubplot at 0x1f1867fc088>"
      ]
     },
     "execution_count": 179,
     "metadata": {},
     "output_type": "execute_result"
    },
    {
     "data": {
      "image/png": "[encoded data removed]",
      "text/plain": [
       "<Figure size 432x288 with 1 Axes>"
      ]
     },
     "metadata": {},
     "output_type": "display_data"
    }
   ],
   "source": [
    "#2) residuals have constant variance(homoscedasticity)\n",
    "#plot the graph   #spread of errors\n",
    "#lowess -> locally weighted scatterplot smoothing\n",
    "yhat = m1.predict(trainx)\n",
    "sns.set(style = \"whitegrid\")\n",
    "sns.residplot(m1.resid,yhat,lowess=True,color='g')"
   ]
  },
  {
   "cell_type": "code",
   "execution_count": 180,
   "metadata": {},
   "outputs": [
    {
     "name": "stdout",
     "output_type": "stream",
     "text": [
      "Reject H0. Model is Heteroscedastic\n"
     ]
    }
   ],
   "source": [
    "#bruesch-pagan test against hetroscedasticity\n",
    "import statsmodels.stats.api as sms\n",
    "\n",
    "#H0: homoscedasticity\n",
    "#H1:  hetroscedasticity\n",
    "\n",
    "#return value of breusch pagan\n",
    "#lagrange_multiplier , pvalue, fscore, fp-value\n",
    "\n",
    "#parameters: [residuals,x-arrays]\n",
    "pval = sms.het_breuschpagan(m1.resid,m1.model.exog)[1]\n",
    "\n",
    "if pval<0.05:\n",
    "    print(\"Reject H0. Model is Heteroscedastic\")\n",
    "else:\n",
    "    print(\"FTR H0. Model is Homoscedastic\")\n"
   ]
  },
  {
   "cell_type": "code",
   "execution_count": 181,
   "metadata": {},
   "outputs": [
    {
     "data": {
      "image/png": "[encoded data removed]",
      "text/plain": [
       "<Figure size 432x288 with 1 Axes>"
      ]
     },
     "metadata": {},
     "output_type": "display_data"
    }
   ],
   "source": [
    "#3) residuals have a normal distribution\n",
    "stats.probplot(m1.resid,dist='norm',plot=pylab)\n",
    "pylab.show()"
   ]
  },
  {
   "cell_type": "code",
   "execution_count": 182,
   "metadata": {},
   "outputs": [
    {
     "data": {
      "text/plain": [
       "<matplotlib.axes._subplots.AxesSubplot at 0x1f1868e2508>"
      ]
     },
     "execution_count": 182,
     "metadata": {},
     "output_type": "execute_result"
    },
    {
     "data": {
      "image/png": "[encoded data removed]",
      "text/plain": [
       "<Figure size 432x288 with 1 Axes>"
      ]
     },
     "metadata": {},
     "output_type": "display_data"
    }
   ],
   "source": [
    "#plot the actual and predicted values\n",
    "ax1=sns.distplot(testy,hist=False,color='blue',label ='Actual')\n",
    "sns.distplot(p1,hist=False,color='red',label='predicted',ax=ax1)"
   ]
  },
  {
   "cell_type": "code",
   "execution_count": 183,
   "metadata": {},
   "outputs": [
    {
     "data": {
      "text/plain": [
       "0        1.001647\n",
       "1        2.756376\n",
       "2        1.438435\n",
       "3        1.424153\n",
       "4        1.184174\n",
       "           ...   \n",
       "15215    2.916510\n",
       "15216    0.221663\n",
       "15217    3.357752\n",
       "15218    0.636226\n",
       "15219    1.002984\n",
       "Name: RMSD1, Length: 15130, dtype: float64"
      ]
     },
     "execution_count": 183,
     "metadata": {},
     "output_type": "execute_result"
    }
   ],
   "source": [
    "   prot['RMSD1']"
   ]
  },
  {
   "cell_type": "code",
   "execution_count": 184,
   "metadata": {},
   "outputs": [
    {
     "data": {
      "text/plain": [
       "Text(0, 0.5, 'Total orders')"
      ]
     },
     "execution_count": 184,
     "metadata": {},
     "output_type": "execute_result"
    },
    {
     "data": {
      "image/png": "[encoded data removed]",
      "text/plain": [
       "<Figure size 432x288 with 1 Axes>"
      ]
     },
     "metadata": {},
     "output_type": "display_data"
    }
   ],
   "source": [
    "#6) Distribution plot \n",
    "sns.distplot(prot.RMSD1,hist=True,color='r',label='Quantity')\n",
    "plt.title('Quantity Distribution')\n",
    "plt.xlabel('Quantity')\n",
    "plt.ylabel('Total orders')"
   ]
  },
  {
   "cell_type": "code",
   "execution_count": 1,
   "metadata": {},
   "outputs": [
    {
     "ename": "NameError",
     "evalue": "name 'X' is not defined",
     "output_type": "error",
     "traceback": [
      "\u001b[1;31m---------------------------------------------------------------------------\u001b[0m",
      "\u001b[1;31mNameError\u001b[0m                                 Traceback (most recent call last)",
      "\u001b[1;32m<ipython-input-1-a04b957d04af>\u001b[0m in \u001b[0;36m<module>\u001b[1;34m\u001b[0m\n\u001b[0;32m      4\u001b[0m \u001b[1;32mimport\u001b[0m \u001b[0mmatplotlib\u001b[0m\u001b[1;33m.\u001b[0m\u001b[0mpyplot\u001b[0m \u001b[1;32mas\u001b[0m \u001b[0mplt\u001b[0m\u001b[1;33m\u001b[0m\u001b[1;33m\u001b[0m\u001b[0m\n\u001b[0;32m      5\u001b[0m \u001b[0mmodel\u001b[0m \u001b[1;33m=\u001b[0m \u001b[0mExtraTreesRegressor\u001b[0m\u001b[1;33m(\u001b[0m\u001b[1;33m)\u001b[0m\u001b[1;33m\u001b[0m\u001b[1;33m\u001b[0m\u001b[0m\n\u001b[1;32m----> 6\u001b[1;33m \u001b[0mmodel\u001b[0m\u001b[1;33m.\u001b[0m\u001b[0mfit\u001b[0m\u001b[1;33m(\u001b[0m\u001b[0mX\u001b[0m\u001b[1;33m,\u001b[0m\u001b[0my\u001b[0m\u001b[1;33m)\u001b[0m\u001b[1;33m\u001b[0m\u001b[1;33m\u001b[0m\u001b[0m\n\u001b[0m",
      "\u001b[1;31mNameError\u001b[0m: name 'X' is not defined"
     ]
    }
   ],
   "source": [
    "### Feature Importance\n",
    "\n",
    "from sklearn.ensemble import ExtraTreesRegressor\n",
    "import matplotlib.pyplot as plt\n",
    "model = ExtraTreesRegressor()\n",
    "model.fit(X,y)"
   ]
  },
  {
   "cell_type": "code",
   "execution_count": null,
   "metadata": {},
   "outputs": [],
   "source": [
    "#Scatter Plot\n",
    "import matplotlib.pyplot as plt\n",
    "\n",
    "x = [5,7,8,7,2,17,2,9,4,11,12,9,6]\n",
    "y = [99,86,87,88,111,86,103,87,94,78,77,85,86]\n",
    "\n",
    "plt.scatter(x, y)\n",
    "plt.show()"
   ]
  }
 ],
 "metadata": {
  "kernelspec": {
   "display_name": "Python 3",
   "language": "python",
   "name": "python3"
  },
  "language_info": {
   "codemirror_mode": {
    "name": "ipython",
    "version": 3
   },
   "file_extension": ".py",
   "mimetype": "text/x-python",
   "name": "python",
   "nbconvert_exporter": "python",
   "pygments_lexer": "ipython3",
   "version": "3.7.6"
  }
 },
 "nbformat": 4,
 "nbformat_minor": 4
}
